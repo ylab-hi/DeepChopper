{
 "cells": [
  {
   "cell_type": "code",
   "execution_count": null,
   "id": "0",
   "metadata": {},
   "outputs": [],
   "source": [
    "from datasets import Dataset as HuggingFaceDataset\n",
    "from datasets import load_dataset\n",
    "\n",
    "from deepchopper.data.only_fq import parse_fastq_file\n",
    "\n",
    "\n",
    "def main():\n",
    "    parquet_dataset = load_dataset(\"parquet\", data_files={\"predict\": \"./tmp/raw_no_trim.parquet\"})[\n",
    "        \"predict\"\n",
    "    ]\n",
    "    iter_dataset = {\n",
    "        i[\"id\"]: i\n",
    "        for i in HuggingFaceDataset.from_generator(\n",
    "            parse_fastq_file,\n",
    "            gen_kwargs={\"file_path\": \"./tmp/raw_no_trim.fastq\", \"has_targets\": False},\n",
    "        ).with_format(\"torch\")\n",
    "    }\n",
    "\n",
    "    for key, value in parquet_dataset.items():\n",
    "        print(f\"comparing {key}\")\n",
    "\n",
    "        if key not in iter_dataset:\n",
    "            print(f\"{key} not in iter_dataset\")\n",
    "            break\n",
    "        if iter_dataset[key][\"seq\"] != value[\"seq\"]:\n",
    "            print(f\"{key} seq not match\")\n",
    "            break\n",
    "\n",
    "        if iter_dataset[key][\"qual\"] != value[\"qual\"]:\n",
    "            print(f\"{key} qual not match\")\n",
    "            break"
   ]
  },
  {
   "cell_type": "code",
   "execution_count": null,
   "id": "1",
   "metadata": {},
   "outputs": [],
   "source": [
    "parquet_dataset = {\n",
    "    i[\"id\"]: i\n",
    "    for i in load_dataset(\"parquet\", data_files={\"predict\": \"../tmp/raw_no_trim.parquet\"})[\n",
    "        \"predict\"\n",
    "    ]\n",
    "}"
   ]
  },
  {
   "cell_type": "code",
   "execution_count": null,
   "id": "2",
   "metadata": {},
   "outputs": [],
   "source": [
    "iter_dataset = {\n",
    "    i[\"id\"]: i\n",
    "    for i in HuggingFaceDataset.from_generator(\n",
    "        parse_fastq_file,\n",
    "        gen_kwargs={\"file_path\": \"../tmp/raw_no_trim.fastq\", \"has_targets\": False},\n",
    "    )\n",
    "}"
   ]
  },
  {
   "cell_type": "code",
   "execution_count": null,
   "id": "3",
   "metadata": {},
   "outputs": [],
   "source": [
    "iter_dataset"
   ]
  },
  {
   "cell_type": "code",
   "execution_count": null,
   "id": "4",
   "metadata": {},
   "outputs": [],
   "source": [
    "for key, value in parquet_dataset.items():\n",
    "\n",
    "    if key not in iter_dataset:\n",
    "        print(f\"{key} not in iter_dataset\")\n",
    "\n",
    "    if iter_dataset[key][\"seq\"] != value[\"seq\"]:\n",
    "        print(f\"{key} seq not match\")\n",
    "\n",
    "    if iter_dataset[key][\"qual\"] != value[\"qual\"]:\n",
    "        print(f\"{key} qual not match\")\n",
    "        print(iter_dataset[key][\"qual\"])\n",
    "        print(value[\"qual\"])"
   ]
  },
  {
   "cell_type": "code",
   "execution_count": null,
   "id": "5",
   "metadata": {},
   "outputs": [],
   "source": []
  }
 ],
 "metadata": {
  "kernelspec": {
   "display_name": ".venv",
   "language": "python",
   "name": "python3"
  },
  "language_info": {
   "codemirror_mode": {
    "name": "ipython",
    "version": 3
   },
   "file_extension": ".py",
   "mimetype": "text/x-python",
   "name": "python",
   "nbconvert_exporter": "python",
   "pygments_lexer": "ipython3",
   "version": "3.10.13"
  }
 },
 "nbformat": 4,
 "nbformat_minor": 5
}
