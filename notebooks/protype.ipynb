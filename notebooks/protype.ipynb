{
 "cells": [
  {
   "cell_type": "code",
   "execution_count": null,
   "id": "0",
   "metadata": {},
   "outputs": [],
   "source": [
    "import tokenizers\n",
    "import torch\n",
    "from datasets import load_dataset\n",
    "\n",
    "import deepchopper\n",
    "from deepchopper.models import KmerPreTokenizer"
   ]
  },
  {
   "cell_type": "code",
   "execution_count": null,
   "id": "1",
   "metadata": {},
   "outputs": [],
   "source": [
    "from IPython.core.interactiveshell import InteractiveShell\n",
    "\n",
    "InteractiveShell.ast_node_interactivity = \"all\""
   ]
  },
  {
   "cell_type": "code",
   "execution_count": null,
   "id": "2",
   "metadata": {},
   "outputs": [],
   "source": [
    "from tokenizers import NormalizedString, PreTokenizedString, Regex, Tokenizer\n",
    "from tokenizers.decoders import Decoder\n",
    "from tokenizers.models import BPE\n",
    "from tokenizers.normalizers import Normalizer\n",
    "from tokenizers.pre_tokenizers import PreTokenizer\n",
    "\n",
    "import deepchopper\n",
    "\n",
    "\n",
    "def compute_tokens_to_ids(kmer_size: int) -> tuple[dict[str, int], list[str]]:\n",
    "    kmers_tokens = deepchopper.generate_kmers(deepchopper.default.BASES, kmer_size)\n",
    "    standard_tokens = kmers_tokens\n",
    "\n",
    "    unknown_token = \"<UNK>\"\n",
    "    padding_token = \"<PAD>\"\n",
    "    eos_token = \"<EOS>\"\n",
    "    bos_token = \"<BOS>\"\n",
    "    sep_token = \"<SEP>\"\n",
    "\n",
    "    specical_tokens = [padding_token, unknown_token, eos_token, bos_token, sep_token]\n",
    "    all_tokens = standard_tokens + specical_tokens\n",
    "    tokens_to_ids = {tok: i for i, tok in enumerate(all_tokens)}\n",
    "    return tokens_to_ids, all_tokens\n",
    "\n",
    "\n",
    "class KmerPreTokenizer:\n",
    "    def __init__(self, kmer_size: int, *, overlap: bool):\n",
    "        self.kmer_size = kmer_size\n",
    "        self.overlap = overlap\n",
    "\n",
    "    def kmer_split(self, i: int, normalized_string: NormalizedString) -> list[NormalizedString]:\n",
    "        return [\n",
    "            normalized_string[start:end]\n",
    "            for (_token, (start, end)) in deepchopper.seq_to_kmers_and_offset(\n",
    "                sequence, self.kmer_size, self.overlap\n",
    "            )\n",
    "        ]\n",
    "\n",
    "    def pre_tokenize(self, pretok: PreTokenizedString):\n",
    "        # Let's call split on the PreTokenizedString to split using `self.jieba_split`\n",
    "        pretok.split(self.kmer_split)\n",
    "\n",
    "\n",
    "class KmerDecoder:\n",
    "    def decode(self, tokens: list[str]) -> str:\n",
    "        return \"\".join(tokens)"
   ]
  },
  {
   "cell_type": "code",
   "execution_count": null,
   "id": "3",
   "metadata": {},
   "outputs": [],
   "source": [
    "from rich.console import Console\n",
    "from rich.text import Text\n",
    "\n",
    "\n",
    "def hight_text(text: str, start: int, end: int):\n",
    "    text = Text(text)\n",
    "    console = Console()\n",
    "    text.stylize(\"bold magenta\", start, end)\n",
    "    console.print(text)"
   ]
  },
  {
   "cell_type": "code",
   "execution_count": null,
   "id": "4",
   "metadata": {},
   "outputs": [],
   "source": [
    "def test_pre_tokenize_str_no_overlap():\n",
    "    tokenizer = KmerPreTokenizer(3, overlap=False)\n",
    "    sequence = \"ATCGGCC\"\n",
    "    expected_output = [(\"ATC\", (0, 3)), (\"GGC\", (3, 6))]\n",
    "    res = tokenizer.pre_tokenize_str(sequence)\n",
    "    assert res == expected_output"
   ]
  },
  {
   "cell_type": "code",
   "execution_count": null,
   "id": "5",
   "metadata": {
    "editable": true,
    "slideshow": {
     "slide_type": ""
    },
    "tags": []
   },
   "outputs": [],
   "source": [
    "data_files = {\"train\": \"../tests/data/test_input.parquet\"}\n",
    "num_proc = 8\n",
    "train_dataset = load_dataset(\n",
    "    \"parquet\", data_files=data_files, num_proc=num_proc, split=\"train[:70%]\"\n",
    ")\n",
    "val_dataset = load_dataset(\n",
    "    \"parquet\", data_files=data_files, num_proc=num_proc, split=\"train[70%:90%]\"\n",
    ")\n",
    "test_dataset = load_dataset(\n",
    "    \"parquet\", data_files=data_files, num_proc=num_proc, split=\"train[90%:]\"\n",
    ")\n",
    "\n",
    "print(f\"train_dataset: {train_dataset}\")\n",
    "print(f\"val_dataset: {val_dataset}\")\n",
    "print(f\"test_dataset: {test_dataset}\")"
   ]
  },
  {
   "cell_type": "code",
   "execution_count": null,
   "id": "6",
   "metadata": {
    "editable": true,
    "slideshow": {
     "slide_type": ""
    },
    "tags": []
   },
   "outputs": [],
   "source": [
    "train_dataset[\"seq\"][0]\n",
    "train_dataset[\"id\"][0]\n",
    "# train_dataset['qual'][0]\n",
    "train_dataset[\"target\"][0]"
   ]
  },
  {
   "cell_type": "code",
   "execution_count": null,
   "id": "7",
   "metadata": {},
   "outputs": [],
   "source": [
    "hight_text(train_dataset[\"seq\"][0], *train_dataset[\"target\"][0])"
   ]
  },
  {
   "cell_type": "code",
   "execution_count": null,
   "id": "8",
   "metadata": {},
   "outputs": [],
   "source": [
    "# deepchopper.seq_to_kmers(train_dataset['seq'][0], 5, overlap=False)"
   ]
  },
  {
   "cell_type": "code",
   "execution_count": null,
   "id": "9",
   "metadata": {},
   "outputs": [],
   "source": []
  },
  {
   "cell_type": "code",
   "execution_count": null,
   "id": "10",
   "metadata": {},
   "outputs": [],
   "source": [
    "# test_dataset.map(lambda x : partial(deepchopper.seq_to_kmers, overlap=False, k=5)(x['seq']))\n",
    "# test_dataset.map(lambda x : print(x['seq']))"
   ]
  },
  {
   "cell_type": "code",
   "execution_count": null,
   "id": "11",
   "metadata": {},
   "outputs": [],
   "source": [
    "from tokenizers import Tokenizer\n",
    "from tokenizers.models import WordLevel\n",
    "\n",
    "tokenizer = Tokenizer(WordLevel())\n",
    "tokenizer.pre_tokenizer = PreTokenizer.custom(KmerPreTokenizer(3, overlap=True))"
   ]
  },
  {
   "cell_type": "code",
   "execution_count": null,
   "id": "12",
   "metadata": {},
   "outputs": [],
   "source": [
    "ts = train_dataset[\"seq\"][0]"
   ]
  },
  {
   "cell_type": "code",
   "execution_count": null,
   "id": "13",
   "metadata": {},
   "outputs": [],
   "source": [
    "tokenizer.pre_tokenizer.pre_tokenize_str(ts)"
   ]
  },
  {
   "cell_type": "code",
   "execution_count": null,
   "id": "14",
   "metadata": {},
   "outputs": [],
   "source": [
    "from tokenizers import Tokenizer\n",
    "from tokenizers.models import BPE\n",
    "\n",
    "tokenizer = Tokenizer(BPE(unk_token=\"[UNK]\"))"
   ]
  },
  {
   "cell_type": "code",
   "execution_count": null,
   "id": "15",
   "metadata": {},
   "outputs": [],
   "source": [
    "from tokenizers.trainers import BpeTrainer\n",
    "\n",
    "trainer = BpeTrainer(special_tokens=[\"[UNK]\", \"[CLS]\", \"[SEP]\", \"[PAD]\", \"[MASK]\"])"
   ]
  },
  {
   "cell_type": "code",
   "execution_count": null,
   "id": "16",
   "metadata": {},
   "outputs": [],
   "source": [
    "from tokenizers.pre_tokenizers import ByteLevel\n",
    "\n",
    "tokenizer.pre_tokenizer = ByteLevel()"
   ]
  },
  {
   "cell_type": "code",
   "execution_count": null,
   "id": "17",
   "metadata": {},
   "outputs": [],
   "source": [
    "tokenizer.train?"
   ]
  },
  {
   "cell_type": "code",
   "execution_count": null,
   "id": "18",
   "metadata": {},
   "outputs": [],
   "source": []
  },
  {
   "cell_type": "code",
   "execution_count": null,
   "id": "19",
   "metadata": {},
   "outputs": [],
   "source": [
    "import torch\n",
    "from transformers import AutoModel, AutoTokenizer\n",
    "\n",
    "tokenizer = AutoTokenizer.from_pretrained(\"zhihan1996/DNABERT-2-117M\", trust_remote_code=True)"
   ]
  },
  {
   "cell_type": "code",
   "execution_count": null,
   "id": "20",
   "metadata": {},
   "outputs": [],
   "source": [
    "output = tokenizer.encode(ts)"
   ]
  },
  {
   "cell_type": "code",
   "execution_count": null,
   "id": "21",
   "metadata": {},
   "outputs": [],
   "source": [
    "output.ids"
   ]
  },
  {
   "cell_type": "code",
   "execution_count": null,
   "id": "22",
   "metadata": {},
   "outputs": [],
   "source": [
    "tokenizer.convert_tokens_to_string?"
   ]
  },
  {
   "cell_type": "code",
   "execution_count": null,
   "id": "23",
   "metadata": {},
   "outputs": [],
   "source": [
    "tokenizer.decode(output)"
   ]
  },
  {
   "cell_type": "code",
   "execution_count": null,
   "id": "24",
   "metadata": {},
   "outputs": [],
   "source": []
  }
 ],
 "metadata": {
  "kernelspec": {
   "display_name": "Python 3 (ipykernel)",
   "language": "python",
   "name": "python3"
  },
  "language_info": {
   "codemirror_mode": {
    "name": "ipython",
    "version": 3
   },
   "file_extension": ".py",
   "mimetype": "text/x-python",
   "name": "python",
   "nbconvert_exporter": "python",
   "pygments_lexer": "ipython3",
   "version": "3.10.13"
  }
 },
 "nbformat": 4,
 "nbformat_minor": 5
}
