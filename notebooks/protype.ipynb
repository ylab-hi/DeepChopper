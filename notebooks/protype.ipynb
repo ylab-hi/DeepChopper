{
 "cells": [
  {
   "cell_type": "code",
   "execution_count": null,
   "id": "0",
   "metadata": {},
   "outputs": [],
   "source": [
    "import tokenizers\n",
    "import torch\n",
    "from datasets import load_dataset\n",
    "\n",
    "import deepchopper"
   ]
  },
  {
   "cell_type": "code",
   "execution_count": null,
   "id": "1",
   "metadata": {},
   "outputs": [],
   "source": [
    "from IPython.core.interactiveshell import InteractiveShell\n",
    "\n",
    "InteractiveShell.ast_node_interactivity = \"all\""
   ]
  },
  {
   "cell_type": "code",
   "execution_count": null,
   "id": "2",
   "metadata": {},
   "outputs": [],
   "source": [
    "class KmerPreTokenizer:\n",
    "    def __init__(self, kmer_size: int, *, overlap: bool):\n",
    "        self.kmer_size = kmer_size\n",
    "        self.overlap = overlap\n",
    "\n",
    "    def pre_tokenize_str(self, sequence: str) -> list[tuple[str, tuple[int, int]]]:\n",
    "        \"\"\"Pre-tokenize a sequence into overlapping kmers.\n",
    "\n",
    "        Example:\n",
    "            sequence = \"ATCGG\"\n",
    "            kmer_size = 3\n",
    "            overlap = False\n",
    "            pre_tokenize_str(sequence) -> [(\"ATC\", (0, 3)), (\"TCG\", (1, 4)), (\"CGG\", (2, 5))]\n",
    "        \"\"\"\n",
    "        return deepchopper.seq_to_kmers_and_offset(sequence, self.kmer_size, self.overlap)\n",
    "\n",
    "\n",
    "from rich.console import Console\n",
    "from rich.text import Text\n",
    "\n",
    "\n",
    "def hight_text(text: str, start: int, end: int):\n",
    "    text = Text(text)\n",
    "    console = Console()\n",
    "    text.stylize(\"bold magenta\", start, end)\n",
    "    console.print(text)"
   ]
  },
  {
   "cell_type": "code",
   "execution_count": null,
   "id": "3",
   "metadata": {},
   "outputs": [],
   "source": [
    "def test_pre_tokenize_str_no_overlap():\n",
    "    tokenizer = KmerPreTokenizer(3, overlap=False)\n",
    "    sequence = \"ATCGGCC\"\n",
    "    expected_output = [(\"ATC\", (0, 3)), (\"GGC\", (3, 6))]\n",
    "    res = tokenizer.pre_tokenize_str(sequence)\n",
    "    assert res == expected_output"
   ]
  },
  {
   "cell_type": "code",
   "execution_count": null,
   "id": "4",
   "metadata": {
    "editable": true,
    "slideshow": {
     "slide_type": ""
    },
    "tags": []
   },
   "outputs": [],
   "source": [
    "data_files = {\"train\": \"../tests/data/test_input.parquet\"}\n",
    "num_proc = 8\n",
    "train_dataset = load_dataset(\n",
    "    \"parquet\", data_files=data_files, num_proc=num_proc, split=\"train[:70%]\"\n",
    ")\n",
    "val_dataset = load_dataset(\n",
    "    \"parquet\", data_files=data_files, num_proc=num_proc, split=\"train[70%:90%]\"\n",
    ")\n",
    "test_dataset = load_dataset(\n",
    "    \"parquet\", data_files=data_files, num_proc=num_proc, split=\"train[90%:]\"\n",
    ")\n",
    "\n",
    "print(f\"train_dataset: {train_dataset}\")\n",
    "print(f\"val_dataset: {val_dataset}\")\n",
    "print(f\"test_dataset: {test_dataset}\")"
   ]
  },
  {
   "cell_type": "code",
   "execution_count": null,
   "id": "5",
   "metadata": {
    "editable": true,
    "slideshow": {
     "slide_type": ""
    },
    "tags": []
   },
   "outputs": [],
   "source": [
    "train_dataset[\"seq\"][0]\n",
    "train_dataset[\"id\"][0]\n",
    "# train_dataset['qual'][0]\n",
    "train_dataset[\"target\"][0]"
   ]
  },
  {
   "cell_type": "code",
   "execution_count": null,
   "id": "6",
   "metadata": {},
   "outputs": [],
   "source": [
    "hight_text(train_dataset[\"seq\"][0], *train_dataset[\"target\"][0])"
   ]
  },
  {
   "cell_type": "code",
   "execution_count": null,
   "id": "7",
   "metadata": {},
   "outputs": [],
   "source": [
    "# deepchopper.seq_to_kmers(train_dataset['seq'][0], 5, overlap=False)"
   ]
  },
  {
   "cell_type": "code",
   "execution_count": null,
   "id": "8",
   "metadata": {},
   "outputs": [],
   "source": []
  },
  {
   "cell_type": "code",
   "execution_count": null,
   "id": "9",
   "metadata": {},
   "outputs": [],
   "source": [
    "# test_dataset.map(lambda x : partial(deepchopper.seq_to_kmers, overlap=False, k=5)(x['seq']))\n",
    "test_dataset.map(lambda x: print(x[\"seq\"]))"
   ]
  },
  {
   "cell_type": "code",
   "execution_count": null,
   "id": "10",
   "metadata": {},
   "outputs": [],
   "source": [
    "from tokenizers import Tokenizer\n",
    "from tokenizers.models import WordLevel\n",
    "\n",
    "tokenizer = Tokenizer(WordLevel())"
   ]
  },
  {
   "cell_type": "code",
   "execution_count": null,
   "id": "11",
   "metadata": {},
   "outputs": [],
   "source": [
    "pre_tokenizer = KmerPreTokenizer(3, overlap=True)"
   ]
  },
  {
   "cell_type": "code",
   "execution_count": null,
   "id": "12",
   "metadata": {},
   "outputs": [],
   "source": [
    "tokenizer.encode(pre_tokenizer.pre_tokenize_str(train_dataset[\"seq\"][0]))"
   ]
  },
  {
   "cell_type": "code",
   "execution_count": null,
   "id": "13",
   "metadata": {},
   "outputs": [],
   "source": []
  }
 ],
 "metadata": {
  "kernelspec": {
   "display_name": "Python 3 (ipykernel)",
   "language": "python",
   "name": "python3"
  },
  "language_info": {
   "codemirror_mode": {
    "name": "ipython",
    "version": 3
   },
   "file_extension": ".py",
   "mimetype": "text/x-python",
   "name": "python",
   "nbconvert_exporter": "python",
   "pygments_lexer": "ipython3",
   "version": "3.10.13"
  }
 },
 "nbformat": 4,
 "nbformat_minor": 5
}
