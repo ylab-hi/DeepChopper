{
 "cells": [
  {
   "cell_type": "code",
   "execution_count": 16,
   "id": "0",
   "metadata": {
    "tags": []
   },
   "outputs": [],
   "source": [
    "from pathlib import Path\n",
    "\n",
    "import matplotlib.pyplot as plt\n",
    "import numpy as np\n",
    "import pandas as pd\n",
    "import seaborn as sns\n",
    "import torch\n",
    "from datasets import Dataset, load_dataset\n",
    "from IPython.core.interactiveshell import InteractiveShell\n",
    "\n",
    "import deepchopper\n",
    "\n",
    "InteractiveShell.ast_node_interactivity = \"all\""
   ]
  },
  {
   "cell_type": "code",
   "execution_count": 17,
   "id": "1",
   "metadata": {},
   "outputs": [],
   "source": [
    "from rich.console import Console\n",
    "from rich.text import Text\n",
    "\n",
    "\n",
    "def highlight_target(seq: str, start: int, end: int, style=\"bold magenta\"):\n",
    "    text = Text(seq)\n",
    "    console = Console()\n",
    "    text.stylize(style, start, end)\n",
    "    console.print(text)\n",
    "\n",
    "\n",
    "def hightlight_predict(\n",
    "    seq: str, target_start: int, target_end: int, predict_start: int, predict_end: int\n",
    "):\n",
    "    text = Text(seq)\n",
    "    console = Console()\n",
    "\n",
    "    text.stylize(\"#adb0b1\", target_start, target_end)\n",
    "    text.stylize(\"bold magenta\", predict_start, predict_end)\n",
    "\n",
    "    console.print(text)"
   ]
  },
  {
   "cell_type": "code",
   "execution_count": 18,
   "id": "2",
   "metadata": {
    "tags": []
   },
   "outputs": [
    {
     "name": "stdout",
     "output_type": "stream",
     "text": [
      "platform.system()='Linux'\n"
     ]
    }
   ],
   "source": [
    "import platform\n",
    "\n",
    "print(f\"{platform.system()=}\")\n",
    "if platform.system() == \"Linux\":\n",
    "    root_dir = Path(\"/projects/b1171/ylk4626/project/DeepChopper\")\n",
    "else:\n",
    "    root_dir = Path(\"/Users/ylk4626/ClionProjects/DeepChopper\")"
   ]
  },
  {
   "cell_type": "code",
   "execution_count": 19,
   "id": "3",
   "metadata": {
    "tags": []
   },
   "outputs": [
    {
     "name": "stdout",
     "output_type": "stream",
     "text": [
      "train_dataset: Dataset({\n",
      "    features: ['id', 'seq', 'qual', 'target'],\n",
      "    num_rows: 4000\n",
      "})\n",
      "val_dataset: Dataset({\n",
      "    features: ['id', 'seq', 'qual', 'target'],\n",
      "    num_rows: 500\n",
      "})\n",
      "test_dataset: Dataset({\n",
      "    features: ['id', 'seq', 'qual', 'target'],\n",
      "    num_rows: 500\n",
      "})\n"
     ]
    }
   ],
   "source": [
    "train_file = root_dir / \"tests/data/test_input.parquet\"\n",
    "data_files = {\"train\": train_file.as_posix()}\n",
    "\n",
    "num_proc = 8\n",
    "train_dataset = load_dataset(\n",
    "    \"parquet\",\n",
    "    data_files=data_files,\n",
    "    num_proc=num_proc,\n",
    "    split=\"train[:80%]\",\n",
    ").with_format(\"torch\")\n",
    "val_dataset = load_dataset(\n",
    "    \"parquet\", data_files=data_files, num_proc=num_proc, split=\"train[80%:90%]\"\n",
    ").with_format(\"torch\")\n",
    "test_dataset = load_dataset(\n",
    "    \"parquet\", data_files=data_files, num_proc=num_proc, split=\"train[90%:]\"\n",
    ").with_format(\"torch\")\n",
    "\n",
    "print(f\"train_dataset: {train_dataset}\")\n",
    "print(f\"val_dataset: {val_dataset}\")\n",
    "print(f\"test_dataset: {test_dataset}\")"
   ]
  },
  {
   "cell_type": "code",
   "execution_count": 20,
   "id": "4",
   "metadata": {},
   "outputs": [],
   "source": [
    "import pandas as pd\n",
    "\n",
    "\n",
    "def show_example_for_dataset(dataset, split=None, first_examples: int = 10):\n",
    "    if split is not None:\n",
    "        id = dataset[split][\"id\"][0:first_examples]\n",
    "        seq = dataset[split][\"seq\"][0:first_examples]\n",
    "        qual = dataset[split][\"qual\"][0:first_examples]\n",
    "        target = dataset[split][\"target\"][0:first_examples]\n",
    "    else:\n",
    "        id = dataset[\"id\"][0:first_examples]\n",
    "        seq = dataset[\"seq\"][0:first_examples]\n",
    "        qual = dataset[\"qual\"][0:first_examples]\n",
    "        target = dataset[\"target\"][0:first_examples]\n",
    "\n",
    "    qual = [i.tolist() for i in qual]\n",
    "    target = [i.tolist() for i in target]\n",
    "    df = pd.DataFrame({\"id\": id, \"seq\": seq, \"qual\": qual, \"target\": target})\n",
    "    return df"
   ]
  },
  {
   "cell_type": "code",
   "execution_count": 21,
   "id": "5",
   "metadata": {},
   "outputs": [
    {
     "data": {
      "text/html": [
       "<div>\n",
       "<style scoped>\n",
       "    .dataframe tbody tr th:only-of-type {\n",
       "        vertical-align: middle;\n",
       "    }\n",
       "\n",
       "    .dataframe tbody tr th {\n",
       "        vertical-align: top;\n",
       "    }\n",
       "\n",
       "    .dataframe thead th {\n",
       "        text-align: right;\n",
       "    }\n",
       "</style>\n",
       "<table border=\"1\" class=\"dataframe\">\n",
       "  <thead>\n",
       "    <tr style=\"text-align: right;\">\n",
       "      <th></th>\n",
       "      <th>id</th>\n",
       "      <th>seq</th>\n",
       "      <th>qual</th>\n",
       "      <th>target</th>\n",
       "    </tr>\n",
       "  </thead>\n",
       "  <tbody>\n",
       "    <tr>\n",
       "      <th>0</th>\n",
       "      <td>1065:1135|393d635c-64f0-41ed-8531-12174d8efb28...</td>\n",
       "      <td>GCAGCTATGAATGCAAGGCCACAAGGTGGATGGAAGAGTTGTGGAA...</td>\n",
       "      <td>[13, 15, 28, 28, 30, 50, 50, 50, 50, 50, 50, 5...</td>\n",
       "      <td>[1065, 1135]</td>\n",
       "    </tr>\n",
       "    <tr>\n",
       "      <th>1</th>\n",
       "      <td>1573:1653|0e1e016e-02fb-4611-b1e3-6b688615e04f...</td>\n",
       "      <td>AGCGGAGAGCGGCACCATGGCCCGCGGGGCGGCGGCGGCCGCGGCC...</td>\n",
       "      <td>[21, 24, 25, 25, 50, 49, 50, 40, 42, 42, 43, 5...</td>\n",
       "      <td>[1573, 1653]</td>\n",
       "    </tr>\n",
       "    <tr>\n",
       "      <th>2</th>\n",
       "      <td>607:689|29bcb833-d8d6-44d3-a0e8-5128ee173825+f...</td>\n",
       "      <td>GTAACAATACAAATGGATTTTGGGAGTGACTCAAGAAGTGAAGAAT...</td>\n",
       "      <td>[31, 43, 44, 43, 42, 43, 43, 44, 50, 50, 39, 5...</td>\n",
       "      <td>[607, 689]</td>\n",
       "    </tr>\n",
       "    <tr>\n",
       "      <th>3</th>\n",
       "      <td>512:569|fea21b55-f0e1-445b-b656-565ecf669bde+5...</td>\n",
       "      <td>GTGTGAACATGCTCAACATCTCCCTTTTCTTTGGGCTGGTCATCCA...</td>\n",
       "      <td>[7, 6, 13, 30, 50, 50, 50, 50, 50, 50, 50, 42,...</td>\n",
       "      <td>[512, 569]</td>\n",
       "    </tr>\n",
       "    <tr>\n",
       "      <th>4</th>\n",
       "      <td>1128:1194|85667758-fd99-4c0a-9ca0-9fbb979bad53...</td>\n",
       "      <td>TGCGAAAGCCCCGGACTCGTGGAGTTGTTGAACGCCATGGACTCCG...</td>\n",
       "      <td>[12, 17, 20, 50, 50, 50, 45, 39, 30, 32, 33, 2...</td>\n",
       "      <td>[1128, 1194]</td>\n",
       "    </tr>\n",
       "    <tr>\n",
       "      <th>5</th>\n",
       "      <td>504:600|8111f832-c1ae-4c0f-9a30-f5c876f28d8a+9...</td>\n",
       "      <td>GCGCAGCCATTTTGGCTTCCTGACCTTGGGCTACGGCTGACCGTTT...</td>\n",
       "      <td>[23, 27, 37, 41, 41, 50, 50, 46, 12, 11, 11, 1...</td>\n",
       "      <td>[504, 600]</td>\n",
       "    </tr>\n",
       "    <tr>\n",
       "      <th>6</th>\n",
       "      <td>673:734|a9979431-9f1f-4d52-a5bc-1400722e0b3d+3...</td>\n",
       "      <td>GGCTGCCGAAGATGGCGGAGGTGCAGGTCCACCTGGTGCTTGATGG...</td>\n",
       "      <td>[27, 32, 32, 35, 36, 38, 40, 50, 50, 50, 50, 5...</td>\n",
       "      <td>[673, 734]</td>\n",
       "    </tr>\n",
       "    <tr>\n",
       "      <th>7</th>\n",
       "      <td>716:788|a1dd6bda-66eb-4466-adda-39297b7ee523+e...</td>\n",
       "      <td>TTGCAGCGCGATTGCCTCCGAGACCGCGAGACATACACGCAGCGAA...</td>\n",
       "      <td>[12, 21, 41, 44, 42, 22, 11, 11, 13, 15, 26, 2...</td>\n",
       "      <td>[716, 788]</td>\n",
       "    </tr>\n",
       "    <tr>\n",
       "      <th>8</th>\n",
       "      <td>485:555|4249a00c-2aa9-4f0e-9780-2faf41d69d50+1...</td>\n",
       "      <td>GACATCTCTGACGAGGCTGCGGTGTCTGCTGCATTCCCGCTGGCTC...</td>\n",
       "      <td>[32, 36, 16, 16, 9, 10, 9, 10, 50, 48, 49, 44,...</td>\n",
       "      <td>[485, 555]</td>\n",
       "    </tr>\n",
       "    <tr>\n",
       "      <th>9</th>\n",
       "      <td>695:776|1034f167-87a9-4d06-8857-1b26becd2242+b...</td>\n",
       "      <td>TGGGGAACAAGCAGCTGTCCCTGAGCCCAGAAGAGTATGTGTTTGC...</td>\n",
       "      <td>[12, 37, 44, 40, 42, 43, 44, 49, 50, 49, 49, 5...</td>\n",
       "      <td>[695, 776]</td>\n",
       "    </tr>\n",
       "  </tbody>\n",
       "</table>\n",
       "</div>"
      ],
      "text/plain": [
       "                                                  id  \\\n",
       "0  1065:1135|393d635c-64f0-41ed-8531-12174d8efb28...   \n",
       "1  1573:1653|0e1e016e-02fb-4611-b1e3-6b688615e04f...   \n",
       "2  607:689|29bcb833-d8d6-44d3-a0e8-5128ee173825+f...   \n",
       "3  512:569|fea21b55-f0e1-445b-b656-565ecf669bde+5...   \n",
       "4  1128:1194|85667758-fd99-4c0a-9ca0-9fbb979bad53...   \n",
       "5  504:600|8111f832-c1ae-4c0f-9a30-f5c876f28d8a+9...   \n",
       "6  673:734|a9979431-9f1f-4d52-a5bc-1400722e0b3d+3...   \n",
       "7  716:788|a1dd6bda-66eb-4466-adda-39297b7ee523+e...   \n",
       "8  485:555|4249a00c-2aa9-4f0e-9780-2faf41d69d50+1...   \n",
       "9  695:776|1034f167-87a9-4d06-8857-1b26becd2242+b...   \n",
       "\n",
       "                                                 seq  \\\n",
       "0  GCAGCTATGAATGCAAGGCCACAAGGTGGATGGAAGAGTTGTGGAA...   \n",
       "1  AGCGGAGAGCGGCACCATGGCCCGCGGGGCGGCGGCGGCCGCGGCC...   \n",
       "2  GTAACAATACAAATGGATTTTGGGAGTGACTCAAGAAGTGAAGAAT...   \n",
       "3  GTGTGAACATGCTCAACATCTCCCTTTTCTTTGGGCTGGTCATCCA...   \n",
       "4  TGCGAAAGCCCCGGACTCGTGGAGTTGTTGAACGCCATGGACTCCG...   \n",
       "5  GCGCAGCCATTTTGGCTTCCTGACCTTGGGCTACGGCTGACCGTTT...   \n",
       "6  GGCTGCCGAAGATGGCGGAGGTGCAGGTCCACCTGGTGCTTGATGG...   \n",
       "7  TTGCAGCGCGATTGCCTCCGAGACCGCGAGACATACACGCAGCGAA...   \n",
       "8  GACATCTCTGACGAGGCTGCGGTGTCTGCTGCATTCCCGCTGGCTC...   \n",
       "9  TGGGGAACAAGCAGCTGTCCCTGAGCCCAGAAGAGTATGTGTTTGC...   \n",
       "\n",
       "                                                qual        target  \n",
       "0  [13, 15, 28, 28, 30, 50, 50, 50, 50, 50, 50, 5...  [1065, 1135]  \n",
       "1  [21, 24, 25, 25, 50, 49, 50, 40, 42, 42, 43, 5...  [1573, 1653]  \n",
       "2  [31, 43, 44, 43, 42, 43, 43, 44, 50, 50, 39, 5...    [607, 689]  \n",
       "3  [7, 6, 13, 30, 50, 50, 50, 50, 50, 50, 50, 42,...    [512, 569]  \n",
       "4  [12, 17, 20, 50, 50, 50, 45, 39, 30, 32, 33, 2...  [1128, 1194]  \n",
       "5  [23, 27, 37, 41, 41, 50, 50, 46, 12, 11, 11, 1...    [504, 600]  \n",
       "6  [27, 32, 32, 35, 36, 38, 40, 50, 50, 50, 50, 5...    [673, 734]  \n",
       "7  [12, 21, 41, 44, 42, 22, 11, 11, 13, 15, 26, 2...    [716, 788]  \n",
       "8  [32, 36, 16, 16, 9, 10, 9, 10, 50, 48, 49, 44,...    [485, 555]  \n",
       "9  [12, 37, 44, 40, 42, 43, 44, 49, 50, 49, 49, 5...    [695, 776]  "
      ]
     },
     "execution_count": 21,
     "metadata": {},
     "output_type": "execute_result"
    }
   ],
   "source": [
    "show_example_for_dataset(train_dataset)"
   ]
  },
  {
   "cell_type": "code",
   "execution_count": null,
   "id": "6",
   "metadata": {},
   "outputs": [],
   "source": []
  },
  {
   "cell_type": "code",
   "execution_count": null,
   "id": "7",
   "metadata": {},
   "outputs": [],
   "source": [
    "highlight_target(seq, *target)"
   ]
  },
  {
   "cell_type": "code",
   "execution_count": null,
   "id": "8",
   "metadata": {},
   "outputs": [],
   "source": [
    "hightlight_predict(seq, *target, 1070, 1120)"
   ]
  },
  {
   "cell_type": "code",
   "execution_count": null,
   "id": "9",
   "metadata": {},
   "outputs": [],
   "source": [
    "hightlight_predict(seq, *target, 1060, 1120)"
   ]
  },
  {
   "cell_type": "markdown",
   "id": "10",
   "metadata": {
    "jp-MarkdownHeadingCollapsed": true
   },
   "source": [
    "# 1. Read Len of Direct RNA"
   ]
  },
  {
   "cell_type": "code",
   "execution_count": null,
   "id": "11",
   "metadata": {},
   "outputs": [],
   "source": [
    "def vis_bam_record_len():\n",
    "    direc_rna_samples = [\"22Rv1\", \"DU145\", \"LNCaP\", \"LuCaP\", \"PC3\", \"VCaP\"]\n",
    "    data = [np.load(root_dir / f\"data/direct_rna/{p}.npy\") for p in direc_rna_samples]\n",
    "    # plt.rc('font', family='Times New Roman')\n",
    "\n",
    "    fig, axs = plt.subplots(nrows=3, ncols=2, figsize=(10, 6))\n",
    "\n",
    "    flat_axs = axs.flatten()\n",
    "\n",
    "    for i, sample in enumerate(range(len(direc_rna_samples))):\n",
    "        # Create the density plot\n",
    "        sns.kdeplot(data[i], fill=True, ax=flat_axs[i])\n",
    "        flat_axs[i].set_title(f\"Sample {sample}\")\n",
    "\n",
    "    # _ = ax1.set_xlabel('Threshold', fontsize=20)\n",
    "    # _ = ax1.set_ylabel('Length of itemsets', fontsize=20)\n",
    "\n",
    "    # ax1.legend(['Sliding window average'],fontsize=18,loc='lower left',edgecolor='k',fancybox=True)\n",
    "\n",
    "    # ax1.tick_params(axis='y', labelsize=15)\n",
    "    # ax1.tick_params(axis='x', labelsize=15\n",
    "    fig.set_size_inches(20, 20)\n",
    "\n",
    "    # Adding labels and title\n",
    "    plt.title(\"Read Length of  Direc RNA\")\n",
    "    plt.xticks(rotation=30)\n",
    "\n",
    "    return data"
   ]
  },
  {
   "cell_type": "code",
   "execution_count": null,
   "id": "12",
   "metadata": {},
   "outputs": [],
   "source": [
    "vis_bam_record_len()"
   ]
  },
  {
   "cell_type": "code",
   "execution_count": null,
   "id": "13",
   "metadata": {},
   "outputs": [],
   "source": []
  },
  {
   "cell_type": "code",
   "execution_count": null,
   "id": "14",
   "metadata": {},
   "outputs": [],
   "source": [
    "data = vis_bam_record_len(root_dir / f\"data/direct_rna/{direc_rna_samples[0]}.npy\")"
   ]
  },
  {
   "cell_type": "code",
   "execution_count": null,
   "id": "15",
   "metadata": {},
   "outputs": [],
   "source": [
    "max(data)"
   ]
  },
  {
   "cell_type": "code",
   "execution_count": null,
   "id": "16",
   "metadata": {},
   "outputs": [],
   "source": [
    "d2 = list(data)"
   ]
  },
  {
   "cell_type": "code",
   "execution_count": null,
   "id": "17",
   "metadata": {},
   "outputs": [],
   "source": [
    "d2.remove(103380)"
   ]
  },
  {
   "cell_type": "code",
   "execution_count": null,
   "id": "18",
   "metadata": {},
   "outputs": [],
   "source": [
    "max(d2)"
   ]
  },
  {
   "cell_type": "code",
   "execution_count": null,
   "id": "19",
   "metadata": {},
   "outputs": [],
   "source": [
    "sns.kdeplot(d2, fill=True)"
   ]
  },
  {
   "cell_type": "code",
   "execution_count": null,
   "id": "20",
   "metadata": {},
   "outputs": [],
   "source": []
  },
  {
   "cell_type": "code",
   "execution_count": null,
   "id": "21",
   "metadata": {},
   "outputs": [],
   "source": [
    "data.sort()"
   ]
  },
  {
   "cell_type": "code",
   "execution_count": null,
   "id": "22",
   "metadata": {},
   "outputs": [],
   "source": [
    "sns.kdeplot(data[:-800], fill=True)"
   ]
  },
  {
   "cell_type": "code",
   "execution_count": null,
   "id": "23",
   "metadata": {},
   "outputs": [],
   "source": [
    "des = pd.Series(data).describe()"
   ]
  },
  {
   "cell_type": "markdown",
   "id": "24",
   "metadata": {},
   "source": [
    "# 2. Build Model"
   ]
  },
  {
   "cell_type": "code",
   "execution_count": 22,
   "id": "25",
   "metadata": {},
   "outputs": [],
   "source": [
    "import torch\n",
    "from transformers import (\n",
    "    AutoConfig,\n",
    "    AutoModelForSequenceClassification,\n",
    "    AutoTokenizer,\n",
    "    Trainer,\n",
    "    TrainingArguments,\n",
    "    logging,\n",
    ")\n",
    "\n",
    "def load_tokenizer_from_hyena_model(model_name):\n",
    "    max_lengths = {\n",
    "        \"hyenadna-tiny-1k-seqlen\": 1024,\n",
    "        \"hyenadna-small-32k-seqlen\": 32768,\n",
    "        \"hyenadna-medium-160k-seqlen\": 160000,\n",
    "        \"hyenadna-medium-450k-seqlen\": 450000,  # T4 up to here\n",
    "        \"hyenadna-large-1m-seqlen\": 1_000_000,  # only A100 (paid tier)\n",
    "    }\n",
    "\n",
    "    if model_name not in max_lengths:\n",
    "        msg = f\"Model name {model_name} not found in available models.\"\n",
    "        raise ValueError(msg)\n",
    "\n",
    "    max_length = max_lengths[model_name]\n",
    "    # bfloat16 for better speed and reduced memory usage\n",
    "    model_name = f\"LongSafari/{model_name}-hf\"\n",
    "    tokenizer = AutoTokenizer.from_pretrained(\n",
    "        model_name, max_length=max_length, truncation=True, padding=True, trust_remote_code=True\n",
    "    )\n",
    "    return tokenizer"
   ]
  },
  {
   "cell_type": "code",
   "execution_count": 23,
   "id": "26",
   "metadata": {},
   "outputs": [],
   "source": [
    "import evaluate\n",
    "import numpy as np\n",
    "\n",
    "clf_metrics = evaluate.combine([\"accuracy\", \"f1\", \"precision\", \"recall\"])\n",
    "\n",
    "\n",
    "def compute_metrics(p):\n",
    "    predictions, labels = p\n",
    "\n",
    "    # print(f\"{predictions.shape=}\")\n",
    "    # print(f\"{labels.shape=}\")\n",
    "\n",
    "    predictions = np.argmax(predictions, axis=2)\n",
    "    # Initialize lists to hold the filtered predictions and labels\n",
    "    true_predictions = []\n",
    "    true_labels = []\n",
    "\n",
    "    # Filter out '-100' labels and correspondingly filter predictions\n",
    "    for prediction, label in zip(predictions, labels):\n",
    "        filtered_prediction = []\n",
    "        filtered_label = []\n",
    "\n",
    "        for p, l in zip(prediction, label):\n",
    "            if l != -100:\n",
    "                filtered_prediction.append(p)\n",
    "                filtered_label.append(l)\n",
    "        true_predictions.append(filtered_prediction)\n",
    "        true_labels.append(filtered_label)\n",
    "\n",
    "    for preds, refs in zip(true_predictions, true_labels):\n",
    "        clf_metrics.add_batch(predictions=preds, references=refs)\n",
    "\n",
    "    result = clf_metrics.compute()\n",
    "    return result"
   ]
  },
  {
   "cell_type": "code",
   "execution_count": 28,
   "id": "27",
   "metadata": {},
   "outputs": [],
   "source": [
    "import torch\n",
    "from torch import nn\n",
    "from transformers import AutoModel, PreTrainedModel\n",
    "from transformers.modeling_outputs import TokenClassifierOutput\n",
    "from transformers.utils import logging\n",
    "from transformers import PretrainedConfig\n",
    "from typing import List\n",
    "\n",
    "logging.set_verbosity_info()\n",
    "logger = logging.get_logger(\"transformers\")\n",
    "\n",
    "\n",
    "class TokenClassificationHead(nn.Module):\n",
    "    def __init__(\n",
    "        self,\n",
    "        input_size: int,\n",
    "        lin1_size: int,\n",
    "        lin2_size: int,\n",
    "        num_class: int,\n",
    "        use_identity_layer_for_qual: bool,\n",
    "    ):\n",
    "        super().__init__()\n",
    "        self.activation  = nn.ReLU()\n",
    "        self.linear1 =  nn.Linear(input_size, lin1_size)\n",
    "        self.linear2 =  nn.Linear(lin1_size, lin2_size)\n",
    "        self.linear3 =  nn.Linear(lin2_size, num_class)\n",
    "        self.qual_linear1 = nn.Identity() if use_identity_layer_for_qual else nn.Linear(1, lin1_size) \n",
    "\n",
    "    def forward(self, x: torch.Tensor, input_quals: torch.Tensor) -> torch.Tensor:\n",
    "        output   = self.activation(self.linear1(x))\n",
    "        residual =  output + self.qual_linear1(input_quals.unsqueeze(-1)) # may add activation\n",
    "        output   = self.activation(self.linear2(residual) + residual)\n",
    "        return self.linear3(output)\n",
    "                \n",
    "\n",
    "class TokenClassificationConfig(PretrainedConfig):\n",
    "    model_type = \"token-classification\"\n",
    "\n",
    "    def __init__(self,    \n",
    "        input_size: int = 256,\n",
    "        lin1_size: int = 1024,\n",
    "        lin2_size: int= 1024,\n",
    "        num_class: int = 2,\n",
    "        use_identity_layer_for_qual: bool = True,\n",
    "        **kwargs):\n",
    "        self.input_size  = input_size\n",
    "        self.lin1_size = lin1_size\n",
    "        self.lin2_size = lin2_size\n",
    "        self.num_class = num_class\n",
    "        self.use_identity_layer_for_qual = use_identity_layer_for_qual\n",
    "        super().__init__(**kwargs)\n",
    "    \n",
    "\n",
    "class TokenClassification(PreTrainedModel):\n",
    "    config_class = TokenClassificationConfig\n",
    "    \n",
    "    def __init__(\n",
    "        self,\n",
    "        config,\n",
    "        hyenadna_model: str = \"hyenadna-small-32k-seqlen\",\n",
    "        **kwargs,\n",
    "    ):\n",
    "        super().__init__(config, **kwargs)\n",
    "        self.num_class = config.num_class\n",
    "        self.hyenadna_model_name = hyenadna_model\n",
    "        self.hyenadna = AutoModel.from_pretrained(f\"LongSafari/{hyenadna_model}-hf\", trust_remote_code=True)\n",
    "        \n",
    "        self.head = TokenClassificationHead(\n",
    "            input_size=config.input_size,\n",
    "            lin1_size=config.lin1_size,\n",
    "            lin2_size=config.lin2_size,\n",
    "            num_class=config.num_class,\n",
    "            use_identity_layer_for_qual=config.use_identity_layer_for_qual,\n",
    "        )\n",
    "\n",
    "        # Initialize weights and apply final processing\n",
    "        self.post_init()\n",
    "\n",
    "    def forward(\n",
    "        self,\n",
    "        input_ids: torch.Tensor,\n",
    "        labels: torch.Tensor,\n",
    "        input_quals: torch.Tensor,\n",
    "        inputs_embeds: torch.FloatTensor | None = None,\n",
    "        output_hidden_states: bool | None = None,\n",
    "        return_dict: bool | None = None,\n",
    "    ) -> torch.Tensor:\n",
    "        transformer_outputs = self.hyenadna(\n",
    "            input_ids,\n",
    "            inputs_embeds=inputs_embeds,\n",
    "            output_hidden_states=output_hidden_states,\n",
    "            return_dict=return_dict,\n",
    "        )\n",
    "\n",
    "        batch_size = input_ids.shape[0]\n",
    "        hidden_states = transformer_outputs[0]\n",
    "        \n",
    "        logits = self.head(hidden_states, input_quals)\n",
    "        labels = labels.to(logits.device)\n",
    "        loss_fct = nn.CrossEntropyLoss()\n",
    "\n",
    "        loss = loss_fct(logits.view(-1, self.num_class), labels.view(-1))\n",
    "\n",
    "        return TokenClassifierOutput(\n",
    "            loss=loss,\n",
    "            logits=logits,\n",
    "            hidden_states=transformer_outputs.hidden_states,\n",
    "        )"
   ]
  },
  {
   "cell_type": "code",
   "execution_count": 29,
   "id": "191c0725-5d44-486f-a43f-865023a5976c",
   "metadata": {},
   "outputs": [],
   "source": [
    "from transformers import DataCollatorForTokenClassification\n",
    "\n",
    "def pad_without_fast_tokenizer_warning(tokenizer, *pad_args, **pad_kwargs):\n",
    "    \"\"\"\n",
    "    Pads without triggering the warning about how using the pad function is sub-optimal when using a fast tokenizer.\n",
    "    \"\"\"\n",
    "\n",
    "    # To avoid errors when using Feature extractors\n",
    "    if not hasattr(tokenizer, \"deprecation_warnings\"):\n",
    "        return tokenizer.pad(*pad_args, **pad_kwargs)\n",
    "\n",
    "    # Save the state of the warning, then disable it\n",
    "    warning_state = tokenizer.deprecation_warnings.get(\"Asking-to-pad-a-fast-tokenizer\", False)\n",
    "    tokenizer.deprecation_warnings[\"Asking-to-pad-a-fast-tokenizer\"] = True\n",
    "\n",
    "    try:\n",
    "        padded = tokenizer.pad(*pad_args, **pad_kwargs)\n",
    "    finally:\n",
    "        # Restore the state of the warning.\n",
    "        tokenizer.deprecation_warnings[\"Asking-to-pad-a-fast-tokenizer\"] = warning_state\n",
    "\n",
    "    return padded\n",
    "    \n",
    "class DataCollatorForTokenClassificationWithQual(DataCollatorForTokenClassification):\n",
    "    \n",
    "    def torch_call(self, features):\n",
    "        import torch\n",
    "        \n",
    "        label_name = \"label\" if \"label\" in features[0].keys() else \"labels\"\n",
    "        labels = [feature[label_name] for feature in features] if label_name in features[0].keys() else None\n",
    "\n",
    "        qual_name = \"input_quals\"\n",
    "        qual_pad_token_id = 0\n",
    "        input_quals = [feature[qual_name] for feature in features]\n",
    "        \n",
    "        no_labels_features = [{k: v for k, v in feature.items() if k not in [qual_name, label_name]} \n",
    "                              for feature in features]\n",
    "\n",
    "        batch = pad_without_fast_tokenizer_warning(\n",
    "            self.tokenizer,\n",
    "            no_labels_features,\n",
    "            padding=self.padding,\n",
    "            max_length=self.max_length,\n",
    "            pad_to_multiple_of=self.pad_to_multiple_of,\n",
    "            return_tensors=\"pt\",\n",
    "        )\n",
    "\n",
    "        if labels is None:\n",
    "            return batch\n",
    "\n",
    "        sequence_length = batch[\"input_ids\"].shape[1]\n",
    "        padding_side = self.tokenizer.padding_side\n",
    "\n",
    "        def to_list(tensor_or_iterable):\n",
    "            if isinstance(tensor_or_iterable, torch.Tensor):\n",
    "                return tensor_or_iterable.tolist()\n",
    "            return list(tensor_or_iterable)\n",
    "\n",
    "        if padding_side == \"right\":\n",
    "            batch[label_name] = [\n",
    "                to_list(label) + [self.label_pad_token_id] * (sequence_length - len(label)) for label in labels\n",
    "            ]\n",
    "            batch[qual_name] = [\n",
    "               to_list(qual) + [qual_pad_token_id] * (sequence_length - len(qual)) for qual in input_quals\n",
    "            ]\n",
    "        else:\n",
    "            batch[label_name] = [\n",
    "                [self.label_pad_token_id] * (sequence_length - len(label)) + to_list(label) for label in labels\n",
    "            ]\n",
    "            batch[qual_name] = [\n",
    "             [qual_pad_token_id] * (sequence_length - len(qual)) +  to_list(qual)  for qual in input_quals\n",
    "            ]\n",
    "\n",
    "        batch[label_name] = torch.tensor(batch[label_name], dtype=torch.int64)\n",
    "        batch[qual_name]  = torch.tensor( batch[qual_name], dtype=torch.int64)\n",
    "        return batch"
   ]
  },
  {
   "cell_type": "code",
   "execution_count": 30,
   "id": "28",
   "metadata": {},
   "outputs": [
    {
     "name": "stderr",
     "output_type": "stream",
     "text": [
      "loading file added_tokens.json from cache at None\n",
      "loading file special_tokens_map.json from cache at /tmp/ylk4626-jupyter//xdg_cache_home/huggingface/hub/models--LongSafari--hyenadna-small-32k-seqlen-hf/snapshots/8fe770c78eb13fe33bf81501612faeddf4d6f331/special_tokens_map.json\n",
      "loading file tokenizer_config.json from cache at /tmp/ylk4626-jupyter//xdg_cache_home/huggingface/hub/models--LongSafari--hyenadna-small-32k-seqlen-hf/snapshots/8fe770c78eb13fe33bf81501612faeddf4d6f331/tokenizer_config.json\n",
      "loading file tokenizer.json from cache at None\n",
      "/projects/b1171/ylk4626/mambaforge/envs/deepchopper/lib/python3.10/site-packages/dill/_dill.py:414: PicklingWarning: Cannot locate reference to <class 'builtins.FqEncoderOption'>.\n",
      "  StockPickler.save(self, obj, save_persistent_id)\n",
      "/projects/b1171/ylk4626/mambaforge/envs/deepchopper/lib/python3.10/site-packages/dill/_dill.py:414: PicklingWarning: Cannot pickle <class 'builtins.FqEncoderOption'>: builtins.FqEncoderOption has recursive self-references that trigger a RecursionError.\n",
      "  StockPickler.save(self, obj, save_persistent_id)\n"
     ]
    },
    {
     "data": {
      "application/vnd.jupyter.widget-view+json": {
       "model_id": "09122e665eb4445da9cf3e7412251c16",
       "version_major": 2,
       "version_minor": 0
      },
      "text/plain": [
       "Map:   0%|          | 0/4000 [00:00<?, ? examples/s]"
      ]
     },
     "metadata": {},
     "output_type": "display_data"
    },
    {
     "data": {
      "application/vnd.jupyter.widget-view+json": {
       "model_id": "0ef5ad7cfb694f8481d4d6a81cae2da4",
       "version_major": 2,
       "version_minor": 0
      },
      "text/plain": [
       "Map:   0%|          | 0/500 [00:00<?, ? examples/s]"
      ]
     },
     "metadata": {},
     "output_type": "display_data"
    },
    {
     "data": {
      "application/vnd.jupyter.widget-view+json": {
       "model_id": "2511711db0d24849a742867c0478b7e2",
       "version_major": 2,
       "version_minor": 0
      },
      "text/plain": [
       "Map:   0%|          | 0/500 [00:00<?, ? examples/s]"
      ]
     },
     "metadata": {},
     "output_type": "display_data"
    }
   ],
   "source": [
    "from functools import partial\n",
    "\n",
    "from transformers import DataCollatorForTokenClassification\n",
    "\n",
    "def tokenize_and_align_labels_and_quals(data, tokenizer, max_length, pad_qual=0, pad_label=-100):\n",
    "    tokenized_inputs = tokenizer(data[\"seq\"], max_length=max_length, truncation=True, padding=True)\n",
    "    labels = torch.tensor(\n",
    "        deepchopper.vertorize_target(*data[\"target\"], len(data[\"seq\"])) + [pad_label]\n",
    "    )\n",
    "    quals = torch.cat((data[\"qual\"], torch.tensor([pad_qual]))).float()\n",
    "    normalized_quals =  torch.nn.functional.normalize(quals, dim=0)\n",
    "    tokenized_inputs.update({\"labels\": labels, \"input_quals\": quals})\n",
    "    return tokenized_inputs\n",
    "\n",
    "\n",
    "def tokenize_dataset(dataset, tokenizer, max_length):\n",
    "    return dataset.map(\n",
    "        partial(tokenize_and_align_labels_and_quals, tokenizer=tokenizer, max_length=max_length)\n",
    "    ).remove_columns([\"id\", \"seq\", \"qual\", \"target\"])\n",
    "\n",
    "\n",
    "hyenadna_name = \"hyenadna-small-32k-seqlen\"\n",
    "tokenizer = load_tokenizer_from_hyena_model(hyenadna_name)\n",
    "\n",
    "tokenize_train_dataset = tokenize_dataset(\n",
    "    train_dataset, tokenizer, max_length=tokenizer.max_len_single_sentence\n",
    ")\n",
    "tokenize_val_dataset = tokenize_dataset(\n",
    "    val_dataset, tokenizer, max_length=tokenizer.max_len_single_sentence\n",
    ")\n",
    "tokenize_test_dataset = tokenize_dataset(\n",
    "    test_dataset, tokenizer, max_length=tokenizer.max_len_single_sentence\n",
    ")"
   ]
  },
  {
   "cell_type": "code",
   "execution_count": 31,
   "id": "c9de6cfd-fd00-4207-8d7d-189707306e5f",
   "metadata": {},
   "outputs": [
    {
     "name": "stderr",
     "output_type": "stream",
     "text": [
      "loading configuration file config.json from cache at /tmp/ylk4626-jupyter//xdg_cache_home/huggingface/hub/models--LongSafari--hyenadna-small-32k-seqlen-hf/snapshots/8fe770c78eb13fe33bf81501612faeddf4d6f331/config.json\n",
      "loading configuration file config.json from cache at /tmp/ylk4626-jupyter//xdg_cache_home/huggingface/hub/models--LongSafari--hyenadna-small-32k-seqlen-hf/snapshots/8fe770c78eb13fe33bf81501612faeddf4d6f331/config.json\n",
      "Model config HyenaConfig {\n",
      "  \"_name_or_path\": \"LongSafari/hyenadna-small-32k-seqlen-hf\",\n",
      "  \"activation_freq\": 10,\n",
      "  \"architectures\": [\n",
      "    \"HyenaDNAForCausalLM\"\n",
      "  ],\n",
      "  \"auto_map\": {\n",
      "    \"AutoConfig\": \"LongSafari/hyenadna-small-32k-seqlen-hf--configuration_hyena.HyenaConfig\",\n",
      "    \"AutoModel\": \"LongSafari/hyenadna-small-32k-seqlen-hf--modeling_hyena.HyenaDNAModel\",\n",
      "    \"AutoModelForCausalLM\": \"LongSafari/hyenadna-small-32k-seqlen-hf--modeling_hyena.HyenaDNAForCausalLM\",\n",
      "    \"AutoModelForSequenceClassification\": \"LongSafari/hyenadna-small-32k-seqlen-hf--modeling_hyena.HyenaDNAForSequenceClassification\"\n",
      "  },\n",
      "  \"d_inner\": 1024,\n",
      "  \"d_model\": 256,\n",
      "  \"emb_dim\": 5,\n",
      "  \"embed_dropout\": 0.1,\n",
      "  \"filter_order\": 64,\n",
      "  \"hyena_dropout\": 0.0,\n",
      "  \"hyena_filter_dropout\": 0.0,\n",
      "  \"hyena_order\": 2,\n",
      "  \"initializer_range\": 0.02,\n",
      "  \"layer_norm_epsilon\": 1e-05,\n",
      "  \"max_seq_len\": 32770,\n",
      "  \"model_type\": \"hyenadna\",\n",
      "  \"n_layer\": 4,\n",
      "  \"num_inner_mlps\": 2,\n",
      "  \"pad_token_id\": 4,\n",
      "  \"pad_vocab_size_multiple\": 8,\n",
      "  \"short_filter_order\": 3,\n",
      "  \"tie_word_embeddings\": false,\n",
      "  \"torch_dtype\": \"float32\",\n",
      "  \"train_freq\": true,\n",
      "  \"transformers_version\": \"4.38.1\",\n",
      "  \"use_bias\": true,\n",
      "  \"vocab_size\": 12\n",
      "}\n",
      "\n",
      "loading weights file model.safetensors from cache at /tmp/ylk4626-jupyter//xdg_cache_home/huggingface/hub/models--LongSafari--hyenadna-small-32k-seqlen-hf/snapshots/8fe770c78eb13fe33bf81501612faeddf4d6f331/model.safetensors\n",
      "Some weights of the model checkpoint at LongSafari/hyenadna-small-32k-seqlen-hf were not used when initializing HyenaDNAModel: ['lm_head.weight']\n",
      "- This IS expected if you are initializing HyenaDNAModel from the checkpoint of a model trained on another task or with another architecture (e.g. initializing a BertForSequenceClassification model from a BertForPreTraining model).\n",
      "- This IS NOT expected if you are initializing HyenaDNAModel from the checkpoint of a model that you expect to be exactly identical (initializing a BertForSequenceClassification model from a BertForSequenceClassification model).\n",
      "All the weights of HyenaDNAModel were initialized from the model checkpoint at LongSafari/hyenadna-small-32k-seqlen-hf.\n",
      "If your task is similar to the task the model of the checkpoint was trained on, you can already use HyenaDNAModel for predictions without further training.\n"
     ]
    }
   ],
   "source": [
    "# data_collator = DataCollatorForTokenClassification(tokenizer)\n",
    "data_collator = DataCollatorForTokenClassificationWithQual(tokenizer)\n",
    "model_config = TokenClassificationConfig()\n",
    "model = TokenClassification(model_config)"
   ]
  },
  {
   "cell_type": "code",
   "execution_count": 32,
   "id": "c80d8be4-4cbb-4ad1-b987-5d28c5ed001b",
   "metadata": {},
   "outputs": [
    {
     "data": {
      "text/plain": [
       "TokenClassification(\n",
       "  (hyenadna): HyenaDNAModel(\n",
       "    (backbone): HyenaLMBackbone(\n",
       "      (embeddings): HyenaEmbeddings(\n",
       "        (word_embeddings): Embedding(16, 256)\n",
       "      )\n",
       "      (dropout): Dropout(p=0.1, inplace=False)\n",
       "      (layers): ModuleList(\n",
       "        (0-3): 4 x HyenaBlock(\n",
       "          (mixer): HyenaOperator(\n",
       "            (dropout): Dropout(p=0.0, inplace=False)\n",
       "            (in_proj): Linear(in_features=256, out_features=768, bias=True)\n",
       "            (out_proj): Linear(in_features=256, out_features=256, bias=True)\n",
       "            (short_filter): Conv1d(768, 768, kernel_size=(3,), stride=(1,), padding=(2,), groups=768)\n",
       "            (filter_fn): HyenaFilter(\n",
       "              (dropout): Dropout(p=0.0, inplace=False)\n",
       "              (pos_emb): HyenaPositionalEmbedding()\n",
       "              (implicit_filter): Sequential(\n",
       "                (0): Linear(in_features=5, out_features=64, bias=True)\n",
       "                (1): HyenaSin()\n",
       "                (2): Linear(in_features=64, out_features=64, bias=True)\n",
       "                (3): HyenaSin()\n",
       "                (4): Linear(in_features=64, out_features=64, bias=True)\n",
       "                (5): HyenaSin()\n",
       "                (6): Linear(in_features=64, out_features=256, bias=False)\n",
       "              )\n",
       "              (modulation): HyenaExponentialModulation()\n",
       "            )\n",
       "          )\n",
       "          (norm1): LayerNorm((256,), eps=1e-05, elementwise_affine=True)\n",
       "          (mlp): HyenaMlp(\n",
       "            (fc1): Linear(in_features=256, out_features=1024, bias=True)\n",
       "            (fc2): Linear(in_features=1024, out_features=256, bias=True)\n",
       "          )\n",
       "          (norm2): LayerNorm((256,), eps=1e-05, elementwise_affine=True)\n",
       "        )\n",
       "      )\n",
       "      (ln_f): LayerNorm((256,), eps=1e-05, elementwise_affine=True)\n",
       "    )\n",
       "  )\n",
       "  (head): TokenClassificationHead(\n",
       "    (activation): ReLU()\n",
       "    (linear1): Linear(in_features=256, out_features=1024, bias=True)\n",
       "    (linear2): Linear(in_features=1024, out_features=1024, bias=True)\n",
       "    (linear3): Linear(in_features=1024, out_features=2, bias=True)\n",
       "    (qual_linear1): Identity()\n",
       "  )\n",
       ")"
      ]
     },
     "execution_count": 32,
     "metadata": {},
     "output_type": "execute_result"
    }
   ],
   "source": [
    "model"
   ]
  },
  {
   "cell_type": "code",
   "execution_count": 33,
   "id": "29",
   "metadata": {},
   "outputs": [
    {
     "data": {
      "text/plain": [
       "Dataset({\n",
       "    features: ['input_ids', 'labels', 'input_quals'],\n",
       "    num_rows: 4000\n",
       "})"
      ]
     },
     "execution_count": 33,
     "metadata": {},
     "output_type": "execute_result"
    }
   ],
   "source": [
    "tokenize_train_dataset"
   ]
  },
  {
   "cell_type": "code",
   "execution_count": 34,
   "id": "30",
   "metadata": {},
   "outputs": [
    {
     "name": "stderr",
     "output_type": "stream",
     "text": [
      "PyTorch: setting up devices\n",
      "Detected kernel version 3.10.0, which is below the recommended minimum of 5.5.0; this can cause the process to hang. It is recommended to upgrade the kernel to the minimum version or higher.\n",
      "***** Running training *****\n",
      "  Num examples = 4,000\n",
      "  Num Epochs = 1\n",
      "  Instantaneous batch size per device = 8\n",
      "  Total train batch size (w. parallel, distributed & accumulation) = 8\n",
      "  Gradient Accumulation steps = 1\n",
      "  Total optimization steps = 500\n",
      "  Number of trainable parameters = 4,592,386\n",
      "Automatic Weights & Biases logging enabled, to disable set os.environ[\"WANDB_DISABLED\"] = \"true\"\n",
      "Failed to detect the name of this notebook, you can set it manually with the WANDB_NOTEBOOK_NAME environment variable to enable code saving.\n",
      "\u001b[34m\u001b[1mwandb\u001b[0m: Currently logged in as: \u001b[33myangyangli\u001b[0m. Use \u001b[1m`wandb login --relogin`\u001b[0m to force relogin\n"
     ]
    },
    {
     "data": {
      "text/html": [
       "Tracking run with wandb version 0.16.3"
      ],
      "text/plain": [
       "<IPython.core.display.HTML object>"
      ]
     },
     "metadata": {},
     "output_type": "display_data"
    },
    {
     "data": {
      "text/html": [
       "Run data is saved locally in <code>/projects/b1171/ylk4626/project/DeepChopper/notebooks/wandb/run-20240301_151332-ev3x3suj</code>"
      ],
      "text/plain": [
       "<IPython.core.display.HTML object>"
      ]
     },
     "metadata": {},
     "output_type": "display_data"
    },
    {
     "data": {
      "text/html": [
       "Syncing run <strong><a href='https://wandb.ai/yangyangli/huggingface/runs/ev3x3suj' target=\"_blank\">royal-water-15</a></strong> to <a href='https://wandb.ai/yangyangli/huggingface' target=\"_blank\">Weights & Biases</a> (<a href='https://wandb.me/run' target=\"_blank\">docs</a>)<br/>"
      ],
      "text/plain": [
       "<IPython.core.display.HTML object>"
      ]
     },
     "metadata": {},
     "output_type": "display_data"
    },
    {
     "data": {
      "text/html": [
       " View project at <a href='https://wandb.ai/yangyangli/huggingface' target=\"_blank\">https://wandb.ai/yangyangli/huggingface</a>"
      ],
      "text/plain": [
       "<IPython.core.display.HTML object>"
      ]
     },
     "metadata": {},
     "output_type": "display_data"
    },
    {
     "data": {
      "text/html": [
       " View run at <a href='https://wandb.ai/yangyangli/huggingface/runs/ev3x3suj' target=\"_blank\">https://wandb.ai/yangyangli/huggingface/runs/ev3x3suj</a>"
      ],
      "text/plain": [
       "<IPython.core.display.HTML object>"
      ]
     },
     "metadata": {},
     "output_type": "display_data"
    },
    {
     "data": {
      "text/html": [
       "\n",
       "    <div>\n",
       "      \n",
       "      <progress value='500' max='500' style='width:300px; height:20px; vertical-align: middle;'></progress>\n",
       "      [500/500 02:06, Epoch 1/1]\n",
       "    </div>\n",
       "    <table border=\"1\" class=\"dataframe\">\n",
       "  <thead>\n",
       " <tr style=\"text-align: left;\">\n",
       "      <th>Epoch</th>\n",
       "      <th>Training Loss</th>\n",
       "      <th>Validation Loss</th>\n",
       "      <th>Accuracy</th>\n",
       "      <th>F1</th>\n",
       "      <th>Precision</th>\n",
       "      <th>Recall</th>\n",
       "    </tr>\n",
       "  </thead>\n",
       "  <tbody>\n",
       "    <tr>\n",
       "      <td>1</td>\n",
       "      <td>0.023000</td>\n",
       "      <td>0.004554</td>\n",
       "      <td>0.998527</td>\n",
       "      <td>0.974879</td>\n",
       "      <td>0.975158</td>\n",
       "      <td>0.974599</td>\n",
       "    </tr>\n",
       "  </tbody>\n",
       "</table><p>"
      ],
      "text/plain": [
       "<IPython.core.display.HTML object>"
      ]
     },
     "metadata": {},
     "output_type": "display_data"
    },
    {
     "name": "stderr",
     "output_type": "stream",
     "text": [
      "***** Running Evaluation *****\n",
      "  Num examples = 500\n",
      "  Batch size = 8\n",
      "Checkpoint destination directory hyena_model_test2/checkpoint-500 already exists and is non-empty. Saving will proceed but saved results may be invalid.\n",
      "Saving model checkpoint to hyena_model_test2/checkpoint-500\n",
      "Configuration saved in hyena_model_test2/checkpoint-500/config.json\n",
      "Removed shared tensor {'hyenadna.backbone.layers.2.mixer.filter_fn.implicit_filter.5.freq', 'hyenadna.backbone.layers.1.mixer.filter_fn.implicit_filter.3.freq', 'hyenadna.backbone.layers.3.mixer.filter_fn.implicit_filter.3.freq', 'hyenadna.backbone.layers.2.mixer.filter_fn.implicit_filter.3.freq', 'hyenadna.backbone.layers.0.mixer.filter_fn.implicit_filter.3.freq', 'hyenadna.backbone.layers.3.mixer.filter_fn.implicit_filter.5.freq', 'hyenadna.backbone.layers.1.mixer.filter_fn.implicit_filter.5.freq', 'hyenadna.backbone.layers.0.mixer.filter_fn.implicit_filter.5.freq'} while saving. This should be OK, but check by verifying that you don't receive any warning while reloading\n",
      "Model weights saved in hyena_model_test2/checkpoint-500/model.safetensors\n",
      "tokenizer config file saved in hyena_model_test2/checkpoint-500/tokenizer_config.json\n",
      "Special tokens file saved in hyena_model_test2/checkpoint-500/special_tokens_map.json\n",
      "\n",
      "\n",
      "Training completed. Do not forget to share your model on huggingface.co/models =)\n",
      "\n",
      "\n",
      "Loading best model from hyena_model_test2/checkpoint-500 (score: 0.0045535205863416195).\n",
      "There were missing keys in the checkpoint model loaded: ['hyenadna.backbone.layers.0.mixer.filter_fn.implicit_filter.3.freq', 'hyenadna.backbone.layers.0.mixer.filter_fn.implicit_filter.5.freq', 'hyenadna.backbone.layers.1.mixer.filter_fn.implicit_filter.3.freq', 'hyenadna.backbone.layers.1.mixer.filter_fn.implicit_filter.5.freq', 'hyenadna.backbone.layers.2.mixer.filter_fn.implicit_filter.3.freq', 'hyenadna.backbone.layers.2.mixer.filter_fn.implicit_filter.5.freq', 'hyenadna.backbone.layers.3.mixer.filter_fn.implicit_filter.3.freq', 'hyenadna.backbone.layers.3.mixer.filter_fn.implicit_filter.5.freq'].\n"
     ]
    }
   ],
   "source": [
    "training_args = TrainingArguments(\n",
    "    output_dir=\"hyena_model_test2\",\n",
    "    learning_rate=2e-5,\n",
    "    per_device_train_batch_size=8,\n",
    "    per_device_eval_batch_size=8,\n",
    "    num_train_epochs=1,\n",
    "    weight_decay=0.01,\n",
    "    evaluation_strategy=\"epoch\",\n",
    "    save_strategy=\"epoch\",\n",
    "    load_best_model_at_end=True,\n",
    "    push_to_hub=False,\n",
    "    torch_compile=False,\n",
    "    report_to = \"wandb\",\n",
    ")\n",
    "\n",
    "trainer = Trainer(\n",
    "    model=model,\n",
    "    args=training_args,\n",
    "    train_dataset=tokenize_train_dataset,\n",
    "    eval_dataset=tokenize_test_dataset,\n",
    "    tokenizer=tokenizer,\n",
    "    data_collator=data_collator,\n",
    "    compute_metrics=compute_metrics,\n",
    ")\n",
    "result = trainer.train(resume_from_checkpoint = False)"
   ]
  },
  {
   "cell_type": "code",
   "execution_count": 46,
   "id": "2567628f-d0bc-4575-a0ec-ccc0217351a4",
   "metadata": {},
   "outputs": [
    {
     "name": "stderr",
     "output_type": "stream",
     "text": [
      "loading configuration file ./hyena_model_test2/checkpoint-500/config.json\n",
      "Model config TokenClassificationConfig {\n",
      "  \"architectures\": [\n",
      "    \"TokenClassification\"\n",
      "  ],\n",
      "  \"input_size\": 256,\n",
      "  \"lin1_size\": 1024,\n",
      "  \"lin2_size\": 1024,\n",
      "  \"model_type\": \"token-classification\",\n",
      "  \"num_class\": 2,\n",
      "  \"torch_dtype\": \"float32\",\n",
      "  \"transformers_version\": \"4.38.1\",\n",
      "  \"use_identity_layer_for_qual\": true\n",
      "}\n",
      "\n",
      "loading weights file ./hyena_model_test2/checkpoint-500/model.safetensors\n",
      "loading configuration file config.json from cache at /tmp/ylk4626-jupyter//xdg_cache_home/huggingface/hub/models--LongSafari--hyenadna-small-32k-seqlen-hf/snapshots/8fe770c78eb13fe33bf81501612faeddf4d6f331/config.json\n",
      "loading configuration file config.json from cache at /tmp/ylk4626-jupyter//xdg_cache_home/huggingface/hub/models--LongSafari--hyenadna-small-32k-seqlen-hf/snapshots/8fe770c78eb13fe33bf81501612faeddf4d6f331/config.json\n",
      "Model config HyenaConfig {\n",
      "  \"_name_or_path\": \"LongSafari/hyenadna-small-32k-seqlen-hf\",\n",
      "  \"activation_freq\": 10,\n",
      "  \"architectures\": [\n",
      "    \"HyenaDNAForCausalLM\"\n",
      "  ],\n",
      "  \"auto_map\": {\n",
      "    \"AutoConfig\": \"LongSafari/hyenadna-small-32k-seqlen-hf--configuration_hyena.HyenaConfig\",\n",
      "    \"AutoModel\": \"LongSafari/hyenadna-small-32k-seqlen-hf--modeling_hyena.HyenaDNAModel\",\n",
      "    \"AutoModelForCausalLM\": \"LongSafari/hyenadna-small-32k-seqlen-hf--modeling_hyena.HyenaDNAForCausalLM\",\n",
      "    \"AutoModelForSequenceClassification\": \"LongSafari/hyenadna-small-32k-seqlen-hf--modeling_hyena.HyenaDNAForSequenceClassification\"\n",
      "  },\n",
      "  \"d_inner\": 1024,\n",
      "  \"d_model\": 256,\n",
      "  \"emb_dim\": 5,\n",
      "  \"embed_dropout\": 0.1,\n",
      "  \"filter_order\": 64,\n",
      "  \"hyena_dropout\": 0.0,\n",
      "  \"hyena_filter_dropout\": 0.0,\n",
      "  \"hyena_order\": 2,\n",
      "  \"initializer_range\": 0.02,\n",
      "  \"layer_norm_epsilon\": 1e-05,\n",
      "  \"max_seq_len\": 32770,\n",
      "  \"model_type\": \"hyenadna\",\n",
      "  \"n_layer\": 4,\n",
      "  \"num_inner_mlps\": 2,\n",
      "  \"pad_token_id\": 4,\n",
      "  \"pad_vocab_size_multiple\": 8,\n",
      "  \"short_filter_order\": 3,\n",
      "  \"tie_word_embeddings\": false,\n",
      "  \"torch_dtype\": \"float32\",\n",
      "  \"train_freq\": true,\n",
      "  \"transformers_version\": \"4.38.1\",\n",
      "  \"use_bias\": true,\n",
      "  \"vocab_size\": 12\n",
      "}\n",
      "\n",
      "loading weights file model.safetensors from cache at /tmp/ylk4626-jupyter//xdg_cache_home/huggingface/hub/models--LongSafari--hyenadna-small-32k-seqlen-hf/snapshots/8fe770c78eb13fe33bf81501612faeddf4d6f331/model.safetensors\n",
      "Some weights of the model checkpoint at LongSafari/hyenadna-small-32k-seqlen-hf were not used when initializing HyenaDNAModel: ['lm_head.weight']\n",
      "- This IS expected if you are initializing HyenaDNAModel from the checkpoint of a model trained on another task or with another architecture (e.g. initializing a BertForSequenceClassification model from a BertForPreTraining model).\n",
      "- This IS NOT expected if you are initializing HyenaDNAModel from the checkpoint of a model that you expect to be exactly identical (initializing a BertForSequenceClassification model from a BertForSequenceClassification model).\n",
      "All the weights of HyenaDNAModel were initialized from the model checkpoint at LongSafari/hyenadna-small-32k-seqlen-hf.\n",
      "If your task is similar to the task the model of the checkpoint was trained on, you can already use HyenaDNAModel for predictions without further training.\n",
      "All model checkpoint weights were used when initializing TokenClassification.\n",
      "\n",
      "All the weights of TokenClassification were initialized from the model checkpoint at ./hyena_model_test2/checkpoint-500/.\n",
      "If your task is similar to the task the model of the checkpoint was trained on, you can already use TokenClassification for predictions without further training.\n"
     ]
    }
   ],
   "source": [
    "# resume_config = TokenClassificationConfig.from_pretrained(\"./hyena_model_test2/checkpoint-1000/\")\n",
    "resume_model  = TokenClassification.from_pretrained(\"./hyena_model_test2/checkpoint-500/\")"
   ]
  },
  {
   "cell_type": "code",
   "execution_count": 52,
   "id": "b5852199-9fcf-4db0-b79b-0a593de8cff3",
   "metadata": {},
   "outputs": [
    {
     "data": {
      "text/plain": [
       "TokenClassification(\n",
       "  (hyenadna): HyenaDNAModel(\n",
       "    (backbone): HyenaLMBackbone(\n",
       "      (embeddings): HyenaEmbeddings(\n",
       "        (word_embeddings): Embedding(16, 256)\n",
       "      )\n",
       "      (dropout): Dropout(p=0.1, inplace=False)\n",
       "      (layers): ModuleList(\n",
       "        (0-3): 4 x HyenaBlock(\n",
       "          (mixer): HyenaOperator(\n",
       "            (dropout): Dropout(p=0.0, inplace=False)\n",
       "            (in_proj): Linear(in_features=256, out_features=768, bias=True)\n",
       "            (out_proj): Linear(in_features=256, out_features=256, bias=True)\n",
       "            (short_filter): Conv1d(768, 768, kernel_size=(3,), stride=(1,), padding=(2,), groups=768)\n",
       "            (filter_fn): HyenaFilter(\n",
       "              (dropout): Dropout(p=0.0, inplace=False)\n",
       "              (pos_emb): HyenaPositionalEmbedding()\n",
       "              (implicit_filter): Sequential(\n",
       "                (0): Linear(in_features=5, out_features=64, bias=True)\n",
       "                (1): HyenaSin()\n",
       "                (2): Linear(in_features=64, out_features=64, bias=True)\n",
       "                (3): HyenaSin()\n",
       "                (4): Linear(in_features=64, out_features=64, bias=True)\n",
       "                (5): HyenaSin()\n",
       "                (6): Linear(in_features=64, out_features=256, bias=False)\n",
       "              )\n",
       "              (modulation): HyenaExponentialModulation()\n",
       "            )\n",
       "          )\n",
       "          (norm1): LayerNorm((256,), eps=1e-05, elementwise_affine=True)\n",
       "          (mlp): HyenaMlp(\n",
       "            (fc1): Linear(in_features=256, out_features=1024, bias=True)\n",
       "            (fc2): Linear(in_features=1024, out_features=256, bias=True)\n",
       "          )\n",
       "          (norm2): LayerNorm((256,), eps=1e-05, elementwise_affine=True)\n",
       "        )\n",
       "      )\n",
       "      (ln_f): LayerNorm((256,), eps=1e-05, elementwise_affine=True)\n",
       "    )\n",
       "  )\n",
       "  (head): TokenClassificationHead(\n",
       "    (activation): ReLU()\n",
       "    (linear1): Linear(in_features=256, out_features=1024, bias=True)\n",
       "    (linear2): Linear(in_features=1024, out_features=1024, bias=True)\n",
       "    (linear3): Linear(in_features=1024, out_features=2, bias=True)\n",
       "    (qual_linear1): Identity()\n",
       "  )\n",
       ")"
      ]
     },
     "execution_count": 52,
     "metadata": {},
     "output_type": "execute_result"
    }
   ],
   "source": [
    "model.cpu()"
   ]
  },
  {
   "cell_type": "code",
   "execution_count": 53,
   "id": "643ef782-eb39-44f2-8414-2e69cde12f47",
   "metadata": {
    "scrolled": true
   },
   "outputs": [
    {
     "data": {
      "text/plain": [
       "tensor([[ 0.0211, -0.0359, -0.0023,  ...,  0.0611,  0.0329,  0.0383],\n",
       "        [ 0.0439,  0.0458, -0.0358,  ...,  0.0044,  0.0060,  0.0362],\n",
       "        [-0.0601,  0.0475,  0.0528,  ..., -0.0582, -0.0536, -0.0541],\n",
       "        ...,\n",
       "        [ 0.0551,  0.0277,  0.0052,  ...,  0.0281, -0.0534, -0.0359],\n",
       "        [ 0.0395,  0.0079,  0.0401,  ..., -0.0006, -0.0034, -0.0282],\n",
       "        [-0.0273, -0.0044,  0.0127,  ...,  0.0619, -0.0128, -0.0341]])"
      ]
     },
     "execution_count": 53,
     "metadata": {},
     "output_type": "execute_result"
    }
   ],
   "source": [
    "model.state_dict()['head.linear1.weight']"
   ]
  },
  {
   "cell_type": "code",
   "execution_count": 54,
   "id": "3be11c40-5e67-430a-98be-fb3d3b57006a",
   "metadata": {
    "scrolled": true
   },
   "outputs": [
    {
     "data": {
      "text/plain": [
       "tensor([[ 0.0211, -0.0359, -0.0023,  ...,  0.0611,  0.0329,  0.0383],\n",
       "        [ 0.0439,  0.0458, -0.0358,  ...,  0.0044,  0.0060,  0.0362],\n",
       "        [-0.0601,  0.0475,  0.0528,  ..., -0.0582, -0.0536, -0.0541],\n",
       "        ...,\n",
       "        [ 0.0551,  0.0277,  0.0052,  ...,  0.0281, -0.0534, -0.0359],\n",
       "        [ 0.0395,  0.0079,  0.0401,  ..., -0.0006, -0.0034, -0.0282],\n",
       "        [-0.0273, -0.0044,  0.0127,  ...,  0.0619, -0.0128, -0.0341]])"
      ]
     },
     "execution_count": 54,
     "metadata": {},
     "output_type": "execute_result"
    }
   ],
   "source": [
    "resume_model.state_dict()['head.linear1.weight']"
   ]
  },
  {
   "cell_type": "code",
   "execution_count": 66,
   "id": "dd052711-effd-437c-a90f-6155e8486fdd",
   "metadata": {},
   "outputs": [],
   "source": [
    "for k in model.state_dict():\n",
    "    v1 = resume_model.state_dict()[k]\n",
    "    v2 = model.state_dict()[k]\n",
    "    result = v1.eq(v2)\n",
    "    if  not torch.all(result) :\n",
    "        print(f\"{k} is not equal\")"
   ]
  },
  {
   "cell_type": "code",
   "execution_count": 60,
   "id": "e6b18e1b-a1fb-4ea6-9c44-a281242a50a0",
   "metadata": {},
   "outputs": [],
   "source": [
    "from safetensors import safe_open\n",
    "\n",
    "tensors = {}\n",
    "with safe_open(\"./hyena_model_test2/checkpoint-500/model.safetensors\", framework=\"pt\", device=0) as f:\n",
    "    for k in f.keys():\n",
    "        tensors[k] = f.get_tensor(k)\n"
   ]
  },
  {
   "cell_type": "code",
   "execution_count": 36,
   "id": "32",
   "metadata": {},
   "outputs": [
    {
     "name": "stderr",
     "output_type": "stream",
     "text": [
      "***** Running Evaluation *****\n",
      "  Num examples = 500\n",
      "  Batch size = 8\n"
     ]
    },
    {
     "data": {
      "text/html": [
       "\n",
       "    <div>\n",
       "      \n",
       "      <progress value='63' max='63' style='width:300px; height:20px; vertical-align: middle;'></progress>\n",
       "      [63/63 00:03]\n",
       "    </div>\n",
       "    "
      ],
      "text/plain": [
       "<IPython.core.display.HTML object>"
      ]
     },
     "metadata": {},
     "output_type": "display_data"
    },
    {
     "data": {
      "text/plain": [
       "{'eval_loss': 0.0045535205863416195,\n",
       " 'eval_accuracy': 0.9985270825136446,\n",
       " 'eval_f1': 0.9748788391500101,\n",
       " 'eval_precision': 0.9751584865609133,\n",
       " 'eval_recall': 0.9745993520827958,\n",
       " 'eval_runtime': 58.2788,\n",
       " 'eval_samples_per_second': 8.579,\n",
       " 'eval_steps_per_second': 1.081,\n",
       " 'epoch': 1.0}"
      ]
     },
     "execution_count": 36,
     "metadata": {},
     "output_type": "execute_result"
    }
   ],
   "source": [
    "trainer.evaluate()"
   ]
  },
  {
   "cell_type": "code",
   "execution_count": 35,
   "id": "33",
   "metadata": {},
   "outputs": [
    {
     "name": "stderr",
     "output_type": "stream",
     "text": [
      "The following columns in the test set don't have a corresponding argument in `TokenClassification.forward` and have been ignored: input_quals. If input_quals are not expected by `TokenClassification.forward`,  you can safely ignore this message.\n",
      "***** Running Prediction *****\n",
      "  Num examples = 500\n",
      "  Batch size = 8\n"
     ]
    },
    {
     "data": {
      "text/html": [],
      "text/plain": [
       "<IPython.core.display.HTML object>"
      ]
     },
     "metadata": {},
     "output_type": "display_data"
    },
    {
     "name": "stdout",
     "output_type": "stream",
     "text": [
      "predictions.shape=(500, 9524, 2)\n",
      "labels.shape=(500, 9524)\n"
     ]
    }
   ],
   "source": [
    "predicts = trainer.predict(tokenize_val_dataset)"
   ]
  },
  {
   "cell_type": "code",
   "execution_count": null,
   "id": "2dd38131-ab76-4fac-80c7-42423c758a53",
   "metadata": {},
   "outputs": [],
   "source": []
  },
  {
   "cell_type": "code",
   "execution_count": 51,
   "id": "34",
   "metadata": {},
   "outputs": [],
   "source": [
    "def summary_predict(predictions, labels):\n",
    "    predictions = np.argmax(predictions, axis=2)\n",
    "    # Initialize lists to hold the filtered predictions and labels\n",
    "    true_predictions = []\n",
    "    true_labels = []\n",
    "\n",
    "    # Filter out '-100' labels and correspondingly filter predictions\n",
    "    for prediction, label in zip(predictions, labels):\n",
    "        filtered_prediction = []\n",
    "        filtered_label = []\n",
    "\n",
    "        for p, l in zip(prediction, label):\n",
    "            if l != -100:\n",
    "                filtered_prediction.append(p)\n",
    "                filtered_label.append(l)\n",
    "        true_predictions.append(filtered_prediction)\n",
    "        true_labels.append(filtered_label)\n",
    "\n",
    "    return true_predictions, true_labels\n",
    "\n",
    "from rich.console import Console\n",
    "from rich.highlighter import RegexHighlighter\n",
    "from rich.theme import Theme\n",
    "\n",
    "\n",
    "class LabelHighlighter(RegexHighlighter):\n",
    "    \"\"\"Apply style to anything that looks like an email.\"\"\"\n",
    "\n",
    "    base_style = \"label.\"\n",
    "    highlights = [r\"(?P<label>1+)\"]\n",
    "\n",
    "\n",
    "\n",
    "def alignment_predict(prediction, label):\n",
    "    import textwrap\n",
    "\n",
    "    prediction_str = \"\".join(map(lambda x: str(x), prediction))\n",
    "    label_str = \"\".join(map(lambda x: str(x), label))\n",
    "    \n",
    "    front2 = \"L:\"\n",
    "    front1 = \"P:\"\n",
    "    theme = Theme({\"label.label\": \"bold magenta\"})\n",
    "    console = Console(highlighter=LabelHighlighter(), theme=theme)\n",
    "    for l1, l2 in zip(textwrap.wrap(prediction_str), textwrap.wrap(label_str)):\n",
    "        ss = f\"{front1}{l1}\\n{front2}{l2}\"\n",
    "        console.print(ss)"
   ]
  },
  {
   "cell_type": "code",
   "execution_count": 38,
   "id": "36",
   "metadata": {},
   "outputs": [],
   "source": [
    "true_predictions, true_labels = summary_predict(predicts[0], predicts[1])"
   ]
  },
  {
   "cell_type": "code",
   "execution_count": 52,
   "id": "37",
   "metadata": {},
   "outputs": [
    {
     "data": {
      "text/html": [
       "<pre style=\"white-space:pre;overflow-x:auto;line-height:normal;font-family:Menlo,'DejaVu Sans Mono',consolas,'Courier New',monospace\">P:0000000000000000000000000000000000000000000000000000000000000000000000\n",
       "L:0000000000000000000000000000000000000000000000000000000000000000000000\n",
       "</pre>\n"
      ],
      "text/plain": [
       "P:0000000000000000000000000000000000000000000000000000000000000000000000\n",
       "L:0000000000000000000000000000000000000000000000000000000000000000000000\n"
      ]
     },
     "metadata": {},
     "output_type": "display_data"
    },
    {
     "data": {
      "text/html": [
       "<pre style=\"white-space:pre;overflow-x:auto;line-height:normal;font-family:Menlo,'DejaVu Sans Mono',consolas,'Courier New',monospace\">P:0000000000000000000000000000000000000000000000000000000000000000000000\n",
       "L:0000000000000000000000000000000000000000000000000000000000000000000000\n",
       "</pre>\n"
      ],
      "text/plain": [
       "P:0000000000000000000000000000000000000000000000000000000000000000000000\n",
       "L:0000000000000000000000000000000000000000000000000000000000000000000000\n"
      ]
     },
     "metadata": {},
     "output_type": "display_data"
    },
    {
     "data": {
      "text/html": [
       "<pre style=\"white-space:pre;overflow-x:auto;line-height:normal;font-family:Menlo,'DejaVu Sans Mono',consolas,'Courier New',monospace\">P:0000000000000000000000000000000000000000000000000000000000000000000000\n",
       "L:0000000000000000000000000000000000000000000000000000000000000000000000\n",
       "</pre>\n"
      ],
      "text/plain": [
       "P:0000000000000000000000000000000000000000000000000000000000000000000000\n",
       "L:0000000000000000000000000000000000000000000000000000000000000000000000\n"
      ]
     },
     "metadata": {},
     "output_type": "display_data"
    },
    {
     "data": {
      "text/html": [
       "<pre style=\"white-space:pre;overflow-x:auto;line-height:normal;font-family:Menlo,'DejaVu Sans Mono',consolas,'Courier New',monospace\">P:0000000000000000000000000000000000000000000000000000000000000000000000\n",
       "L:0000000000000000000000000000000000000000000000000000000000000000000000\n",
       "</pre>\n"
      ],
      "text/plain": [
       "P:0000000000000000000000000000000000000000000000000000000000000000000000\n",
       "L:0000000000000000000000000000000000000000000000000000000000000000000000\n"
      ]
     },
     "metadata": {},
     "output_type": "display_data"
    },
    {
     "data": {
      "text/html": [
       "<pre style=\"white-space:pre;overflow-x:auto;line-height:normal;font-family:Menlo,'DejaVu Sans Mono',consolas,'Courier New',monospace\">P:0000000000000000000000000000000000000000000000000000000000000000000000\n",
       "L:0000000000000000000000000000000000000000000000000000000000000000000000\n",
       "</pre>\n"
      ],
      "text/plain": [
       "P:0000000000000000000000000000000000000000000000000000000000000000000000\n",
       "L:0000000000000000000000000000000000000000000000000000000000000000000000\n"
      ]
     },
     "metadata": {},
     "output_type": "display_data"
    },
    {
     "data": {
      "text/html": [
       "<pre style=\"white-space:pre;overflow-x:auto;line-height:normal;font-family:Menlo,'DejaVu Sans Mono',consolas,'Courier New',monospace\">P:0000000000000000000000000000000000000000000000000000000000000000000000\n",
       "L:0000000000000000000000000000000000000000000000000000000000000000000000\n",
       "</pre>\n"
      ],
      "text/plain": [
       "P:0000000000000000000000000000000000000000000000000000000000000000000000\n",
       "L:0000000000000000000000000000000000000000000000000000000000000000000000\n"
      ]
     },
     "metadata": {},
     "output_type": "display_data"
    },
    {
     "data": {
      "text/html": [
       "<pre style=\"white-space:pre;overflow-x:auto;line-height:normal;font-family:Menlo,'DejaVu Sans Mono',consolas,'Courier New',monospace\">P:0000000000000000000000000000000000000000000000000000000000000000000000\n",
       "L:0000000000000000000000000000000000000000000000000000000000000000000000\n",
       "</pre>\n"
      ],
      "text/plain": [
       "P:0000000000000000000000000000000000000000000000000000000000000000000000\n",
       "L:0000000000000000000000000000000000000000000000000000000000000000000000\n"
      ]
     },
     "metadata": {},
     "output_type": "display_data"
    },
    {
     "data": {
      "text/html": [
       "<pre style=\"white-space:pre;overflow-x:auto;line-height:normal;font-family:Menlo,'DejaVu Sans Mono',consolas,'Courier New',monospace\">P:0000000000000000000000000000000000000000000000000000000000000000000000\n",
       "L:0000000000000000000000000000000000000000000000000000000000000000000000\n",
       "</pre>\n"
      ],
      "text/plain": [
       "P:0000000000000000000000000000000000000000000000000000000000000000000000\n",
       "L:0000000000000000000000000000000000000000000000000000000000000000000000\n"
      ]
     },
     "metadata": {},
     "output_type": "display_data"
    },
    {
     "data": {
      "text/html": [
       "<pre style=\"white-space:pre;overflow-x:auto;line-height:normal;font-family:Menlo,'DejaVu Sans Mono',consolas,'Courier New',monospace\">P:0000000000000000000000000000000000000000000000000000000000000000000000\n",
       "L:0000000000000000000000000000000000000000000000000000000000000000000000\n",
       "</pre>\n"
      ],
      "text/plain": [
       "P:0000000000000000000000000000000000000000000000000000000000000000000000\n",
       "L:0000000000000000000000000000000000000000000000000000000000000000000000\n"
      ]
     },
     "metadata": {},
     "output_type": "display_data"
    },
    {
     "data": {
      "text/html": [
       "<pre style=\"white-space:pre;overflow-x:auto;line-height:normal;font-family:Menlo,'DejaVu Sans Mono',consolas,'Courier New',monospace\">P:0000000000000000000000000000000000000000000000000000000000000000000000\n",
       "L:0000000000000000000000000000000000000000000000000000000000000000000000\n",
       "</pre>\n"
      ],
      "text/plain": [
       "P:0000000000000000000000000000000000000000000000000000000000000000000000\n",
       "L:0000000000000000000000000000000000000000000000000000000000000000000000\n"
      ]
     },
     "metadata": {},
     "output_type": "display_data"
    },
    {
     "data": {
      "text/html": [
       "<pre style=\"white-space:pre;overflow-x:auto;line-height:normal;font-family:Menlo,'DejaVu Sans Mono',consolas,'Courier New',monospace\">P:0000000000000000000000000000000000000000000000000000<span style=\"color: #800080; text-decoration-color: #800080; font-weight: bold\">111111111111111111</span>\n",
       "L:00000000000000000000000000000000000000000000000000<span style=\"color: #800080; text-decoration-color: #800080; font-weight: bold\">11111111111111111111</span>\n",
       "</pre>\n"
      ],
      "text/plain": [
       "P:0000000000000000000000000000000000000000000000000000\u001b[1;35m111111111111111111\u001b[0m\n",
       "L:00000000000000000000000000000000000000000000000000\u001b[1;35m11111111111111111111\u001b[0m\n"
      ]
     },
     "metadata": {},
     "output_type": "display_data"
    },
    {
     "data": {
      "text/html": [
       "<pre style=\"white-space:pre;overflow-x:auto;line-height:normal;font-family:Menlo,'DejaVu Sans Mono',consolas,'Courier New',monospace\">P:<span style=\"color: #800080; text-decoration-color: #800080; font-weight: bold\">111111111111111</span>000<span style=\"color: #800080; text-decoration-color: #800080; font-weight: bold\">1111111111111111111111</span>000000000000000000000000000000\n",
       "L:<span style=\"color: #800080; text-decoration-color: #800080; font-weight: bold\">111111111111111111111111111111111111111</span>0000000000000000000000000000000\n",
       "</pre>\n"
      ],
      "text/plain": [
       "P:\u001b[1;35m111111111111111\u001b[0m000\u001b[1;35m1111111111111111111111\u001b[0m000000000000000000000000000000\n",
       "L:\u001b[1;35m111111111111111111111111111111111111111\u001b[0m0000000000000000000000000000000\n"
      ]
     },
     "metadata": {},
     "output_type": "display_data"
    },
    {
     "data": {
      "text/html": [
       "<pre style=\"white-space:pre;overflow-x:auto;line-height:normal;font-family:Menlo,'DejaVu Sans Mono',consolas,'Courier New',monospace\">P:0000000000000000000000000000000000000000000000000000000000000000000000\n",
       "L:0000000000000000000000000000000000000000000000000000000000000000000000\n",
       "</pre>\n"
      ],
      "text/plain": [
       "P:0000000000000000000000000000000000000000000000000000000000000000000000\n",
       "L:0000000000000000000000000000000000000000000000000000000000000000000000\n"
      ]
     },
     "metadata": {},
     "output_type": "display_data"
    },
    {
     "data": {
      "text/html": [
       "<pre style=\"white-space:pre;overflow-x:auto;line-height:normal;font-family:Menlo,'DejaVu Sans Mono',consolas,'Courier New',monospace\">P:0000000000000000000000000000000000000000000000000000000000000000000000\n",
       "L:0000000000000000000000000000000000000000000000000000000000000000000000\n",
       "</pre>\n"
      ],
      "text/plain": [
       "P:0000000000000000000000000000000000000000000000000000000000000000000000\n",
       "L:0000000000000000000000000000000000000000000000000000000000000000000000\n"
      ]
     },
     "metadata": {},
     "output_type": "display_data"
    },
    {
     "data": {
      "text/html": [
       "<pre style=\"white-space:pre;overflow-x:auto;line-height:normal;font-family:Menlo,'DejaVu Sans Mono',consolas,'Courier New',monospace\">P:0000000000000000000000000000000000000000000000000000000000000000000000\n",
       "L:0000000000000000000000000000000000000000000000000000000000000000000000\n",
       "</pre>\n"
      ],
      "text/plain": [
       "P:0000000000000000000000000000000000000000000000000000000000000000000000\n",
       "L:0000000000000000000000000000000000000000000000000000000000000000000000\n"
      ]
     },
     "metadata": {},
     "output_type": "display_data"
    },
    {
     "data": {
      "text/html": [
       "<pre style=\"white-space:pre;overflow-x:auto;line-height:normal;font-family:Menlo,'DejaVu Sans Mono',consolas,'Courier New',monospace\">P:0000000000000000000000000000000000000000000000000000000000000000000000\n",
       "L:0000000000000000000000000000000000000000000000000000000000000000000000\n",
       "</pre>\n"
      ],
      "text/plain": [
       "P:0000000000000000000000000000000000000000000000000000000000000000000000\n",
       "L:0000000000000000000000000000000000000000000000000000000000000000000000\n"
      ]
     },
     "metadata": {},
     "output_type": "display_data"
    },
    {
     "data": {
      "text/html": [
       "<pre style=\"white-space:pre;overflow-x:auto;line-height:normal;font-family:Menlo,'DejaVu Sans Mono',consolas,'Courier New',monospace\">P:0000000000000000000000000000000000000000000000000000000000000000000000\n",
       "L:0000000000000000000000000000000000000000000000000000000000000000000000\n",
       "</pre>\n"
      ],
      "text/plain": [
       "P:0000000000000000000000000000000000000000000000000000000000000000000000\n",
       "L:0000000000000000000000000000000000000000000000000000000000000000000000\n"
      ]
     },
     "metadata": {},
     "output_type": "display_data"
    },
    {
     "data": {
      "text/html": [
       "<pre style=\"white-space:pre;overflow-x:auto;line-height:normal;font-family:Menlo,'DejaVu Sans Mono',consolas,'Courier New',monospace\">P:0000000000000000000000000000000000000000000000000000000000000000000000\n",
       "L:0000000000000000000000000000000000000000000000000000000000000000000000\n",
       "</pre>\n"
      ],
      "text/plain": [
       "P:0000000000000000000000000000000000000000000000000000000000000000000000\n",
       "L:0000000000000000000000000000000000000000000000000000000000000000000000\n"
      ]
     },
     "metadata": {},
     "output_type": "display_data"
    },
    {
     "data": {
      "text/html": [
       "<pre style=\"white-space:pre;overflow-x:auto;line-height:normal;font-family:Menlo,'DejaVu Sans Mono',consolas,'Courier New',monospace\">P:0000000000000000000000000000000000000000000000000000000000000000000000\n",
       "L:0000000000000000000000000000000000000000000000000000000000000000000000\n",
       "</pre>\n"
      ],
      "text/plain": [
       "P:0000000000000000000000000000000000000000000000000000000000000000000000\n",
       "L:0000000000000000000000000000000000000000000000000000000000000000000000\n"
      ]
     },
     "metadata": {},
     "output_type": "display_data"
    },
    {
     "data": {
      "text/html": [
       "<pre style=\"white-space:pre;overflow-x:auto;line-height:normal;font-family:Menlo,'DejaVu Sans Mono',consolas,'Courier New',monospace\">P:0000000000000000000000000000000000000000000000000000000000000000000000\n",
       "L:0000000000000000000000000000000000000000000000000000000000000000000000\n",
       "</pre>\n"
      ],
      "text/plain": [
       "P:0000000000000000000000000000000000000000000000000000000000000000000000\n",
       "L:0000000000000000000000000000000000000000000000000000000000000000000000\n"
      ]
     },
     "metadata": {},
     "output_type": "display_data"
    },
    {
     "data": {
      "text/html": [
       "<pre style=\"white-space:pre;overflow-x:auto;line-height:normal;font-family:Menlo,'DejaVu Sans Mono',consolas,'Courier New',monospace\">P:0000000000000000000000000000000000000000000000000000000000000000000000\n",
       "L:0000000000000000000000000000000000000000000000000000000000000000000000\n",
       "</pre>\n"
      ],
      "text/plain": [
       "P:0000000000000000000000000000000000000000000000000000000000000000000000\n",
       "L:0000000000000000000000000000000000000000000000000000000000000000000000\n"
      ]
     },
     "metadata": {},
     "output_type": "display_data"
    },
    {
     "data": {
      "text/html": [
       "<pre style=\"white-space:pre;overflow-x:auto;line-height:normal;font-family:Menlo,'DejaVu Sans Mono',consolas,'Courier New',monospace\">P:0000000000000000000000000000000000000000000000000000000000000000000000\n",
       "L:0000000000000000000000000000000000000000000000000000000000000000000000\n",
       "</pre>\n"
      ],
      "text/plain": [
       "P:0000000000000000000000000000000000000000000000000000000000000000000000\n",
       "L:0000000000000000000000000000000000000000000000000000000000000000000000\n"
      ]
     },
     "metadata": {},
     "output_type": "display_data"
    },
    {
     "data": {
      "text/html": [
       "<pre style=\"white-space:pre;overflow-x:auto;line-height:normal;font-family:Menlo,'DejaVu Sans Mono',consolas,'Courier New',monospace\">P:0000000000000000000000000000000000000000000000000000000000000000000000\n",
       "L:0000000000000000000000000000000000000000000000000000000000000000000000\n",
       "</pre>\n"
      ],
      "text/plain": [
       "P:0000000000000000000000000000000000000000000000000000000000000000000000\n",
       "L:0000000000000000000000000000000000000000000000000000000000000000000000\n"
      ]
     },
     "metadata": {},
     "output_type": "display_data"
    },
    {
     "data": {
      "text/html": [
       "<pre style=\"white-space:pre;overflow-x:auto;line-height:normal;font-family:Menlo,'DejaVu Sans Mono',consolas,'Courier New',monospace\">P:0000000000000000000000000000000000000000000000000000000000000000000000\n",
       "L:0000000000000000000000000000000000000000000000000000000000000000000000\n",
       "</pre>\n"
      ],
      "text/plain": [
       "P:0000000000000000000000000000000000000000000000000000000000000000000000\n",
       "L:0000000000000000000000000000000000000000000000000000000000000000000000\n"
      ]
     },
     "metadata": {},
     "output_type": "display_data"
    },
    {
     "data": {
      "text/html": [
       "<pre style=\"white-space:pre;overflow-x:auto;line-height:normal;font-family:Menlo,'DejaVu Sans Mono',consolas,'Courier New',monospace\">P:0000000000000000000000000000000000000000000000000000000000000000000000\n",
       "L:0000000000000000000000000000000000000000000000000000000000000000000000\n",
       "</pre>\n"
      ],
      "text/plain": [
       "P:0000000000000000000000000000000000000000000000000000000000000000000000\n",
       "L:0000000000000000000000000000000000000000000000000000000000000000000000\n"
      ]
     },
     "metadata": {},
     "output_type": "display_data"
    },
    {
     "data": {
      "text/html": [
       "<pre style=\"white-space:pre;overflow-x:auto;line-height:normal;font-family:Menlo,'DejaVu Sans Mono',consolas,'Courier New',monospace\">P:0000000000000000000000000000000000000000000000000000000000000000000000\n",
       "L:0000000000000000000000000000000000000000000000000000000000000000000000\n",
       "</pre>\n"
      ],
      "text/plain": [
       "P:0000000000000000000000000000000000000000000000000000000000000000000000\n",
       "L:0000000000000000000000000000000000000000000000000000000000000000000000\n"
      ]
     },
     "metadata": {},
     "output_type": "display_data"
    },
    {
     "data": {
      "text/html": [
       "<pre style=\"white-space:pre;overflow-x:auto;line-height:normal;font-family:Menlo,'DejaVu Sans Mono',consolas,'Courier New',monospace\">P:0000000000000000000000000000000000000000000000000000000000000000000000\n",
       "L:0000000000000000000000000000000000000000000000000000000000000000000000\n",
       "</pre>\n"
      ],
      "text/plain": [
       "P:0000000000000000000000000000000000000000000000000000000000000000000000\n",
       "L:0000000000000000000000000000000000000000000000000000000000000000000000\n"
      ]
     },
     "metadata": {},
     "output_type": "display_data"
    },
    {
     "data": {
      "text/html": [
       "<pre style=\"white-space:pre;overflow-x:auto;line-height:normal;font-family:Menlo,'DejaVu Sans Mono',consolas,'Courier New',monospace\">P:0000000000000000000000000000000000000000000000000000000000000000000000\n",
       "L:0000000000000000000000000000000000000000000000000000000000000000000000\n",
       "</pre>\n"
      ],
      "text/plain": [
       "P:0000000000000000000000000000000000000000000000000000000000000000000000\n",
       "L:0000000000000000000000000000000000000000000000000000000000000000000000\n"
      ]
     },
     "metadata": {},
     "output_type": "display_data"
    },
    {
     "data": {
      "text/html": [
       "<pre style=\"white-space:pre;overflow-x:auto;line-height:normal;font-family:Menlo,'DejaVu Sans Mono',consolas,'Courier New',monospace\">P:0000000000000000000000000000000000000000000000000000000000000000000000\n",
       "L:0000000000000000000000000000000000000000000000000000000000000000000000\n",
       "</pre>\n"
      ],
      "text/plain": [
       "P:0000000000000000000000000000000000000000000000000000000000000000000000\n",
       "L:0000000000000000000000000000000000000000000000000000000000000000000000\n"
      ]
     },
     "metadata": {},
     "output_type": "display_data"
    },
    {
     "data": {
      "text/html": [
       "<pre style=\"white-space:pre;overflow-x:auto;line-height:normal;font-family:Menlo,'DejaVu Sans Mono',consolas,'Courier New',monospace\">P:0000000000000000000000000000000000000000000000000000000000000000000000\n",
       "L:0000000000000000000000000000000000000000000000000000000000000000000000\n",
       "</pre>\n"
      ],
      "text/plain": [
       "P:0000000000000000000000000000000000000000000000000000000000000000000000\n",
       "L:0000000000000000000000000000000000000000000000000000000000000000000000\n"
      ]
     },
     "metadata": {},
     "output_type": "display_data"
    },
    {
     "data": {
      "text/html": [
       "<pre style=\"white-space:pre;overflow-x:auto;line-height:normal;font-family:Menlo,'DejaVu Sans Mono',consolas,'Courier New',monospace\">P:0000000000000000000000000000000000000000000000000000000000000000000000\n",
       "L:0000000000000000000000000000000000000000000000000000000000000000000000\n",
       "</pre>\n"
      ],
      "text/plain": [
       "P:0000000000000000000000000000000000000000000000000000000000000000000000\n",
       "L:0000000000000000000000000000000000000000000000000000000000000000000000\n"
      ]
     },
     "metadata": {},
     "output_type": "display_data"
    },
    {
     "data": {
      "text/html": [
       "<pre style=\"white-space:pre;overflow-x:auto;line-height:normal;font-family:Menlo,'DejaVu Sans Mono',consolas,'Courier New',monospace\">P:0000000000000000000000000000000000000000000000000000000000000000000000\n",
       "L:0000000000000000000000000000000000000000000000000000000000000000000000\n",
       "</pre>\n"
      ],
      "text/plain": [
       "P:0000000000000000000000000000000000000000000000000000000000000000000000\n",
       "L:0000000000000000000000000000000000000000000000000000000000000000000000\n"
      ]
     },
     "metadata": {},
     "output_type": "display_data"
    },
    {
     "data": {
      "text/html": [
       "<pre style=\"white-space:pre;overflow-x:auto;line-height:normal;font-family:Menlo,'DejaVu Sans Mono',consolas,'Courier New',monospace\">P:0000000000000000000000000000000000000000000000000000000000000000000000\n",
       "L:0000000000000000000000000000000000000000000000000000000000000000000000\n",
       "</pre>\n"
      ],
      "text/plain": [
       "P:0000000000000000000000000000000000000000000000000000000000000000000000\n",
       "L:0000000000000000000000000000000000000000000000000000000000000000000000\n"
      ]
     },
     "metadata": {},
     "output_type": "display_data"
    },
    {
     "data": {
      "text/html": [
       "<pre style=\"white-space:pre;overflow-x:auto;line-height:normal;font-family:Menlo,'DejaVu Sans Mono',consolas,'Courier New',monospace\">P:0000000000000000000000000000000000000000000000000000000000000000000000\n",
       "L:0000000000000000000000000000000000000000000000000000000000000000000000\n",
       "</pre>\n"
      ],
      "text/plain": [
       "P:0000000000000000000000000000000000000000000000000000000000000000000000\n",
       "L:0000000000000000000000000000000000000000000000000000000000000000000000\n"
      ]
     },
     "metadata": {},
     "output_type": "display_data"
    },
    {
     "data": {
      "text/html": [
       "<pre style=\"white-space:pre;overflow-x:auto;line-height:normal;font-family:Menlo,'DejaVu Sans Mono',consolas,'Courier New',monospace\">P:0000000000000000000000000000000000000000000000000000000000000000000000\n",
       "L:0000000000000000000000000000000000000000000000000000000000000000000000\n",
       "</pre>\n"
      ],
      "text/plain": [
       "P:0000000000000000000000000000000000000000000000000000000000000000000000\n",
       "L:0000000000000000000000000000000000000000000000000000000000000000000000\n"
      ]
     },
     "metadata": {},
     "output_type": "display_data"
    },
    {
     "data": {
      "text/html": [
       "<pre style=\"white-space:pre;overflow-x:auto;line-height:normal;font-family:Menlo,'DejaVu Sans Mono',consolas,'Courier New',monospace\">P:0000000000000000000000000000000000000000000000000000000000000000000000\n",
       "L:0000000000000000000000000000000000000000000000000000000000000000000000\n",
       "</pre>\n"
      ],
      "text/plain": [
       "P:0000000000000000000000000000000000000000000000000000000000000000000000\n",
       "L:0000000000000000000000000000000000000000000000000000000000000000000000\n"
      ]
     },
     "metadata": {},
     "output_type": "display_data"
    },
    {
     "data": {
      "text/html": [
       "<pre style=\"white-space:pre;overflow-x:auto;line-height:normal;font-family:Menlo,'DejaVu Sans Mono',consolas,'Courier New',monospace\">P:00000000000000000\n",
       "L:00000000000000000\n",
       "</pre>\n"
      ],
      "text/plain": [
       "P:00000000000000000\n",
       "L:00000000000000000\n"
      ]
     },
     "metadata": {},
     "output_type": "display_data"
    }
   ],
   "source": [
    "alignment_predict(true_predictions[4], true_labels[4])"
   ]
  },
  {
   "cell_type": "markdown",
   "id": "38",
   "metadata": {},
   "source": [
    "# Train with Pytorch"
   ]
  },
  {
   "cell_type": "code",
   "execution_count": null,
   "id": "39",
   "metadata": {},
   "outputs": [],
   "source": []
  },
  {
   "cell_type": "code",
   "execution_count": null,
   "id": "40",
   "metadata": {},
   "outputs": [],
   "source": [
    "\n",
    "\n",
    "\n"
   ]
  },
  {
   "cell_type": "markdown",
   "id": "41",
   "metadata": {
    "jp-MarkdownHeadingCollapsed": true
   },
   "source": [
    "# Train with native model"
   ]
  },
  {
   "cell_type": "code",
   "execution_count": null,
   "id": "42",
   "metadata": {},
   "outputs": [],
   "source": [
    "import math\n",
    "from collections import namedtuple\n",
    "from functools import partial\n",
    "from typing import Optional\n",
    "\n",
    "import torch\n",
    "import torch.nn as nn\n",
    "import torch.nn.functional as F\n",
    "from einops import rearrange\n",
    "from torch import Tensor\n",
    "from torchvision.ops import StochasticDepth"
   ]
  },
  {
   "cell_type": "code",
   "execution_count": null,
   "id": "43",
   "metadata": {},
   "outputs": [],
   "source": [
    "# @title Hyena layer\n",
    "\n",
    "\n",
    "def fftconv(u, k, D):\n",
    "    \"\"\"\n",
    "    We apply a convolution through the fourier domain (from the Convolution Theorem)\n",
    "\n",
    "    \"\"\"\n",
    "    seqlen = u.shape[-1]\n",
    "    fft_size = 2 * seqlen\n",
    "\n",
    "    k_f = torch.fft.rfft(k, n=fft_size) / fft_size\n",
    "    u_f = torch.fft.rfft(u.to(dtype=k.dtype), n=fft_size)\n",
    "\n",
    "    if len(u.shape) > 3:\n",
    "        k_f = k_f.unsqueeze(1)\n",
    "    y = torch.fft.irfft(u_f * k_f, n=fft_size, norm=\"forward\")[..., :seqlen]\n",
    "\n",
    "    out = y + u * D.unsqueeze(-1)\n",
    "    return out.to(dtype=u.dtype)\n",
    "\n",
    "\n",
    "@torch.jit.script\n",
    "def mul_sum(q, y):\n",
    "    return (q * y).sum(dim=1)\n",
    "\n",
    "\n",
    "class OptimModule(nn.Module):\n",
    "    \"\"\"Interface for Module that allows registering buffers/parameters with configurable optimizer hyperparameters\"\"\"\n",
    "\n",
    "    def register(self, name, tensor, lr=None, wd=0.0):\n",
    "        \"\"\"Register a tensor with a configurable learning rate and 0 weight decay\"\"\"\n",
    "\n",
    "        if lr == 0.0:\n",
    "            self.register_buffer(name, tensor)\n",
    "        else:\n",
    "            self.register_parameter(name, nn.Parameter(tensor))\n",
    "\n",
    "            optim = {}\n",
    "            if lr is not None:\n",
    "                optim[\"lr\"] = lr\n",
    "            if wd is not None:\n",
    "                optim[\"weight_decay\"] = wd\n",
    "            setattr(getattr(self, name), \"_optim\", optim)\n",
    "\n",
    "\n",
    "class Sin(nn.Module):\n",
    "    \"\"\"The Sin activation function for the Hyena Filter function.\"\"\"\n",
    "\n",
    "    def __init__(self, dim, w=10, train_freq=True):\n",
    "        super().__init__()\n",
    "        self.freq = nn.Parameter(w * torch.ones(1, dim)) if train_freq else w * torch.ones(1, dim)\n",
    "\n",
    "    def forward(self, x):\n",
    "        return torch.sin(self.freq * x)\n",
    "\n",
    "\n",
    "class PositionalEmbedding(OptimModule):\n",
    "    def __init__(self, emb_dim: int, seq_len: int, lr_pos_emb: float = 1e-5, **kwargs):\n",
    "        \"\"\"Complex exponential positional embeddings for Hyena filters.\"\"\"\n",
    "        super().__init__()\n",
    "\n",
    "        self.seq_len = seq_len\n",
    "        # The time embedding fed to the filteres is normalized so that t_f = 1\n",
    "        t = torch.linspace(0, 1, self.seq_len)[None, :, None]  # 1, L, 1\n",
    "\n",
    "        if emb_dim > 1:\n",
    "            bands = (emb_dim - 1) // 2\n",
    "        # To compute the right embeddings we use the \"proper\" linspace\n",
    "        t_rescaled = torch.linspace(0, seq_len - 1, seq_len)[None, :, None]\n",
    "        w = 2 * math.pi * t_rescaled / seq_len  # 1, L, 1\n",
    "\n",
    "        f = torch.linspace(1e-4, bands - 1, bands)[None, None]\n",
    "        z = torch.exp(-1j * f * w)\n",
    "        z = torch.cat([t, z.real, z.imag], dim=-1)\n",
    "        self.register(\"z\", z, lr=lr_pos_emb)\n",
    "        self.register(\"t\", t, lr=0.0)\n",
    "\n",
    "    def forward(self, L):\n",
    "        return self.z[:, :L], self.t[:, :L]\n",
    "\n",
    "\n",
    "class ExponentialModulation(OptimModule):\n",
    "    \"\"\"The window function applied to the output of the (MLP) filter function.\"\"\"\n",
    "\n",
    "    def __init__(\n",
    "        self,\n",
    "        d_model,\n",
    "        fast_decay_pct=0.3,\n",
    "        slow_decay_pct=1.5,\n",
    "        target=1e-2,\n",
    "        modulation_lr=0.0,\n",
    "        modulate: bool = True,\n",
    "        shift: float = 0.05,\n",
    "        **kwargs,\n",
    "    ):\n",
    "        super().__init__()\n",
    "        self.modulate = modulate\n",
    "        self.shift = shift\n",
    "        max_decay = math.log(target) / fast_decay_pct\n",
    "        min_decay = math.log(target) / slow_decay_pct\n",
    "        deltas = torch.linspace(min_decay, max_decay, d_model)[None, None]\n",
    "        self.register(\"deltas\", deltas, lr=modulation_lr)\n",
    "\n",
    "    def forward(self, t, x):\n",
    "        if self.modulate:\n",
    "            decay = torch.exp(-t * self.deltas.abs())\n",
    "            x = x * (decay + self.shift)\n",
    "        return x\n",
    "\n",
    "\n",
    "class HyenaFilter(OptimModule):\n",
    "    def __init__(\n",
    "        self,\n",
    "        d_model,\n",
    "        emb_dim=3,  # dim of input to MLP, augments with positional encoding\n",
    "        order=16,  # width of the implicit MLP\n",
    "        fused_fft_conv=False,\n",
    "        seq_len=1024,\n",
    "        lr=1e-3,\n",
    "        lr_pos_emb=1e-5,\n",
    "        dropout=0.0,\n",
    "        w=1,  # frequency of periodic activations\n",
    "        wd=0,  # weight decay of kernel parameters\n",
    "        bias=True,\n",
    "        num_inner_mlps=2,\n",
    "        normalized=False,\n",
    "        **kwargs,\n",
    "    ):\n",
    "        \"\"\"\n",
    "        Implicit long filter with modulation.\n",
    "\n",
    "        Args:\n",
    "            d_model: number of channels in the input\n",
    "            emb_dim: dimension of the positional encoding (`emb_dim` - 1) // 2 is the number of bands\n",
    "            order: width of the FFN\n",
    "            num_inner_mlps: number of inner linear layers inside filter MLP\n",
    "\n",
    "        Note:\n",
    "            filter_dropout is not implemented\n",
    "        \"\"\"\n",
    "        super().__init__()\n",
    "\n",
    "        self.d_model = d_model\n",
    "        self.use_bias = bias\n",
    "        self.fused_fft_conv = fused_fft_conv\n",
    "        self.bias = nn.Parameter(torch.randn(self.d_model))\n",
    "        self.dropout = nn.Dropout(dropout)\n",
    "\n",
    "        act = Sin(dim=order, w=w)\n",
    "        self.emb_dim = emb_dim\n",
    "        assert (\n",
    "            emb_dim % 2 != 0 and emb_dim >= 3\n",
    "        ), \"emb_dim must be odd and greater or equal to 3 (time, sine and cosine)\"\n",
    "        self.seq_len = seq_len\n",
    "\n",
    "        self.pos_emb = PositionalEmbedding(emb_dim, seq_len, lr_pos_emb)\n",
    "\n",
    "        self.implicit_filter = nn.Sequential(\n",
    "            nn.Linear(emb_dim, order),\n",
    "            act,\n",
    "        )\n",
    "        for i in range(num_inner_mlps):\n",
    "            self.implicit_filter.append(nn.Linear(order, order))\n",
    "            self.implicit_filter.append(act)\n",
    "\n",
    "        self.implicit_filter.append(nn.Linear(order, d_model, bias=False))\n",
    "\n",
    "        self.modulation = ExponentialModulation(d_model, **kwargs)\n",
    "\n",
    "        self.normalized = normalized\n",
    "        for c in self.implicit_filter.children():\n",
    "            for name, v in c.state_dict().items():\n",
    "                optim = {\"weight_decay\": wd, \"lr\": lr}\n",
    "                setattr(getattr(c, name), \"_optim\", optim)\n",
    "\n",
    "    def filter(self, L, *args, **kwargs):\n",
    "        z, t = self.pos_emb(L)\n",
    "        h = self.implicit_filter(z)\n",
    "        h = self.modulation(t, h)\n",
    "        return h\n",
    "\n",
    "    def forward(self, x, L, k=None, bias=None, *args, **kwargs):\n",
    "        if k is None:\n",
    "            k = self.filter(L)\n",
    "\n",
    "        # Ensure compatibility with filters that return a tuple\n",
    "        k = k[0] if type(k) is tuple else k\n",
    "\n",
    "        y = fftconv(x, k, bias)\n",
    "        return y\n",
    "\n",
    "\n",
    "class HyenaOperator(nn.Module):\n",
    "    def __init__(\n",
    "        self,\n",
    "        d_model,\n",
    "        l_max,\n",
    "        order=2,\n",
    "        filter_order=64,\n",
    "        dropout=0.0,\n",
    "        filter_dropout=0.0,\n",
    "        **filter_args,\n",
    "    ):\n",
    "        r\"\"\"\n",
    "        Hyena operator described in the paper https://arxiv.org/pdf/2302.10866.pdf\n",
    "\n",
    "        Args:\n",
    "            d_model (int): Dimension of the input and output embeddings (width of the layer)\n",
    "            l_max: (int): Maximum input sequence length. Defaults to None\n",
    "            order: (int): Depth of the Hyena recurrence. Defaults to 2\n",
    "            dropout: (float): Dropout probability. Defaults to 0.0\n",
    "            filter_dropout: (float): Dropout probability for the filter. Defaults to 0.0\n",
    "        \"\"\"\n",
    "        super().__init__()\n",
    "\n",
    "        self.d_model = d_model\n",
    "        self.l_max = l_max\n",
    "        self.order = order\n",
    "        inner_width = d_model * (order + 1)\n",
    "        self.dropout = nn.Dropout(dropout)\n",
    "        self.in_proj = nn.Linear(d_model, inner_width)\n",
    "        self.out_proj = nn.Linear(d_model, d_model)\n",
    "\n",
    "        self.short_filter = nn.Conv1d(inner_width, inner_width, 3, padding=2, groups=inner_width)\n",
    "        self.filter_fn = HyenaFilter(\n",
    "            d_model * (order - 1),\n",
    "            order=filter_order,\n",
    "            seq_len=l_max,\n",
    "            channels=1,\n",
    "            dropout=filter_dropout,\n",
    "            **filter_args,\n",
    "        )\n",
    "\n",
    "    def forward(self, u, *args, **kwargs):\n",
    "        l = u.size(-2)\n",
    "        l_filter = min(l, self.l_max)\n",
    "        u = self.in_proj(u)\n",
    "        u = rearrange(u, \"b l d -> b d l\")\n",
    "\n",
    "        uc = self.short_filter(u)[..., :l_filter]\n",
    "        *x, v = uc.split(self.d_model, dim=1)\n",
    "\n",
    "        k = self.filter_fn.filter(l_filter)[0]\n",
    "        k = rearrange(k, \"l (o d) -> o d l\", o=self.order - 1)\n",
    "        bias = rearrange(self.filter_fn.bias, \"(o d) -> o d\", o=self.order - 1)\n",
    "\n",
    "        for o, x_i in enumerate(reversed(x[1:])):\n",
    "            v = self.dropout(v * x_i)\n",
    "            v = self.filter_fn(v, l_filter, k=k[o], bias=bias[o])\n",
    "\n",
    "        y = rearrange(v * x[0], \"b d l -> b l d\")\n",
    "\n",
    "        y = self.out_proj(y)\n",
    "        return y"
   ]
  },
  {
   "cell_type": "code",
   "execution_count": null,
   "id": "44",
   "metadata": {},
   "outputs": [],
   "source": [
    "# @title MLP layer\n",
    "\"\"\"\n",
    "The MLP layer after the mixer layer (HyenaOperator).\n",
    "\"\"\"\n",
    "\n",
    "\n",
    "class Mlp(nn.Module):\n",
    "\n",
    "    def __init__(\n",
    "        self,\n",
    "        in_features,\n",
    "        hidden_features=None,\n",
    "        out_features=None,\n",
    "        activation=F.gelu,\n",
    "        return_residual=False,\n",
    "        device=None,\n",
    "        dtype=None,\n",
    "    ):\n",
    "        \"\"\"\n",
    "        From https://github.com/HazyResearch/flash-attention/blob/main/flash_attn/modules/mlp.py\n",
    "        \"\"\"\n",
    "        factory_kwargs = {\"device\": device, \"dtype\": dtype}\n",
    "        super().__init__()\n",
    "        out_features = out_features or in_features\n",
    "        hidden_features = hidden_features or in_features\n",
    "        self.return_residual = return_residual\n",
    "        self.fc1 = nn.Linear(in_features, hidden_features, **factory_kwargs)\n",
    "        self.activation = activation\n",
    "        self.fc2 = nn.Linear(hidden_features, out_features, **factory_kwargs)\n",
    "\n",
    "    def forward(self, x):\n",
    "        y = self.fc1(x)\n",
    "        y = self.activation(y)\n",
    "        y = self.fc2(y)\n",
    "        return y if not self.return_residual else (y, x)"
   ]
  },
  {
   "cell_type": "code",
   "execution_count": null,
   "id": "45",
   "metadata": {},
   "outputs": [],
   "source": [
    "# @title Block layer (Hyena + MLP layers)\n",
    "\n",
    "\n",
    "\"\"\"\n",
    "A block consists of a Mixer layer (Hyena or attention), and a MLP layer.\n",
    "\n",
    "\"\"\"\n",
    "\n",
    "\n",
    "class LinearResidual(nn.Linear):\n",
    "    \"\"\"Wrap nn.Linear to return the residual as well. For compatibility with FusedDense.\"\"\"\n",
    "\n",
    "    def forward(self, input: torch.Tensor) -> torch.Tensor:\n",
    "        return super().forward(input), input\n",
    "\n",
    "\n",
    "class Block(nn.Module):\n",
    "\n",
    "    def __init__(\n",
    "        self,\n",
    "        dim,\n",
    "        mixer_cls=None,\n",
    "        mlp_cls=None,\n",
    "        norm_cls=nn.LayerNorm,\n",
    "        dropout_cls=nn.Dropout,\n",
    "        prenorm=True,\n",
    "        resid_dropout1=0.0,\n",
    "        resid_dropout2=0.0,\n",
    "        drop_path1=0.0,\n",
    "        drop_path2=0.0,\n",
    "        return_residual=False,\n",
    "        residual_in_fp32=False,\n",
    "    ):\n",
    "        \"\"\"\n",
    "        From https://github.com/HazyResearch/flash-attention/blob/main/flash_attn/modules/block.py\n",
    "        For prenorm=True, this Block has a slightly different structure compared to a regular\n",
    "        prenorm Transformer block.\n",
    "        The standard block is: LN -> MHA -> Dropout -> Add -> LN -> MLP -> Dropout -> Add.\n",
    "        [Ref: https://arxiv.org/abs/2002.04745]\n",
    "        Here we have: Dropout -> Add -> LN -> MHA -> Dropout -> Add -> LN -> MLP, returning both\n",
    "        the hidden_states (output of the MLP) and the residual.\n",
    "        This is for performance reasons, as we can fuse the dropout, add and LayerNorm.\n",
    "        The residual needs to be provided (except for the very first block).\n",
    "        For prenorm=False, this Block has the same structure as a regular postnorm Transformer\n",
    "        block: MHA -> Dropout -> Add -> LN -> MLP -> Dropout -> Add -> LN.\n",
    "        return_residual: whether each of the sub-layers (mixer and mlp) will return the residual.\n",
    "        This is for performance reason: for post-norm architecture, returning the input allows us\n",
    "        to fuse the backward of nn.Linear with the residual connection.\n",
    "        \"\"\"\n",
    "        super().__init__()\n",
    "        self.prenorm = prenorm\n",
    "        self.return_residual = return_residual\n",
    "        self.residual_in_fp32 = residual_in_fp32\n",
    "        if self.residual_in_fp32:\n",
    "            assert self.prenorm, \"residual_in_fp32 is only compatible with prenorm=True\"\n",
    "        if mixer_cls is None:\n",
    "            mixer_cls = partial(MHA, num_heads=dim // 64)\n",
    "        if mlp_cls is None:\n",
    "            mlp_cls = partial(Mlp, hidden_features=4 * dim)\n",
    "        self.mixer = mixer_cls()\n",
    "        self.dropout1 = dropout_cls(resid_dropout1)\n",
    "        self.drop_path1 = StochasticDepth(drop_path1, mode=\"row\")\n",
    "        self.norm1 = norm_cls(dim)\n",
    "        self.mlp = mlp_cls(dim)\n",
    "        if not isinstance(self.mlp, nn.Identity):\n",
    "            self.dropout2 = dropout_cls(resid_dropout2)\n",
    "            self.drop_path2 = StochasticDepth(drop_path2, mode=\"row\")\n",
    "            self.norm2 = norm_cls(dim)\n",
    "\n",
    "    def forward(self, hidden_states, residual=None, mixer_subset=None, mixer_kwargs=None):\n",
    "        r\"\"\"Pass the input through the encoder layer.\n",
    "        Args:\n",
    "            hidden_states: the sequence to the encoder layer (required).\n",
    "            residual: if postnorm, residual=None, If prenorm, hidden_states = Attn/MLP(LN(residual))\n",
    "            mixer_subset: for cross-attention only. If not None, will take a subset of x\n",
    "                before applying the query projection. Useful for e.g., ViT where we only care\n",
    "                about the CLS token in the last layer.\n",
    "        \"\"\"\n",
    "        if self.prenorm:\n",
    "            dropped = self.drop_path1(self.dropout1(hidden_states))\n",
    "            residual = (dropped + residual) if residual is not None else dropped\n",
    "            hidden_states = self.norm1(residual.to(dtype=self.norm1.weight.dtype))\n",
    "            if self.residual_in_fp32:\n",
    "                residual = residual.to(torch.float32)\n",
    "            if mixer_kwargs is None:\n",
    "                mixer_kwargs = {}\n",
    "            if mixer_subset is not None:\n",
    "                mixer_kwargs[\"mixer_subset\"] = mixer_subset\n",
    "            hidden_states = self.mixer(hidden_states, **mixer_kwargs)\n",
    "            if mixer_subset is not None:\n",
    "                residual = residual[:, mixer_subset]\n",
    "            if not isinstance(self.mlp, nn.Identity):\n",
    "                dropped = self.drop_path2(self.dropout2(hidden_states))\n",
    "                residual = (dropped + residual) if residual is not None else dropped\n",
    "                hidden_states = self.norm2(residual.to(dtype=self.norm2.weight.dtype))\n",
    "                if self.residual_in_fp32:\n",
    "                    residual = residual.to(torch.float32)\n",
    "\n",
    "                hidden_states = self.mlp(hidden_states)\n",
    "            return hidden_states, residual\n",
    "        else:\n",
    "            assert residual is None\n",
    "            mixer_out = self.mixer(\n",
    "                hidden_states, **(mixer_kwargs if mixer_kwargs is not None else {})\n",
    "            )\n",
    "            if self.return_residual:  # mixer out is actually a pair here\n",
    "                mixer_out, hidden_states = mixer_out\n",
    "\n",
    "            hidden_states = self.norm1(\n",
    "                (self.drop_path1(self.dropout1(mixer_out)) + hidden_states).to(\n",
    "                    dtype=self.norm1.weight.dtype\n",
    "                )\n",
    "            )\n",
    "\n",
    "            if not isinstance(self.mlp, nn.Identity):\n",
    "                mlp_out = self.mlp(hidden_states)\n",
    "                if self.return_residual:  # mlp out is actually a pair here\n",
    "                    mlp_out, hidden_states = mlp_out\n",
    "\n",
    "                hidden_states = self.norm2(\n",
    "                    (self.drop_path2(self.dropout2(mlp_out)) + hidden_states).to(\n",
    "                        dtype=self.norm2.weight.dtype\n",
    "                    )\n",
    "                )\n",
    "\n",
    "            return hidden_states\n",
    "\n",
    "\n",
    "def create_mixer_cls(\n",
    "    layer=None, attn_layer_idx=None, attn_cfg=None, layer_idx=None, device=None, dtype=None\n",
    "):\n",
    "    factory_kwargs = {\"device\": device, \"dtype\": dtype}\n",
    "    if attn_layer_idx is not None and layer_idx in attn_layer_idx:\n",
    "        causal = True if attn_cfg is None else attn_cfg.pop(\"causal\", True)\n",
    "\n",
    "        mha_cls = MHA\n",
    "\n",
    "        mixer_cls = partial(\n",
    "            mha_cls,\n",
    "            causal=causal,\n",
    "            layer_idx=layer_idx,\n",
    "            **(attn_cfg if attn_cfg is not None else {}),\n",
    "            **factory_kwargs,\n",
    "        )\n",
    "    else:\n",
    "        # mixer_cls = instantiate(registry.layer, layer, partial=True, layer_idx=layer_idx, **factory_kwargs)\n",
    "\n",
    "        mixer_cls = partial(HyenaOperator, **layer)\n",
    "\n",
    "    return mixer_cls\n",
    "\n",
    "\n",
    "def create_mlp_cls(d_model, d_inner=None, device=None, dtype=None):\n",
    "    factory_kwargs = {\"device\": device, \"dtype\": dtype}\n",
    "    inner_dim = d_inner if d_inner is not None else 4 * d_model\n",
    "\n",
    "    mlp_cls = partial(\n",
    "        Mlp,\n",
    "        hidden_features=inner_dim,\n",
    "        activation=partial(F.gelu, approximate=\"tanh\"),\n",
    "        **factory_kwargs,\n",
    "    )\n",
    "\n",
    "    return mlp_cls\n",
    "\n",
    "\n",
    "def create_block(\n",
    "    d_model,\n",
    "    d_inner=None,\n",
    "    layer=None,\n",
    "    attn_layer_idx=None,\n",
    "    attn_cfg=None,\n",
    "    layer_norm_epsilon=1e-5,\n",
    "    resid_dropout1=0.0,\n",
    "    resid_dropout2=0.0,\n",
    "    residual_in_fp32=False,\n",
    "    layer_idx=None,\n",
    "    device=None,\n",
    "    dtype=None,\n",
    "):\n",
    "    factory_kwargs = {\"device\": device, \"dtype\": dtype}\n",
    "    mixer_cls = create_mixer_cls(\n",
    "        layer=layer,\n",
    "        attn_layer_idx=attn_layer_idx,\n",
    "        attn_cfg=attn_cfg,\n",
    "        layer_idx=layer_idx,\n",
    "        **factory_kwargs,\n",
    "    )\n",
    "    mlp_cls = create_mlp_cls(d_model, d_inner=d_inner, **factory_kwargs)\n",
    "    norm_cls = partial(nn.LayerNorm, eps=layer_norm_epsilon, **factory_kwargs)\n",
    "    block = Block(\n",
    "        d_model,\n",
    "        mixer_cls,\n",
    "        mlp_cls,\n",
    "        norm_cls=norm_cls,\n",
    "        prenorm=True,\n",
    "        resid_dropout1=resid_dropout1,\n",
    "        resid_dropout2=resid_dropout2,\n",
    "        residual_in_fp32=residual_in_fp32,\n",
    "    )\n",
    "    block.layer_idx = layer_idx\n",
    "    return block\n",
    "\n",
    "\n",
    "# https://github.com/huggingface/transformers/blob/c28d04e9e252a1a099944e325685f14d242ecdcd/src/transformers/models/gpt2/modeling_gpt2.py#L454\n",
    "def _init_weights(\n",
    "    module, n_layer, initializer_range=0.02, rescale_prenorm_residual=True, glu_act=False\n",
    "):\n",
    "    if isinstance(module, nn.Linear):\n",
    "        nn.init.normal_(module.weight, std=initializer_range)\n",
    "        if module.bias is not None:\n",
    "            nn.init.zeros_(module.bias)\n",
    "    elif isinstance(module, nn.Embedding):\n",
    "        nn.init.normal_(module.weight, std=initializer_range)\n",
    "\n",
    "    if rescale_prenorm_residual:\n",
    "        # Reinitialize selected weights subject to the OpenAI GPT-2 Paper Scheme:\n",
    "        #   > A modified initialization which accounts for the accumulation on the residual path with model depth. Scale\n",
    "        #   > the weights of residual layers at initialization by a factor of 1/√N where N is the # of residual layers.\n",
    "        #   >   -- GPT-2 :: https://openai.com/blog/better-language-models/\n",
    "        #\n",
    "        # Reference (Megatron-LM): https://github.com/NVIDIA/Megatron-LM/blob/main/megatron/model/gpt_model.py\n",
    "        for name, p in module.named_parameters():\n",
    "            if name in [\"out_proj.weight\", \"fc2.weight\"]:\n",
    "                # Special Scaled Initialization --> There are 2 Layer Norms per Transformer Block\n",
    "                nn.init.normal_(p, mean=0.0, std=initializer_range / math.sqrt(2 * n_layer))\n",
    "            # If using GLU activation for now, we scale the std by 2\n",
    "            elif name in [\"output_linear.0.weight\"]:\n",
    "                # Special Scaled Initialization --> There are 2 Layer Norms per Transformer Block\n",
    "                if not glu_act:\n",
    "                    nn.init.normal_(p, mean=0.0, std=initializer_range / math.sqrt(2 * n_layer))\n",
    "                else:\n",
    "                    out_features = p.shape[0]\n",
    "                    # Multiplying the first half of the matrix by 2 since sigmoid scales it down by 0.5\n",
    "                    # on average.\n",
    "                    nn.init.normal_(\n",
    "                        p[: out_features // 2],\n",
    "                        mean=0.0,\n",
    "                        std=initializer_range / math.sqrt(2 * n_layer) * 2,\n",
    "                    )"
   ]
  },
  {
   "cell_type": "code",
   "execution_count": null,
   "id": "46",
   "metadata": {},
   "outputs": [],
   "source": [
    "class LMBackbone(nn.Module):\n",
    "\n",
    "    def __init__(\n",
    "        self,\n",
    "        d_model: int,\n",
    "        n_layer: int,\n",
    "        d_inner: int,\n",
    "        vocab_size: int,\n",
    "        process_group=None,\n",
    "        layer=None,\n",
    "        attn_layer_idx=None,\n",
    "        attn_cfg=None,\n",
    "        max_position_embeddings=0,\n",
    "        resid_dropout: float = 0.0,\n",
    "        embed_dropout: float = 0.1,\n",
    "        layer_norm_epsilon: float = 1e-5,\n",
    "        initializer_cfg=None,\n",
    "        residual_in_fp32=False,\n",
    "        device=None,\n",
    "        dtype=None,\n",
    "        **kwargs,\n",
    "    ) -> None:\n",
    "        factory_kwargs = {\"device\": device, \"dtype\": dtype}\n",
    "        super().__init__()\n",
    "        self.process_group = process_group\n",
    "        self.residual_in_fp32 = residual_in_fp32\n",
    "        # note max_position_embeddings is 0 for Hyena, and therefore isn't used\n",
    "        self.embeddings = GPT2Embeddings(\n",
    "            d_model, vocab_size, max_position_embeddings, **factory_kwargs\n",
    "        )\n",
    "\n",
    "        self.layers = nn.ModuleList(\n",
    "            [\n",
    "                create_block(\n",
    "                    d_model,\n",
    "                    d_inner=d_inner,\n",
    "                    layer=layer,\n",
    "                    attn_layer_idx=attn_layer_idx,\n",
    "                    attn_cfg=attn_cfg,\n",
    "                    layer_norm_epsilon=layer_norm_epsilon,\n",
    "                    resid_dropout1=embed_dropout if i == 0 else resid_dropout,\n",
    "                    resid_dropout2=resid_dropout,\n",
    "                    residual_in_fp32=residual_in_fp32,\n",
    "                    layer_idx=i,\n",
    "                    **factory_kwargs,\n",
    "                )\n",
    "                for i in range(n_layer)\n",
    "            ]\n",
    "        )\n",
    "\n",
    "        self.drop_f = nn.Dropout(resid_dropout)\n",
    "        self.ln_f = nn.LayerNorm(d_model, eps=layer_norm_epsilon, **factory_kwargs)\n",
    "\n",
    "        self.apply(\n",
    "            partial(\n",
    "                _init_weights,\n",
    "                n_layer=n_layer,\n",
    "                **(initializer_cfg if initializer_cfg is not None else {}),\n",
    "            )\n",
    "        )\n",
    "\n",
    "    def forward(self, input_ids, position_ids=None):\n",
    "        hidden_states = self.embeddings(\n",
    "            input_ids,\n",
    "            position_ids=position_ids,\n",
    "        )\n",
    "        residual = None\n",
    "\n",
    "        for layer in self.layers:\n",
    "            hidden_states, residual = layer(hidden_states, residual)\n",
    "\n",
    "        dropped = self.drop_f(hidden_states)\n",
    "        residual = (dropped + residual) if residual is not None else dropped\n",
    "        hidden_states = self.ln_f(residual.to(dtype=self.ln_f.weight.dtype))\n",
    "\n",
    "        return hidden_states"
   ]
  },
  {
   "cell_type": "code",
   "execution_count": null,
   "id": "47",
   "metadata": {},
   "outputs": [],
   "source": [
    "class TokenClassificationHead(nn.Module):\n",
    "    def __init__(\n",
    "        self,\n",
    "        embedding_size: int,\n",
    "        lin1_size: int,\n",
    "        lin2_size: int,\n",
    "        num_class: int,\n",
    "    ):\n",
    "        super().__init__()\n",
    "        self.model = nn.Sequential(\n",
    "            nn.Linear(input_size, lin1_size),\n",
    "            # nn.BatchNorm1d(lin1_size),\n",
    "            nn.ReLU(),\n",
    "            nn.Linear(lin1_size, lin2_size),\n",
    "            # nn.BatchNorm1d(lin2_size),\n",
    "            nn.ReLU(),\n",
    "            nn.Linear(lin2_size, num_class),\n",
    "        )\n",
    "\n",
    "    def forward(self, x: torch.Tensor) -> torch.Tensor:\n",
    "        return self.model(x)"
   ]
  },
  {
   "cell_type": "code",
   "execution_count": null,
   "id": "48",
   "metadata": {},
   "outputs": [],
   "source": [
    "# @title Model (backbone + head)\n",
    "\n",
    "\n",
    "\"\"\"\n",
    "Putting it all together, the model consists of a backbone model\n",
    "and a decoder head (you can turn off head for embeddings only too).\n",
    "\n",
    "Here we use a simple head to do multi-classification, but\n",
    "can also swap the head to do next token prediction too.  We defer to the main\n",
    "HyenaDNA for that code, since pretraining with next token prediction isn't quite\n",
    "feasible on colab.\n",
    "\n",
    "\"\"\"\n",
    "\n",
    "\n",
    "class HyenaDNAModel(nn.Module):\n",
    "\n",
    "    def __init__(\n",
    "        self,\n",
    "        d_model: int,\n",
    "        n_layer: int,\n",
    "        d_inner: int,\n",
    "        vocab_size: int,\n",
    "        layer=None,\n",
    "        attn_layer_idx=None,\n",
    "        attn_cfg=None,\n",
    "        max_position_embeddings=0,\n",
    "        resid_dropout: float = 0.0,\n",
    "        embed_dropout: float = 0.1,\n",
    "        layer_norm_epsilon: float = 1e-5,\n",
    "        initializer_cfg=None,\n",
    "        residual_in_fp32=False,\n",
    "        pad_vocab_size_multiple: int = 1,\n",
    "        n_classes: int = 2,\n",
    "        device=None,\n",
    "        dtype=None,\n",
    "        **kwargs,\n",
    "    ) -> None:\n",
    "        factory_kwargs = {\"device\": device, \"dtype\": dtype}\n",
    "        super().__init__()\n",
    "        if vocab_size % pad_vocab_size_multiple != 0:\n",
    "            vocab_size += pad_vocab_size_multiple - (vocab_size % pad_vocab_size_multiple)\n",
    "\n",
    "        # check if layer (config) has d_model (HF code differs from main Safari code)\n",
    "        if \"d_model\" not in layer:\n",
    "            layer[\"d_model\"] = d_model\n",
    "\n",
    "        self.backbone = LMBackbone(\n",
    "            d_model=d_model,\n",
    "            n_layer=n_layer,\n",
    "            d_inner=d_inner,\n",
    "            vocab_size=vocab_size,\n",
    "            layer=layer,\n",
    "            attn_layer_idx=attn_layer_idx,\n",
    "            attn_cfg=attn_cfg,\n",
    "            max_position_embeddings=max_position_embeddings,\n",
    "            resid_dropout=resid_dropout,\n",
    "            embed_dropout=embed_dropout,\n",
    "            layer_norm_epsilon=layer_norm_epsilon,\n",
    "            initializer_cfg=initializer_cfg,\n",
    "            residual_in_fp32=residual_in_fp32,\n",
    "            **factory_kwargs,\n",
    "            **kwargs,\n",
    "        )\n",
    "\n",
    "        # we only need a head if doing classification, otherwise we'll use the\n",
    "        # hidden states as embeddings\n",
    "\n",
    "        self.head = SequenceDecoder(d_model=d_model, d_output=n_classes, l_output=0, mode=\"pool\")\n",
    "\n",
    "        # Initialize weights and apply final processing\n",
    "        self.apply(\n",
    "            partial(\n",
    "                _init_weights,\n",
    "                n_layer=n_layer,\n",
    "                **(initializer_cfg if initializer_cfg is not None else {}),\n",
    "            )\n",
    "        )\n",
    "\n",
    "        # if self.use_head:\n",
    "        #     self.tie_weights()\n",
    "\n",
    "    # def tie_weights(self):\n",
    "    #     self.head.weight = self.backbone.embeddings.word_embeddings.weight\n",
    "\n",
    "    def forward(self, input_ids, position_ids=None, state=None):  # state for the repo interface\n",
    "        hidden_states = self.backbone(input_ids, position_ids=position_ids)\n",
    "\n",
    "        if self.use_head:\n",
    "            return self.head(hidden_states)\n",
    "        else:\n",
    "            return hidden_states"
   ]
  }
 ],
 "metadata": {
  "kernelspec": {
   "display_name": "dc",
   "language": "python",
   "name": "dc"
  },
  "language_info": {
   "codemirror_mode": {
    "name": "ipython",
    "version": 3
   },
   "file_extension": ".py",
   "mimetype": "text/x-python",
   "name": "python",
   "nbconvert_exporter": "python",
   "pygments_lexer": "ipython3",
   "version": "3.10.13"
  }
 },
 "nbformat": 4,
 "nbformat_minor": 5
}
