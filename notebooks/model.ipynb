{
 "cells": [
  {
   "cell_type": "code",
   "execution_count": null,
   "id": "0",
   "metadata": {
    "tags": []
   },
   "outputs": [],
   "source": [
    "from pathlib import Path\n",
    "\n",
    "import matplotlib.pyplot as plt\n",
    "import numpy as np\n",
    "import pandas as pd\n",
    "import seaborn as sns\n",
    "import torch\n",
    "from datasets import Dataset, load_dataset\n",
    "from IPython.core.interactiveshell import InteractiveShell\n",
    "\n",
    "import deepchopper\n",
    "\n",
    "InteractiveShell.ast_node_interactivity = \"all\""
   ]
  },
  {
   "cell_type": "code",
   "execution_count": null,
   "id": "1",
   "metadata": {},
   "outputs": [],
   "source": [
    "from rich.console import Console\n",
    "from rich.text import Text\n",
    "\n",
    "\n",
    "def highlight_target(seq: str, start: int, end: int, style=\"bold magenta\"):\n",
    "    text = Text(seq)\n",
    "    console = Console()\n",
    "    text.stylize(style, start, end)\n",
    "    console.print(text)\n",
    "\n",
    "\n",
    "def hightlight_predict(\n",
    "    seq: str, target_start: int, target_end: int, predict_start: int, predict_end: int\n",
    "):\n",
    "    text = Text(seq)\n",
    "    console = Console()\n",
    "\n",
    "    text.stylize(\"#adb0b1\", target_start, target_end)\n",
    "    text.stylize(\"bold magenta\", predict_start, predict_end)\n",
    "\n",
    "    console.print(text)"
   ]
  },
  {
   "cell_type": "code",
   "execution_count": null,
   "id": "2",
   "metadata": {
    "tags": []
   },
   "outputs": [],
   "source": [
    "# root_dir = Path(\"/projects/b1171/ylk4626/project/DeepChopper\")\n",
    "root_dir = Path(\"/Users/ylk4626/ClionProjects/DeepChopper\")"
   ]
  },
  {
   "cell_type": "code",
   "execution_count": null,
   "id": "3",
   "metadata": {
    "tags": []
   },
   "outputs": [],
   "source": [
    "train_file = root_dir / \"tests/data/test_input.parquet\"\n",
    "dataset = load_dataset(\"parquet\", data_files={\"train\": train_file.as_posix()})"
   ]
  },
  {
   "cell_type": "code",
   "execution_count": null,
   "id": "4",
   "metadata": {},
   "outputs": [],
   "source": [
    "dataset"
   ]
  },
  {
   "cell_type": "code",
   "execution_count": null,
   "id": "5",
   "metadata": {},
   "outputs": [],
   "source": [
    "seq1 = dataset[\"train\"][\"seq\"][0]"
   ]
  },
  {
   "cell_type": "code",
   "execution_count": null,
   "id": "6",
   "metadata": {},
   "outputs": [],
   "source": [
    "seq1"
   ]
  },
  {
   "cell_type": "code",
   "execution_count": null,
   "id": "7",
   "metadata": {},
   "outputs": [],
   "source": [
    "seq = dataset[\"train\"][\"seq\"][0]\n",
    "qual = dataset[\"train\"][\"qual\"][0]\n",
    "target = dataset[\"train\"][\"target\"][0]\n",
    "# label = dataset['train']['label'][0]"
   ]
  },
  {
   "cell_type": "code",
   "execution_count": null,
   "id": "8",
   "metadata": {},
   "outputs": [],
   "source": [
    "highlight_target(seq, *target)"
   ]
  },
  {
   "cell_type": "code",
   "execution_count": null,
   "id": "9",
   "metadata": {},
   "outputs": [],
   "source": [
    "hightlight_predict(seq, *target, 1070, 1120)"
   ]
  },
  {
   "cell_type": "code",
   "execution_count": null,
   "id": "10",
   "metadata": {},
   "outputs": [],
   "source": [
    "hightlight_predict(seq, *target, 1060, 1120)"
   ]
  },
  {
   "cell_type": "markdown",
   "id": "11",
   "metadata": {
    "jp-MarkdownHeadingCollapsed": true
   },
   "source": [
    "# 1. Read Len of Direct RNA"
   ]
  },
  {
   "cell_type": "code",
   "execution_count": null,
   "id": "12",
   "metadata": {},
   "outputs": [],
   "source": [
    "def vis_bam_record_len():\n",
    "    direc_rna_samples = [\"22Rv1\", \"DU145\", \"LNCaP\", \"LuCaP\", \"PC3\", \"VCaP\"]\n",
    "    data = [np.load(root_dir / f\"data/direct_rna/{p}.npy\") for p in direc_rna_samples]\n",
    "    # plt.rc('font', family='Times New Roman')\n",
    "\n",
    "    fig, axs = plt.subplots(nrows=3, ncols=2, figsize=(10, 6))\n",
    "\n",
    "    flat_axs = axs.flatten()\n",
    "\n",
    "    for i, sample in enumerate(range(len(direc_rna_samples))):\n",
    "        # Create the density plot\n",
    "        sns.kdeplot(data[i], fill=True, ax=flat_axs[i])\n",
    "        flat_axs[i].set_title(f\"Sample {sample}\")\n",
    "\n",
    "    # _ = ax1.set_xlabel('Threshold', fontsize=20)\n",
    "    # _ = ax1.set_ylabel('Length of itemsets', fontsize=20)\n",
    "\n",
    "    # ax1.legend(['Sliding window average'],fontsize=18,loc='lower left',edgecolor='k',fancybox=True)\n",
    "\n",
    "    # ax1.tick_params(axis='y', labelsize=15)\n",
    "    # ax1.tick_params(axis='x', labelsize=15\n",
    "    fig.set_size_inches(20, 20)\n",
    "\n",
    "    # Adding labels and title\n",
    "    plt.title(\"Read Length of  Direc RNA\")\n",
    "    plt.xticks(rotation=30)\n",
    "\n",
    "    return data"
   ]
  },
  {
   "cell_type": "code",
   "execution_count": null,
   "id": "13",
   "metadata": {},
   "outputs": [],
   "source": [
    "vis_bam_record_len()"
   ]
  },
  {
   "cell_type": "code",
   "execution_count": null,
   "id": "14",
   "metadata": {},
   "outputs": [],
   "source": []
  },
  {
   "cell_type": "code",
   "execution_count": null,
   "id": "15",
   "metadata": {},
   "outputs": [],
   "source": [
    "data = vis_bam_record_len(root_dir / f\"data/direct_rna/{direc_rna_samples[0]}.npy\")"
   ]
  },
  {
   "cell_type": "code",
   "execution_count": null,
   "id": "16",
   "metadata": {},
   "outputs": [],
   "source": [
    "max(data)"
   ]
  },
  {
   "cell_type": "code",
   "execution_count": null,
   "id": "17",
   "metadata": {},
   "outputs": [],
   "source": [
    "d2 = list(data)"
   ]
  },
  {
   "cell_type": "code",
   "execution_count": null,
   "id": "18",
   "metadata": {},
   "outputs": [],
   "source": [
    "d2.remove(103380)"
   ]
  },
  {
   "cell_type": "code",
   "execution_count": null,
   "id": "19",
   "metadata": {},
   "outputs": [],
   "source": [
    "max(d2)"
   ]
  },
  {
   "cell_type": "code",
   "execution_count": null,
   "id": "20",
   "metadata": {},
   "outputs": [],
   "source": [
    "sns.kdeplot(d2, fill=True)"
   ]
  },
  {
   "cell_type": "code",
   "execution_count": null,
   "id": "21",
   "metadata": {},
   "outputs": [],
   "source": []
  },
  {
   "cell_type": "code",
   "execution_count": null,
   "id": "22",
   "metadata": {},
   "outputs": [],
   "source": [
    "data.sort()"
   ]
  },
  {
   "cell_type": "code",
   "execution_count": null,
   "id": "23",
   "metadata": {},
   "outputs": [],
   "source": [
    "sns.kdeplot(data[:-800], fill=True)"
   ]
  },
  {
   "cell_type": "code",
   "execution_count": null,
   "id": "24",
   "metadata": {},
   "outputs": [],
   "source": [
    "des = pd.Series(data).describe()"
   ]
  },
  {
   "cell_type": "markdown",
   "id": "25",
   "metadata": {},
   "source": [
    "# 2. Build Model"
   ]
  },
  {
   "cell_type": "code",
   "execution_count": null,
   "id": "26",
   "metadata": {},
   "outputs": [],
   "source": [
    "import torch\n",
    "from transformers import (\n",
    "    AutoModelForSequenceClassification,\n",
    "    AutoTokenizer,\n",
    "    Trainer,\n",
    "    TrainingArguments,\n",
    "    logging,\n",
    ")\n",
    "\n",
    "max_lengths = {\n",
    "    \"hyenadna-tiny-1k-seqlen\": 1024,\n",
    "    \"hyenadna-small-32k-seqlen\": 32768,\n",
    "    \"hyenadna-medium-160k-seqlen\": 160000,\n",
    "    \"hyenadna-medium-450k-seqlen\": 450000,  # T4 up to here\n",
    "    \"hyenadna-large-1m-seqlen\": 1_000_000,  # only A100 (paid tier)\n",
    "}\n",
    "model_checkpoints = list(max_lengths.keys())\n",
    "\n",
    "# instantiate pretrained model\n",
    "checkpoint = \"hyenadna-small-32k-seqlen\"\n",
    "max_length = max_lengths[checkpoint]\n",
    "# bfloat16 for better speed and reduced memory usage\n",
    "model_name = f\"LongSafari/{checkpoint}-hf\"\n",
    "tokenizer = AutoTokenizer.from_pretrained(model_name, trust_remote_code=True)\n",
    "\n",
    "\n",
    "# model = AutoModelForSequenceClassification.from_pretrained(model_name, torch_dtype=torch.bfloat16, device_map=\"auto\", trust_remote_code=True)"
   ]
  },
  {
   "cell_type": "code",
   "execution_count": null,
   "id": "27",
   "metadata": {},
   "outputs": [],
   "source": [
    "def generate_label_from_target(data):\n",
    "    return {\"label\": deepchopper.vertorize_target(*data[\"target\"], len(data[\"seq\"]))}\n",
    "\n",
    "\n",
    "def tokenize_and_align_labels_and_quals(data, tokenizer, max_length, pad_qual=0, pad_label=-100):\n",
    "    tokenized_inputs = tokenizer(data[\"seq\"], max_length=max_length, truncation=True, padding=True)\n",
    "    labels = deepchopper.vertorize_target(*data[\"target\"], len(data[\"seq\"])) + [pad_label]\n",
    "    quals = data[\"qual\"] + [pad_qual]\n",
    "\n",
    "    tokenized_inputs.update({\"label\": labels, \"input_qual\": quals})\n",
    "\n",
    "    return tokenized_inputs\n",
    "\n",
    "\n",
    "from functools import partial\n",
    "\n",
    "tokenize_dataset = dataset.map(\n",
    "    partial(tokenize_and_align_labels_and_quals, tokenizer=tokenizer, max_length=32768)\n",
    ")"
   ]
  },
  {
   "cell_type": "code",
   "execution_count": null,
   "id": "28",
   "metadata": {},
   "outputs": [],
   "source": [
    "from transformers import AutoModel\n",
    "\n",
    "hyena_dna_model = AutoModel.from_pretrained(model_name, trust_remote_code=True)"
   ]
  },
  {
   "cell_type": "code",
   "execution_count": null,
   "id": "29",
   "metadata": {},
   "outputs": [],
   "source": [
    "hyena_dna_model"
   ]
  },
  {
   "cell_type": "code",
   "execution_count": null,
   "id": "30",
   "metadata": {},
   "outputs": [],
   "source": [
    "import evaluate\n",
    "\n",
    "seqeval = evaluate.load(\"seqeval\")"
   ]
  },
  {
   "cell_type": "code",
   "execution_count": null,
   "id": "31",
   "metadata": {},
   "outputs": [],
   "source": [
    "import numpy as np\n",
    "\n",
    "\n",
    "def compute_metrics(p):\n",
    "    predictions, labels = p\n",
    "    predictions = np.argmax(predictions, axis=2)\n",
    "\n",
    "    true_predictions = [\n",
    "        [label_list[p] for (p, l) in zip(prediction, label) if l != -100]\n",
    "        for prediction, label in zip(predictions, labels)\n",
    "    ]\n",
    "    true_labels = [\n",
    "        [label_list[l] for (p, l) in zip(prediction, label) if l != -100]\n",
    "        for prediction, label in zip(predictions, labels)\n",
    "    ]\n",
    "\n",
    "    results = seqeval.compute(predictions=true_predictions, references=true_labels)\n",
    "    return {\n",
    "        \"precision\": results[\"overall_precision\"],\n",
    "        \"recall\": results[\"overall_recall\"],\n",
    "        \"f1\": results[\"overall_f1\"],\n",
    "        \"accuracy\": results[\"overall_accuracy\"],\n",
    "    }"
   ]
  },
  {
   "cell_type": "code",
   "execution_count": null,
   "id": "32",
   "metadata": {},
   "outputs": [],
   "source": [
    "import torch\n",
    "from torch import nn\n",
    "from transformers import AutoModel\n",
    "from transformers.modeling_outputs import TokenClassifierOutput\n",
    "\n",
    "\n",
    "class TokenClassificationHead(nn.Module):\n",
    "    def __init__(\n",
    "        self,\n",
    "        input_size: int,\n",
    "        lin1_size: int,\n",
    "        lin2_size: int,\n",
    "        output_size: int,\n",
    "    ):\n",
    "        super().__init__()\n",
    "        self.model = nn.Sequential(\n",
    "            nn.Linear(input_size, lin1_size),\n",
    "            nn.BatchNorm1d(lin1_size),\n",
    "            nn.ReLU(),\n",
    "            nn.Linear(lin1_size, lin2_size),\n",
    "            nn.BatchNorm1d(lin2_size),\n",
    "            nn.ReLU(),\n",
    "            nn.Linear(lin2_size, output_size),\n",
    "        )\n",
    "\n",
    "    def forward(self, x: torch.Tensor) -> torch.Tensor:\n",
    "        return self.model(x)\n",
    "\n",
    "\n",
    "class HyenaDNAForTokenClassification(nn.Module):\n",
    "    def __init__(\n",
    "        self,\n",
    "        backbone_model_name: str,\n",
    "        input_size: int = 256,\n",
    "        lin1_size: int = 2048,\n",
    "        lin2_size: int = 1024,\n",
    "    ):\n",
    "        super().__init__()\n",
    "        self.backbone_max_length = {\n",
    "            \"hyenadna-tiny-1k-seqlen\": 1024,\n",
    "            \"hyenadna-small-32k-seqlen\": 32768,\n",
    "            \"hyenadna-medium-160k-seqlen\": 160000,\n",
    "            \"hyenadna-medium-450k-seqlen\": 450000,  # T4 up to here\n",
    "            \"hyenadna-large-1m-seqlen\": 1_000_000,  # only A100 (paid tier)\n",
    "        }\n",
    "        assert backbone_model_name in self.backbone_max_length.keys()\n",
    "\n",
    "        self.backbone_model_name = f\"LongSafari/{backbone_model_name}-hf\"\n",
    "        self.backbone = AutoModel.from_pretrained(self.backbone_model_name, trust_remote_code=True)\n",
    "        self.head = TokenClassificationHead(\n",
    "            input_size=input_size,\n",
    "            lin1_size=lin1_size,\n",
    "            lin2_size=lin2_size,\n",
    "            output_size=self.backbone_max_length[backbone_model_name],\n",
    "        )\n",
    "\n",
    "    def forward(\n",
    "        self,\n",
    "        input_ids: torch.Tensor,\n",
    "        labels: torch.Tensor,\n",
    "        quals: torch.Tensor | None = None,\n",
    "        inputs_embeds: torch.FloatTensor | None = None,\n",
    "        output_hidden_states: bool | None = None,\n",
    "        return_dict: bool | None = None,\n",
    "    ) -> torch.Tensor:\n",
    "        transformer_outputs = self.hyena(\n",
    "            input_ids,\n",
    "            inputs_embeds=inputs_embeds,\n",
    "            output_hidden_states=output_hidden_states,\n",
    "            return_dict=return_dict,\n",
    "        )\n",
    "        batch_size = input_ids.shape[0]\n",
    "\n",
    "        hidden_states = transformer_outputs[0]\n",
    "        logits = self.head(hidden_states)\n",
    "\n",
    "        sequence_lengths = (\n",
    "            torch.eq(input_ids, self.hyena.config.pad_token_id).long().argmax(-1) - 1\n",
    "        ).to(logits.device)\n",
    "        labels = labels.to(logits.device)\n",
    "\n",
    "        loss_fct = nn.CrossEntropyLoss()\n",
    "        loss = loss_fct(logits, labels)\n",
    "\n",
    "        return TokenClassifierOutput(\n",
    "            loss=loss,\n",
    "            logits=logits,\n",
    "            hidden_states=transformer_outputs.hidden_states,\n",
    "        )"
   ]
  },
  {
   "cell_type": "code",
   "execution_count": null,
   "id": "33",
   "metadata": {},
   "outputs": [],
   "source": [
    "from transformers import DataCollatorForTokenClassification\n",
    "\n",
    "data_collator = DataCollatorForTokenClassification(tokenizer)\n",
    "\n",
    "test_model = HyenaDNAForTokenClassification(backbone_model_name=\"hyenadna-small-32k-seqlen\")"
   ]
  },
  {
   "cell_type": "code",
   "execution_count": null,
   "id": "34",
   "metadata": {},
   "outputs": [],
   "source": [
    "training_args = TrainingArguments(\n",
    "    output_dir=\"my_awesome_model\",\n",
    "    learning_rate=2e-5,\n",
    "    per_device_train_batch_size=1,\n",
    "    per_device_eval_batch_size=1,\n",
    "    num_train_epochs=2,\n",
    "    weight_decay=0.01,\n",
    "    evaluation_strategy=\"epoch\",\n",
    "    save_strategy=\"epoch\",\n",
    "    load_best_model_at_end=True,\n",
    "    push_to_hub=False,\n",
    ")\n",
    "\n",
    "trainer = Trainer(\n",
    "    model=test_model,\n",
    "    args=training_args,\n",
    "    train_dataset=tokenized_wnut[\"train\"],\n",
    "    eval_dataset=tokenized_wnut[\"test\"],\n",
    "    tokenizer=tokenizer,\n",
    "    data_collator=data_collator,\n",
    "    compute_metrics=compute_metrics,\n",
    ")"
   ]
  },
  {
   "cell_type": "code",
   "execution_count": null,
   "id": "35",
   "metadata": {},
   "outputs": [],
   "source": [
    "trainer.train()"
   ]
  },
  {
   "cell_type": "code",
   "execution_count": null,
   "id": "36",
   "metadata": {},
   "outputs": [],
   "source": [
    "# Generate some random sequence and labels\n",
    "# If you're copying this code, replace the sequences and labels\n",
    "# here with your own data!\n",
    "# sequence = 'ACTG' * int(max_length/4)\n",
    "# sequence = [sequence] * 8  # Create 8 identical samples\n",
    "# tokenized = tokenizer(sequence)[\"input_ids\"]\n",
    "# labels = [0, 1] * 4\n",
    "\n",
    "sequence = [seq]\n",
    "tokenized = tokenizer(sequence)[\"input_ids\"]\n",
    "labels = label\n",
    "\n",
    "# Create a dataset for training\n",
    "ds = Dataset.from_dict({\"input_ids\": tokenized, \"labels\": labels})\n",
    "ds.set_format(\"pt\")\n",
    "\n",
    "# Initialize Trainer\n",
    "# Note that we're using extremely small batch sizes to maximize\n",
    "# our ability to fit long sequences in memory!\n",
    "args = {\n",
    "    \"output_dir\": \"tmp\",\n",
    "    \"num_train_epochs\": 1,\n",
    "    \"per_device_train_batch_size\": 1,\n",
    "    \"gradient_accumulation_steps\": 4,\n",
    "    \"gradient_checkpointing\": True,\n",
    "    \"learning_rate\": 2e-5,\n",
    "}\n",
    "training_args = TrainingArguments(**args)\n",
    "\n",
    "trainer = Trainer(model=model, args=training_args, train_dataset=ds)\n",
    "result = trainer.train()\n",
    "\n",
    "print(result)\n",
    "\n",
    "# Now we can save_pretrained() or push_to_hub() to share the trained model!"
   ]
  },
  {
   "cell_type": "code",
   "execution_count": null,
   "id": "37",
   "metadata": {},
   "outputs": [],
   "source": [
    "result"
   ]
  },
  {
   "cell_type": "code",
   "execution_count": null,
   "id": "38",
   "metadata": {},
   "outputs": [],
   "source": []
  },
  {
   "cell_type": "code",
   "execution_count": null,
   "id": "39",
   "metadata": {},
   "outputs": [],
   "source": []
  }
 ],
 "metadata": {
  "kernelspec": {
   "display_name": "Python 3 (ipykernel)",
   "language": "python",
   "name": "python3"
  },
  "language_info": {
   "codemirror_mode": {
    "name": "ipython",
    "version": 3
   },
   "file_extension": ".py",
   "mimetype": "text/x-python",
   "name": "python",
   "nbconvert_exporter": "python",
   "pygments_lexer": "ipython3",
   "version": "3.10.13"
  }
 },
 "nbformat": 4,
 "nbformat_minor": 5
}
