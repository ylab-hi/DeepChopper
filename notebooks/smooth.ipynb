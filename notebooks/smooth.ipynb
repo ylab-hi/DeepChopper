{
 "cells": [
  {
   "cell_type": "code",
   "execution_count": 2,
   "id": "0287df58-5797-4569-9d17-3fd88fb6e456",
   "metadata": {},
   "outputs": [
    {
     "data": {
      "application/vnd.jupyter.widget-view+json": {
       "model_id": "255031a480224dc7922dd16eda31b2f0",
       "version_major": 2,
       "version_minor": 0
      },
      "text/plain": [
       "Downloading builder script:   0%|          | 0.00/4.20k [00:00<?, ?B/s]"
      ]
     },
     "metadata": {},
     "output_type": "display_data"
    },
    {
     "data": {
      "application/vnd.jupyter.widget-view+json": {
       "model_id": "f0cf183c111d4d27ab67aa4860b571c5",
       "version_major": 2,
       "version_minor": 0
      },
      "text/plain": [
       "Downloading builder script:   0%|          | 0.00/6.77k [00:00<?, ?B/s]"
      ]
     },
     "metadata": {},
     "output_type": "display_data"
    },
    {
     "data": {
      "application/vnd.jupyter.widget-view+json": {
       "model_id": "ec048fc0811a4278a327af08e6653b1c",
       "version_major": 2,
       "version_minor": 0
      },
      "text/plain": [
       "Downloading builder script:   0%|          | 0.00/7.55k [00:00<?, ?B/s]"
      ]
     },
     "metadata": {},
     "output_type": "display_data"
    },
    {
     "data": {
      "application/vnd.jupyter.widget-view+json": {
       "model_id": "f28d233a1339421da163638b75aafcd1",
       "version_major": 2,
       "version_minor": 0
      },
      "text/plain": [
       "Downloading builder script:   0%|          | 0.00/7.36k [00:00<?, ?B/s]"
      ]
     },
     "metadata": {},
     "output_type": "display_data"
    }
   ],
   "source": [
    "import torch \n",
    "from deepchopper import  remove_intervals_and_keep_left, smooth_label_region, summary_predict, get_label_region"
   ]
  },
  {
   "cell_type": "code",
   "execution_count": 3,
   "id": "4258f659-ddd2-48d4-b969-b7a1c65925a5",
   "metadata": {},
   "outputs": [],
   "source": [
    "from deepchopper.utils import alignment_predict, highlight_target, highlight_targets"
   ]
  },
  {
   "cell_type": "code",
   "execution_count": 4,
   "id": "8efdfa99-356d-4e7b-b338-2ae388b7c89f",
   "metadata": {},
   "outputs": [],
   "source": [
    "from pathlib import Path "
   ]
  },
  {
   "cell_type": "code",
   "execution_count": null,
   "id": "07a371da-c7fc-425e-ae61-9c3963708d64",
   "metadata": {},
   "outputs": [],
   "source": []
  },
  {
   "cell_type": "code",
   "execution_count": 5,
   "id": "7999b1e4-ce30-4c6e-92e3-a69165c56bbe",
   "metadata": {},
   "outputs": [],
   "source": [
    "# cnn check point /projects/b1171/ylk4626/project/DeepChopper/logs/train/runs/2024-04-07_12-01-37/checkpoints/epoch_036_f1_0.9914.ckpt \n",
    "# heyna check point  /projects/b1171/ylk4626/project/DeepChopper/logs/train/runs/2024-04-09_20-13-03/checkpoints/epoch_007_f1_0.9931.ckpt\n",
    "\n",
    "# data/eval/real_data/dorado_without_trim_fqs/K562.fastq_chunks/K562.fastq_0.parquet\n",
    "\n",
    "# heyna result: chunk 0 1 2 3 4 5 6\n",
    "# /projects/b1171/ylk4626/project/DeepChopper/logs/eval/runs/2024-04-12_20-50-48\n",
    "# /projects/b1171/ylk4626/project/DeepChopper/logs/eval/runs/2024-04-12_20-30-28\n",
    "# \n",
    "#\n",
    "#\n",
    "#\n",
    "#\n",
    "\n",
    "\n",
    "\n",
    "cnn_data_folder  = \"/projects/b1171/ylk4626/project/DeepChopper/logs/eval/runs/2024-04-12_16-17-16/predicts/0/0.pt\"\n",
    "heyna_data_folder = \"/projects/b1171/ylk4626/project/DeepChopper/logs/eval/runs/2024-04-12_20-30-28/predicts/0/0.pt\""
   ]
  },
  {
   "cell_type": "code",
   "execution_count": 144,
   "id": "d7b726ac-68eb-4c6e-9eaf-72e1488d5ad0",
   "metadata": {},
   "outputs": [],
   "source": [
    "def test_smooth(data_folder):\n",
    "    prediction = torch.load(data_folder)\n",
    "    true_predcition, true_label = summary_predict(prediction['prediction'].argmax(-1).numpy(), prediction['target'].numpy(), -100)\n",
    "    true_seq, true_label = summary_predict(prediction['seq'].numpy(), prediction['target'].numpy(), -100)\n",
    "    return true_predcition, true_seq, true_label\n",
    "\n",
    "\n",
    "def id2seq(ids: list[int]):\n",
    "    # A', 'C', 'G', 'T', 'N'\n",
    "    table =  {\n",
    "        7: \"A\", \n",
    "        8: \"C\",\n",
    "        9: \"G\",\n",
    "        10: \"T\",\n",
    "        11: \"N\"}\n",
    "    return ''.join((table[c] for c in ids))\n",
    "\n",
    "\n",
    "def majority_voting(labels, window_size):\n",
    "    # Ensure window size is odd to have a central token\n",
    "    if window_size % 2 == 0:\n",
    "        window_size += 1\n",
    "\n",
    "    half_window = window_size // 2\n",
    "    smoothed_labels = []\n",
    "    \n",
    "    for i in range(len(labels)):\n",
    "        # Extract the context window\n",
    "        start = max(0, i - half_window)\n",
    "        end = min(len(labels), i + half_window + 1)\n",
    "        window = labels[start:end]     \n",
    "        # Choose the most common label in the window\n",
    "        most_common = max(set(window), key=window.count)\n",
    "        # print(f\"{i}: {labels[i]} {window=} {most_common=}\")\n",
    "        smoothed_labels.append(most_common)\n",
    "\n",
    "    return smoothed_labels\n",
    "\n",
    "def ascii_values_to_string(ascii_values):\n",
    "    return ''.join(chr(value) for value in ascii_values)\n",
    "\n",
    "def convert_id_str(ids):  \n",
    "    return (ascii_values_to_string(i[2: i[0]+2]) for i in ids)    \n",
    "\n",
    "from dataclasses import dataclass\n",
    "\n",
    "@dataclass \n",
    "class Predict: \n",
    "    true_prediction: list[int]\n",
    "    true_seq: str\n",
    "    true_id: str\n",
    "    is_trucation: bool\n",
    "    \n",
    "    def is_terminal(self, *, threshold=10, smooth=False, window_size=None) -> bool:\n",
    "        pass\n",
    "        \n",
    "    @property\n",
    "    def is_polya(self) -> bool:\n",
    "        pass\n",
    "\n",
    "    @property\n",
    "    def prediction_region(self):\n",
    "        return get_label_region(self.true_prediction)\n",
    "\n",
    "    def smooth_prediction_region(self, window_size):\n",
    "        return get_label_region(self.smooth_label(window_size))\n",
    "\n",
    "    def smooth_label(self, window_size):\n",
    "        return majority_voting(self.true_prediction, window_size)\n",
    "\n",
    "    \n",
    "class BatchPredict:\n",
    "    def __init__(self, batch_prediction, smooth_window_size=9):\n",
    "        self.smooth_window_size = smooth_window_size\n",
    "        self.data  = torch.load(batch_prediction)\n",
    "        self.batch_size = self.data['seq'].shape[0]  \n",
    "        self.batch_predicts = []\n",
    "        true_predictions, _true_labels = summary_predict(self.data['prediction'].argmax(-1).numpy(), self.data['target'].numpy(), -100)\n",
    "        true_seqs, _true_label = summary_predict(self.data['seq'].numpy(), self.data['target'].numpy(), -100)\n",
    "        for idx in range(len(true_predictions)):\n",
    "            self.batch_predicts.append(Predict(\n",
    "                true_prediction=true_predictions[idx],\n",
    "                true_seq= id2seq(true_seqs[idx]),\n",
    "                true_id=ascii_values_to_string(self.data['id'][idx][2: self.data['id'][idx][0]+2]),\n",
    "                is_trucation=bool(self.data['id'][idx][1])))\n",
    "                                       \n",
    "    def __repr__(self):\n",
    "        return f\"{__class__.__name__}(batch_size={self.batch_size})\"\n",
    "\n",
    "    def print_all_seq(self, *, smooth=False, smooth_window_size: int| None =None):\n",
    "        for predict in self.batch_predicts:\n",
    "            if smooth:\n",
    "                window_size = smooth_window_size if smooth_window_size is not None else self.smooth_window_size\n",
    "                regions =  predict.smooth_prediction_region(window_size) \n",
    "            else:\n",
    "                regions = predict.prediction_region\n",
    "\n",
    "            print(f\"id     : {predict.true_id}\")\n",
    "            print(f\"regions: {regions}\")\n",
    "            # highlight_targets(\"\".join((str(i) for i in self.true_predcition[idx])), regions)\n",
    "            highlight_targets(predict.true_seq, regions)\n",
    "\n",
    "    def compare_smooth(self,  smooth_window_size: int| None = None):\n",
    "        for predict in self.batch_predicts:\n",
    "            regions = predict.prediction_region\n",
    "            \n",
    "            window_size = smooth_window_size if smooth_window_size is not None else self.smooth_window_size\n",
    "            smooth_regions = predict.smooth_prediction_region(window_size) \n",
    "\n",
    "            print(f\"id      : {predict.true_id}\")\n",
    "            print(f\"original: {regions}\")\n",
    "            print(f\"smooth  : {smooth_regions}\")\n",
    "            highlight_targets(predict.true_seq, regions)\n",
    "            highlight_targets(predict.true_seq, smooth_regions)\n",
    "\n",
    "    def __len__(self):\n",
    "        return batch_size \n",
    "\n",
    "    def __getitem__(self, idx):\n",
    "        return self.batch_predicts[idx]\n",
    "         \n",
    "\n",
    "class BatchPredicts:\n",
    "    def __init__(self, batch_folder, smooth_window_size=9):\n",
    "        batch_folder = Path(batch_folder)\n",
    "        self.batch_predicts =  (BatchPredict(batch, smooth_window_size=smooth_window_size)  for batch in (batch_folder).glob(\"*.pt\"))\n",
    "\n",
    "    def __iter__(self):\n",
    "        return self.batch_predicts\n",
    "\n",
    "    def __next__(self): \n",
    "        return next(self.batch_predicts)\n"
   ]
  },
  {
   "cell_type": "code",
   "execution_count": 152,
   "id": "bb54854f-5661-447f-b72f-74d977047422",
   "metadata": {
    "scrolled": true
   },
   "outputs": [],
   "source": [
    "\"\".join([str(i) for i in majority_voting(ss.true_predcition[7], 17)])"
   ]
  },
  {
   "cell_type": "code",
   "execution_count": 145,
   "id": "e286438d-9002-4514-a135-f91b7eb165ab",
   "metadata": {},
   "outputs": [],
   "source": [
    "data_folder = Path(\"/projects/b1171/ylk4626/project/DeepChopper/logs/eval/runs/2024-04-12_20-30-28/predicts/0\")\n",
    "aa = BatchPredicts(data_folder, smooth_window_size=17)"
   ]
  },
  {
   "cell_type": "code",
   "execution_count": 153,
   "id": "e86dc758-9f8f-4a2d-ae5d-bac2e2c2ef7b",
   "metadata": {},
   "outputs": [],
   "source": [
    "# ss.print_all_seq(smooth=True)"
   ]
  },
  {
   "cell_type": "code",
   "execution_count": 160,
   "id": "56cac98d-f588-4d0e-a455-f8bf026b2637",
   "metadata": {},
   "outputs": [
    {
     "name": "stdout",
     "output_type": "stream",
     "text": [
      "id      : 66eb10f4-a13a-4f6f-a22f-299da3c91658\n",
      "original: [(283, 347)]\n",
      "smooth  : [(283, 347)]\n"
     ]
    },
    {
     "data": {
      "text/html": [
       "<pre style=\"white-space:pre;overflow-x:auto;line-height:normal;font-family:Menlo,'DejaVu Sans Mono',consolas,'Courier New',monospace\">GCACCATAATGCCTGCAGGGCTTTAAGATCACGCAGAACAACGCCATGAAGATCTCCTTTGCCAAGAAGTAGCACCTTTTCCCCCATGCCTGCCCTCTCCCCTGTTCTGGGGCCA\n",
       "CCCTCCTTTCCCCCTTGGCTCAGCCCCCTGAAGGTGCAGCCCTCTTGGGGGCCTTCTTGGAGCCGTGTGTGAGTGAGTGGTCGCCACACAGCATTGTACCCAGAGTCTGTCCCCA\n",
       "GACATTGCACCTGGCTTAAGTGAAGGCAGGATTAAAGTGGCATGAAAAAAAAA<span style=\"color: #800080; text-decoration-color: #800080; font-weight: bold\">TCCCTACCCTCTCTCCATCCATCATCCATACACACATCCCCACTACCATCTATCCCTCTCAA</span>\n",
       "<span style=\"color: #800080; text-decoration-color: #800080; font-weight: bold\">AC</span>\n",
       "</pre>\n"
      ],
      "text/plain": [
       "GCACCATAATGCCTGCAGGGCTTTAAGATCACGCAGAACAACGCCATGAAGATCTCCTTTGCCAAGAAGTAGCACCTTTTCCCCCATGCCTGCCCTCTCCCCTGTTCTGGGGCCA\n",
       "CCCTCCTTTCCCCCTTGGCTCAGCCCCCTGAAGGTGCAGCCCTCTTGGGGGCCTTCTTGGAGCCGTGTGTGAGTGAGTGGTCGCCACACAGCATTGTACCCAGAGTCTGTCCCCA\n",
       "GACATTGCACCTGGCTTAAGTGAAGGCAGGATTAAAGTGGCATGAAAAAAAAA\u001b[1;35mTCCCTACCCTCTCTCCATCCATCATCCATACACACATCCCCACTACCATCTATCCCTCTCAA\u001b[0m\n",
       "\u001b[1;35mAC\u001b[0m\n"
      ]
     },
     "metadata": {},
     "output_type": "display_data"
    },
    {
     "data": {
      "text/html": [
       "<pre style=\"white-space:pre;overflow-x:auto;line-height:normal;font-family:Menlo,'DejaVu Sans Mono',consolas,'Courier New',monospace\">GCACCATAATGCCTGCAGGGCTTTAAGATCACGCAGAACAACGCCATGAAGATCTCCTTTGCCAAGAAGTAGCACCTTTTCCCCCATGCCTGCCCTCTCCCCTGTTCTGGGGCCA\n",
       "CCCTCCTTTCCCCCTTGGCTCAGCCCCCTGAAGGTGCAGCCCTCTTGGGGGCCTTCTTGGAGCCGTGTGTGAGTGAGTGGTCGCCACACAGCATTGTACCCAGAGTCTGTCCCCA\n",
       "GACATTGCACCTGGCTTAAGTGAAGGCAGGATTAAAGTGGCATGAAAAAAAAA<span style=\"color: #800080; text-decoration-color: #800080; font-weight: bold\">TCCCTACCCTCTCTCCATCCATCATCCATACACACATCCCCACTACCATCTATCCCTCTCAA</span>\n",
       "<span style=\"color: #800080; text-decoration-color: #800080; font-weight: bold\">AC</span>\n",
       "</pre>\n"
      ],
      "text/plain": [
       "GCACCATAATGCCTGCAGGGCTTTAAGATCACGCAGAACAACGCCATGAAGATCTCCTTTGCCAAGAAGTAGCACCTTTTCCCCCATGCCTGCCCTCTCCCCTGTTCTGGGGCCA\n",
       "CCCTCCTTTCCCCCTTGGCTCAGCCCCCTGAAGGTGCAGCCCTCTTGGGGGCCTTCTTGGAGCCGTGTGTGAGTGAGTGGTCGCCACACAGCATTGTACCCAGAGTCTGTCCCCA\n",
       "GACATTGCACCTGGCTTAAGTGAAGGCAGGATTAAAGTGGCATGAAAAAAAAA\u001b[1;35mTCCCTACCCTCTCTCCATCCATCATCCATACACACATCCCCACTACCATCTATCCCTCTCAA\u001b[0m\n",
       "\u001b[1;35mAC\u001b[0m\n"
      ]
     },
     "metadata": {},
     "output_type": "display_data"
    },
    {
     "name": "stdout",
     "output_type": "stream",
     "text": [
      "id      : 307e9731-6b6e-4e85-a6ae-542926cf642f\n",
      "original: []\n",
      "smooth  : []\n"
     ]
    },
    {
     "data": {
      "text/html": [
       "<pre style=\"white-space:pre;overflow-x:auto;line-height:normal;font-family:Menlo,'DejaVu Sans Mono',consolas,'Courier New',monospace\">GTCAGCCTAAAGTTACGGTCAGCATGGCAATTCCTATTTTAGGAAAAATACTTTCAATATGAAATGCATAAAGCAGTTCAAAAAGCAGTCTGTATTCCATCATTTCCTTTTTCAT\n",
       "TCCAGTCCTTATTTTTGTAAGTATTCTCCTCCGGCTACCTGGACTCAAAATCTCAGTTGTCTGACAGTTTTTTTCTCTCTTGTCCCTGACCAAAAAAGAATGATCATACCCAGAA\n",
       "TTCAATGTTTGATATTTTAAGAATGTATGTTTAGTGTTTCTCAGAGTGAGTCTACCATCTGTATAAAAACACCTTGGGGGCA\n",
       "</pre>\n"
      ],
      "text/plain": [
       "GTCAGCCTAAAGTTACGGTCAGCATGGCAATTCCTATTTTAGGAAAAATACTTTCAATATGAAATGCATAAAGCAGTTCAAAAAGCAGTCTGTATTCCATCATTTCCTTTTTCAT\n",
       "TCCAGTCCTTATTTTTGTAAGTATTCTCCTCCGGCTACCTGGACTCAAAATCTCAGTTGTCTGACAGTTTTTTTCTCTCTTGTCCCTGACCAAAAAAGAATGATCATACCCAGAA\n",
       "TTCAATGTTTGATATTTTAAGAATGTATGTTTAGTGTTTCTCAGAGTGAGTCTACCATCTGTATAAAAACACCTTGGGGGCA\n"
      ]
     },
     "metadata": {},
     "output_type": "display_data"
    },
    {
     "data": {
      "text/html": [
       "<pre style=\"white-space:pre;overflow-x:auto;line-height:normal;font-family:Menlo,'DejaVu Sans Mono',consolas,'Courier New',monospace\">GTCAGCCTAAAGTTACGGTCAGCATGGCAATTCCTATTTTAGGAAAAATACTTTCAATATGAAATGCATAAAGCAGTTCAAAAAGCAGTCTGTATTCCATCATTTCCTTTTTCAT\n",
       "TCCAGTCCTTATTTTTGTAAGTATTCTCCTCCGGCTACCTGGACTCAAAATCTCAGTTGTCTGACAGTTTTTTTCTCTCTTGTCCCTGACCAAAAAAGAATGATCATACCCAGAA\n",
       "TTCAATGTTTGATATTTTAAGAATGTATGTTTAGTGTTTCTCAGAGTGAGTCTACCATCTGTATAAAAACACCTTGGGGGCA\n",
       "</pre>\n"
      ],
      "text/plain": [
       "GTCAGCCTAAAGTTACGGTCAGCATGGCAATTCCTATTTTAGGAAAAATACTTTCAATATGAAATGCATAAAGCAGTTCAAAAAGCAGTCTGTATTCCATCATTTCCTTTTTCAT\n",
       "TCCAGTCCTTATTTTTGTAAGTATTCTCCTCCGGCTACCTGGACTCAAAATCTCAGTTGTCTGACAGTTTTTTTCTCTCTTGTCCCTGACCAAAAAAGAATGATCATACCCAGAA\n",
       "TTCAATGTTTGATATTTTAAGAATGTATGTTTAGTGTTTCTCAGAGTGAGTCTACCATCTGTATAAAAACACCTTGGGGGCA\n"
      ]
     },
     "metadata": {},
     "output_type": "display_data"
    },
    {
     "name": "stdout",
     "output_type": "stream",
     "text": [
      "id      : f202f535-19d4-4b6f-9bff-98e064fe7631\n",
      "original: [(428, 429), (430, 431), (668, 732)]\n",
      "smooth  : [(668, 732)]\n"
     ]
    },
    {
     "data": {
      "text/html": [
       "<pre style=\"white-space:pre;overflow-x:auto;line-height:normal;font-family:Menlo,'DejaVu Sans Mono',consolas,'Courier New',monospace\">TGAGACGGAGTCTTGCCTGTAGCCCAGGCTGGAGTGCAATGGCAGGATCTCAGATCACTGCAACCTCTGCCTCCTGGGTCAAGCGATTTCCTGCTCATCTTCCCCAGGTAGTAGC\n",
       "TGGGATTACAGGCATGTGCCACAACGCCTGGCTAATTTTGTATTTCTTGATAGAGACTGTTCCATGTTGGTCAGGCTGGTCTCAAACTCCCGACCTCAGGTGATCCGCCCGCCTG\n",
       "GCCTCCTAAAGTGCTGGGATTACAAGGCATGTGAGCCATTAGCGCCCTGATTTTATTGTATATTAAGAAGTTCCAAATATGTTGATTTGCATTTATCCTATATAACTAAAGAACA\n",
       "TCTGTATTTCATGGTGTTTTGGGTAAATTAGCGAATCAACCCTTCCTAAGTTAAAGGGAAAAGTTATTTTTAAAACAAAAAAA<span style=\"color: #800080; text-decoration-color: #800080; font-weight: bold\">C</span>A<span style=\"color: #800080; text-decoration-color: #800080; font-weight: bold\">C</span>ATTCATACAAGAGTGTATTTCCCCCTTAT\n",
       "TTGATGCATGTTGATTAAACTTTGAGATACAGCTTTTAAGTATGGTGAGTTTGGTTTTGGTGTAACATCTTCAACATGTCACTGGCTATCAAAGAATAAGAAAATCATTGAGTAT\n",
       "GAGTGTGTTTTATAAACTTCTGAGTTTTTCAGATGTCTTAATATTTTTAATAGAACTTAATAAAATGTCTAGATTGACTATTTAAAAAAAAAA<span style=\"color: #800080; text-decoration-color: #800080; font-weight: bold\">TCCCATCCTCCATTTGCCCCTC</span>\n",
       "<span style=\"color: #800080; text-decoration-color: #800080; font-weight: bold\">TTATATCATCATCTAACCCACCATACATCCTTAAACTTCCTT</span>\n",
       "</pre>\n"
      ],
      "text/plain": [
       "TGAGACGGAGTCTTGCCTGTAGCCCAGGCTGGAGTGCAATGGCAGGATCTCAGATCACTGCAACCTCTGCCTCCTGGGTCAAGCGATTTCCTGCTCATCTTCCCCAGGTAGTAGC\n",
       "TGGGATTACAGGCATGTGCCACAACGCCTGGCTAATTTTGTATTTCTTGATAGAGACTGTTCCATGTTGGTCAGGCTGGTCTCAAACTCCCGACCTCAGGTGATCCGCCCGCCTG\n",
       "GCCTCCTAAAGTGCTGGGATTACAAGGCATGTGAGCCATTAGCGCCCTGATTTTATTGTATATTAAGAAGTTCCAAATATGTTGATTTGCATTTATCCTATATAACTAAAGAACA\n",
       "TCTGTATTTCATGGTGTTTTGGGTAAATTAGCGAATCAACCCTTCCTAAGTTAAAGGGAAAAGTTATTTTTAAAACAAAAAAA\u001b[1;35mC\u001b[0mA\u001b[1;35mC\u001b[0mATTCATACAAGAGTGTATTTCCCCCTTAT\n",
       "TTGATGCATGTTGATTAAACTTTGAGATACAGCTTTTAAGTATGGTGAGTTTGGTTTTGGTGTAACATCTTCAACATGTCACTGGCTATCAAAGAATAAGAAAATCATTGAGTAT\n",
       "GAGTGTGTTTTATAAACTTCTGAGTTTTTCAGATGTCTTAATATTTTTAATAGAACTTAATAAAATGTCTAGATTGACTATTTAAAAAAAAAA\u001b[1;35mTCCCATCCTCCATTTGCCCCTC\u001b[0m\n",
       "\u001b[1;35mTTATATCATCATCTAACCCACCATACATCCTTAAACTTCCTT\u001b[0m\n"
      ]
     },
     "metadata": {},
     "output_type": "display_data"
    },
    {
     "data": {
      "text/html": [
       "<pre style=\"white-space:pre;overflow-x:auto;line-height:normal;font-family:Menlo,'DejaVu Sans Mono',consolas,'Courier New',monospace\">TGAGACGGAGTCTTGCCTGTAGCCCAGGCTGGAGTGCAATGGCAGGATCTCAGATCACTGCAACCTCTGCCTCCTGGGTCAAGCGATTTCCTGCTCATCTTCCCCAGGTAGTAGC\n",
       "TGGGATTACAGGCATGTGCCACAACGCCTGGCTAATTTTGTATTTCTTGATAGAGACTGTTCCATGTTGGTCAGGCTGGTCTCAAACTCCCGACCTCAGGTGATCCGCCCGCCTG\n",
       "GCCTCCTAAAGTGCTGGGATTACAAGGCATGTGAGCCATTAGCGCCCTGATTTTATTGTATATTAAGAAGTTCCAAATATGTTGATTTGCATTTATCCTATATAACTAAAGAACA\n",
       "TCTGTATTTCATGGTGTTTTGGGTAAATTAGCGAATCAACCCTTCCTAAGTTAAAGGGAAAAGTTATTTTTAAAACAAAAAAACACATTCATACAAGAGTGTATTTCCCCCTTAT\n",
       "TTGATGCATGTTGATTAAACTTTGAGATACAGCTTTTAAGTATGGTGAGTTTGGTTTTGGTGTAACATCTTCAACATGTCACTGGCTATCAAAGAATAAGAAAATCATTGAGTAT\n",
       "GAGTGTGTTTTATAAACTTCTGAGTTTTTCAGATGTCTTAATATTTTTAATAGAACTTAATAAAATGTCTAGATTGACTATTTAAAAAAAAAA<span style=\"color: #800080; text-decoration-color: #800080; font-weight: bold\">TCCCATCCTCCATTTGCCCCTC</span>\n",
       "<span style=\"color: #800080; text-decoration-color: #800080; font-weight: bold\">TTATATCATCATCTAACCCACCATACATCCTTAAACTTCCTT</span>\n",
       "</pre>\n"
      ],
      "text/plain": [
       "TGAGACGGAGTCTTGCCTGTAGCCCAGGCTGGAGTGCAATGGCAGGATCTCAGATCACTGCAACCTCTGCCTCCTGGGTCAAGCGATTTCCTGCTCATCTTCCCCAGGTAGTAGC\n",
       "TGGGATTACAGGCATGTGCCACAACGCCTGGCTAATTTTGTATTTCTTGATAGAGACTGTTCCATGTTGGTCAGGCTGGTCTCAAACTCCCGACCTCAGGTGATCCGCCCGCCTG\n",
       "GCCTCCTAAAGTGCTGGGATTACAAGGCATGTGAGCCATTAGCGCCCTGATTTTATTGTATATTAAGAAGTTCCAAATATGTTGATTTGCATTTATCCTATATAACTAAAGAACA\n",
       "TCTGTATTTCATGGTGTTTTGGGTAAATTAGCGAATCAACCCTTCCTAAGTTAAAGGGAAAAGTTATTTTTAAAACAAAAAAACACATTCATACAAGAGTGTATTTCCCCCTTAT\n",
       "TTGATGCATGTTGATTAAACTTTGAGATACAGCTTTTAAGTATGGTGAGTTTGGTTTTGGTGTAACATCTTCAACATGTCACTGGCTATCAAAGAATAAGAAAATCATTGAGTAT\n",
       "GAGTGTGTTTTATAAACTTCTGAGTTTTTCAGATGTCTTAATATTTTTAATAGAACTTAATAAAATGTCTAGATTGACTATTTAAAAAAAAAA\u001b[1;35mTCCCATCCTCCATTTGCCCCTC\u001b[0m\n",
       "\u001b[1;35mTTATATCATCATCTAACCCACCATACATCCTTAAACTTCCTT\u001b[0m\n"
      ]
     },
     "metadata": {},
     "output_type": "display_data"
    },
    {
     "name": "stdout",
     "output_type": "stream",
     "text": [
      "id      : 2a45f5a0-0ace-4d24-bd72-1b03a3eb0e44\n",
      "original: []\n",
      "smooth  : []\n"
     ]
    },
    {
     "data": {
      "text/html": [
       "<pre style=\"white-space:pre;overflow-x:auto;line-height:normal;font-family:Menlo,'DejaVu Sans Mono',consolas,'Courier New',monospace\">AGCCGCCATGAGTTGCATGGCACCGCAGCAAGGCTGCGGCGTTAGTGAGGCCCTCACCGGCGTTAGCCTTCGCGTCCG\n",
       "</pre>\n"
      ],
      "text/plain": [
       "AGCCGCCATGAGTTGCATGGCACCGCAGCAAGGCTGCGGCGTTAGTGAGGCCCTCACCGGCGTTAGCCTTCGCGTCCG\n"
      ]
     },
     "metadata": {},
     "output_type": "display_data"
    },
    {
     "data": {
      "text/html": [
       "<pre style=\"white-space:pre;overflow-x:auto;line-height:normal;font-family:Menlo,'DejaVu Sans Mono',consolas,'Courier New',monospace\">AGCCGCCATGAGTTGCATGGCACCGCAGCAAGGCTGCGGCGTTAGTGAGGCCCTCACCGGCGTTAGCCTTCGCGTCCG\n",
       "</pre>\n"
      ],
      "text/plain": [
       "AGCCGCCATGAGTTGCATGGCACCGCAGCAAGGCTGCGGCGTTAGTGAGGCCCTCACCGGCGTTAGCCTTCGCGTCCG\n"
      ]
     },
     "metadata": {},
     "output_type": "display_data"
    },
    {
     "name": "stdout",
     "output_type": "stream",
     "text": [
      "id      : 0312cf81-e852-4d86-81a0-7f0a54731d5e\n",
      "original: [(640, 697)]\n",
      "smooth  : [(640, 697)]\n"
     ]
    },
    {
     "data": {
      "text/html": [
       "<pre style=\"white-space:pre;overflow-x:auto;line-height:normal;font-family:Menlo,'DejaVu Sans Mono',consolas,'Courier New',monospace\">TTGCCGAGCAGGAGGCGCCATCATGGGAGTGGACATCCGCCATAACAAGGACCGAAAGGTTCCGGCGCAAGGAGCCCAAGAGCCAGGATATCTACCTGAGCTGTTGGTCAAGTTT\n",
       "CATTATACAGGTTTCTTGGCCAGAAGAACCACTCCTCATCTCAACCAGGTTGTGTTGAAGTTGGCATCAGTCGCACCAACCGGCCGCCTCTGTCCCCTTTCCCGGATGATCCAGA\n",
       "AGATGAAGCTTCCTGGCCGGGAAAACAAGATGCCGTGGTTGTGGGACCATTAACTGATGATGTGCGGGTTCAGGGAGGTACCCAAACTGAAGGTATGTGCACTGCGCGTGACCAG\n",
       "CCGGGCCCGCAATCATCCAGGGCAGGGGGCAAGATCCACATCTTCGACCAGCTGGCCCGCCTCCCCTAAGGGCTGTGGCACTGTCTCTGCTTCCGGTCCTCGCAAGGGCCGAGAG\n",
       "GTGTACCGGCATTTCGGCAAGGCCCCGGGAACCCCGCACAGCCACACCAAACCCTACGTCCGCTCAAGGGCCGGAAGTTCGAGCGTGCCAGAGGCCGACGAGCCAGCCGAGGCTA\n",
       "CAAAAACTAACCCTGGATCCTACCCCTTTACTAAAAGATTTTTGCTGACAATCCCCCTCCCTCTC<span style=\"color: #800080; text-decoration-color: #800080; font-weight: bold\">CCACACATCCCCTACCATCTTATCCATCTTTCTTTCCCATCCATCCCTAT</span>\n",
       "<span style=\"color: #800080; text-decoration-color: #800080; font-weight: bold\">CATCCCC</span>\n",
       "</pre>\n"
      ],
      "text/plain": [
       "TTGCCGAGCAGGAGGCGCCATCATGGGAGTGGACATCCGCCATAACAAGGACCGAAAGGTTCCGGCGCAAGGAGCCCAAGAGCCAGGATATCTACCTGAGCTGTTGGTCAAGTTT\n",
       "CATTATACAGGTTTCTTGGCCAGAAGAACCACTCCTCATCTCAACCAGGTTGTGTTGAAGTTGGCATCAGTCGCACCAACCGGCCGCCTCTGTCCCCTTTCCCGGATGATCCAGA\n",
       "AGATGAAGCTTCCTGGCCGGGAAAACAAGATGCCGTGGTTGTGGGACCATTAACTGATGATGTGCGGGTTCAGGGAGGTACCCAAACTGAAGGTATGTGCACTGCGCGTGACCAG\n",
       "CCGGGCCCGCAATCATCCAGGGCAGGGGGCAAGATCCACATCTTCGACCAGCTGGCCCGCCTCCCCTAAGGGCTGTGGCACTGTCTCTGCTTCCGGTCCTCGCAAGGGCCGAGAG\n",
       "GTGTACCGGCATTTCGGCAAGGCCCCGGGAACCCCGCACAGCCACACCAAACCCTACGTCCGCTCAAGGGCCGGAAGTTCGAGCGTGCCAGAGGCCGACGAGCCAGCCGAGGCTA\n",
       "CAAAAACTAACCCTGGATCCTACCCCTTTACTAAAAGATTTTTGCTGACAATCCCCCTCCCTCTC\u001b[1;35mCCACACATCCCCTACCATCTTATCCATCTTTCTTTCCCATCCATCCCTAT\u001b[0m\n",
       "\u001b[1;35mCATCCCC\u001b[0m\n"
      ]
     },
     "metadata": {},
     "output_type": "display_data"
    },
    {
     "data": {
      "text/html": [
       "<pre style=\"white-space:pre;overflow-x:auto;line-height:normal;font-family:Menlo,'DejaVu Sans Mono',consolas,'Courier New',monospace\">TTGCCGAGCAGGAGGCGCCATCATGGGAGTGGACATCCGCCATAACAAGGACCGAAAGGTTCCGGCGCAAGGAGCCCAAGAGCCAGGATATCTACCTGAGCTGTTGGTCAAGTTT\n",
       "CATTATACAGGTTTCTTGGCCAGAAGAACCACTCCTCATCTCAACCAGGTTGTGTTGAAGTTGGCATCAGTCGCACCAACCGGCCGCCTCTGTCCCCTTTCCCGGATGATCCAGA\n",
       "AGATGAAGCTTCCTGGCCGGGAAAACAAGATGCCGTGGTTGTGGGACCATTAACTGATGATGTGCGGGTTCAGGGAGGTACCCAAACTGAAGGTATGTGCACTGCGCGTGACCAG\n",
       "CCGGGCCCGCAATCATCCAGGGCAGGGGGCAAGATCCACATCTTCGACCAGCTGGCCCGCCTCCCCTAAGGGCTGTGGCACTGTCTCTGCTTCCGGTCCTCGCAAGGGCCGAGAG\n",
       "GTGTACCGGCATTTCGGCAAGGCCCCGGGAACCCCGCACAGCCACACCAAACCCTACGTCCGCTCAAGGGCCGGAAGTTCGAGCGTGCCAGAGGCCGACGAGCCAGCCGAGGCTA\n",
       "CAAAAACTAACCCTGGATCCTACCCCTTTACTAAAAGATTTTTGCTGACAATCCCCCTCCCTCTC<span style=\"color: #800080; text-decoration-color: #800080; font-weight: bold\">CCACACATCCCCTACCATCTTATCCATCTTTCTTTCCCATCCATCCCTAT</span>\n",
       "<span style=\"color: #800080; text-decoration-color: #800080; font-weight: bold\">CATCCCC</span>\n",
       "</pre>\n"
      ],
      "text/plain": [
       "TTGCCGAGCAGGAGGCGCCATCATGGGAGTGGACATCCGCCATAACAAGGACCGAAAGGTTCCGGCGCAAGGAGCCCAAGAGCCAGGATATCTACCTGAGCTGTTGGTCAAGTTT\n",
       "CATTATACAGGTTTCTTGGCCAGAAGAACCACTCCTCATCTCAACCAGGTTGTGTTGAAGTTGGCATCAGTCGCACCAACCGGCCGCCTCTGTCCCCTTTCCCGGATGATCCAGA\n",
       "AGATGAAGCTTCCTGGCCGGGAAAACAAGATGCCGTGGTTGTGGGACCATTAACTGATGATGTGCGGGTTCAGGGAGGTACCCAAACTGAAGGTATGTGCACTGCGCGTGACCAG\n",
       "CCGGGCCCGCAATCATCCAGGGCAGGGGGCAAGATCCACATCTTCGACCAGCTGGCCCGCCTCCCCTAAGGGCTGTGGCACTGTCTCTGCTTCCGGTCCTCGCAAGGGCCGAGAG\n",
       "GTGTACCGGCATTTCGGCAAGGCCCCGGGAACCCCGCACAGCCACACCAAACCCTACGTCCGCTCAAGGGCCGGAAGTTCGAGCGTGCCAGAGGCCGACGAGCCAGCCGAGGCTA\n",
       "CAAAAACTAACCCTGGATCCTACCCCTTTACTAAAAGATTTTTGCTGACAATCCCCCTCCCTCTC\u001b[1;35mCCACACATCCCCTACCATCTTATCCATCTTTCTTTCCCATCCATCCCTAT\u001b[0m\n",
       "\u001b[1;35mCATCCCC\u001b[0m\n"
      ]
     },
     "metadata": {},
     "output_type": "display_data"
    },
    {
     "name": "stdout",
     "output_type": "stream",
     "text": [
      "id      : 034da6c4-10d1-44bf-9c7e-bef0fd4132fe\n",
      "original: [(1214, 1290)]\n",
      "smooth  : [(1214, 1290)]\n"
     ]
    },
    {
     "data": {
      "text/html": [
       "<pre style=\"white-space:pre;overflow-x:auto;line-height:normal;font-family:Menlo,'DejaVu Sans Mono',consolas,'Courier New',monospace\">GGAGTCAAGCCGGTTCCCGGCCCAGTCCCGTCCTGCAGCAGTCTGCCCACCAACATGACAGATGCCGCTGTGTCCTTCGCCAAGGACTACGAGCAGGTGGAGTGGCCGCAGCCAT\n",
       "CTCCAAGACGGCGGTAGCGCCCAACCGAGCAGGTCAGGTAGCTGCTGCAGGTGCAGCATCTGGCCAGCAAGCAGATCACTGCAGATAAGCAATACAAAGGCATTATGGACTGCGT\n",
       "GGTCCGTATTCCCAAGGAGCAGGAGTTTGTCCTTCTGGCGCGGTAACCTGGCCAATGTCATCAGATACTTCCCCACCCAGGCTCTTAACTTCGCCTTCAAAGATAAATACAAGCA\n",
       "GATTTCCTGGGTGGTGTGGACAAGAGAACCCAGTTTTGGCTCTACTCTGCAAGAAATCTGGCATCAGGTAGTGCCGCAGGGGCCACATCCCTGTGTTTTGTGTACCCCTTTTGAT\n",
       "TTTGCCCGTACCCGTCTAGCAGCTGATGTGGGTAAAGCTGGAGCTGAAAAGGGAATTCCGAGGCCTCGGTGACTGCCTGGTTAAGATTCTACAATTTGATGGGATTAAGGGCCTG\n",
       "TACCAAGGCTTTAACGTGTCTGTGCAGGGTATTATCATACCGGCCGCCTACTTCGGTATCTATGACACTGCAAAGGGAATGTTTCCGGATCCCAAGAACACTTCGTCATCAGCTA\n",
       "TGGATGATCGCACAGACTGTCACTGCTGTTGCCGGGTTGACTTCCGTTCCATATTGACACTGTTCGCCGCCAATGATGATGCAGTCAGGGCGCAAAGGAACTGACATCATGTCTA\n",
       "CAGGCACGCTTGACTGCTGGCGGAAGATTGCTCTGATGAAGGAGGCAAAAAAGCTTTTTTGAGTGCGTGGTCCAATCTCAGAGGCATGGGTGGTGCTTTTGTAACAATCTGTCTT\n",
       "GTATGATGAAATCAAGAAGTACACATAAGTTATTCCTAGGATTTTTCCCCCTGTGAACAGGGCATGTTGTATTATATAACATATCTTGAGCATTTCTTGACAGACTCCTGGCTGT\n",
       "CAGTTTCAGTGGCAACTATTTACTGGTTGAAAATGGGAAGCAGTTATAATATTCATTTGACCAGTTTTCTTTTAAAGCCATTTCCATGATGATGATGATGGGACTCAATTGTATT\n",
       "TTTTATTTTCAGTCACTCCTGATAATAACAAATTTGGAGAAATAAAAATATCTAAAAAAAAAAA<span style=\"color: #800080; text-decoration-color: #800080; font-weight: bold\">TCCCTCTCCCATCCATCCCCTCAACTTATTCCAACATCCTTTGCCAACCCC</span>\n",
       "<span style=\"color: #800080; text-decoration-color: #800080; font-weight: bold\">TCCCCATCTATCCTCAAACCTCCCA</span>\n",
       "</pre>\n"
      ],
      "text/plain": [
       "GGAGTCAAGCCGGTTCCCGGCCCAGTCCCGTCCTGCAGCAGTCTGCCCACCAACATGACAGATGCCGCTGTGTCCTTCGCCAAGGACTACGAGCAGGTGGAGTGGCCGCAGCCAT\n",
       "CTCCAAGACGGCGGTAGCGCCCAACCGAGCAGGTCAGGTAGCTGCTGCAGGTGCAGCATCTGGCCAGCAAGCAGATCACTGCAGATAAGCAATACAAAGGCATTATGGACTGCGT\n",
       "GGTCCGTATTCCCAAGGAGCAGGAGTTTGTCCTTCTGGCGCGGTAACCTGGCCAATGTCATCAGATACTTCCCCACCCAGGCTCTTAACTTCGCCTTCAAAGATAAATACAAGCA\n",
       "GATTTCCTGGGTGGTGTGGACAAGAGAACCCAGTTTTGGCTCTACTCTGCAAGAAATCTGGCATCAGGTAGTGCCGCAGGGGCCACATCCCTGTGTTTTGTGTACCCCTTTTGAT\n",
       "TTTGCCCGTACCCGTCTAGCAGCTGATGTGGGTAAAGCTGGAGCTGAAAAGGGAATTCCGAGGCCTCGGTGACTGCCTGGTTAAGATTCTACAATTTGATGGGATTAAGGGCCTG\n",
       "TACCAAGGCTTTAACGTGTCTGTGCAGGGTATTATCATACCGGCCGCCTACTTCGGTATCTATGACACTGCAAAGGGAATGTTTCCGGATCCCAAGAACACTTCGTCATCAGCTA\n",
       "TGGATGATCGCACAGACTGTCACTGCTGTTGCCGGGTTGACTTCCGTTCCATATTGACACTGTTCGCCGCCAATGATGATGCAGTCAGGGCGCAAAGGAACTGACATCATGTCTA\n",
       "CAGGCACGCTTGACTGCTGGCGGAAGATTGCTCTGATGAAGGAGGCAAAAAAGCTTTTTTGAGTGCGTGGTCCAATCTCAGAGGCATGGGTGGTGCTTTTGTAACAATCTGTCTT\n",
       "GTATGATGAAATCAAGAAGTACACATAAGTTATTCCTAGGATTTTTCCCCCTGTGAACAGGGCATGTTGTATTATATAACATATCTTGAGCATTTCTTGACAGACTCCTGGCTGT\n",
       "CAGTTTCAGTGGCAACTATTTACTGGTTGAAAATGGGAAGCAGTTATAATATTCATTTGACCAGTTTTCTTTTAAAGCCATTTCCATGATGATGATGATGGGACTCAATTGTATT\n",
       "TTTTATTTTCAGTCACTCCTGATAATAACAAATTTGGAGAAATAAAAATATCTAAAAAAAAAAA\u001b[1;35mTCCCTCTCCCATCCATCCCCTCAACTTATTCCAACATCCTTTGCCAACCCC\u001b[0m\n",
       "\u001b[1;35mTCCCCATCTATCCTCAAACCTCCCA\u001b[0m\n"
      ]
     },
     "metadata": {},
     "output_type": "display_data"
    },
    {
     "data": {
      "text/html": [
       "<pre style=\"white-space:pre;overflow-x:auto;line-height:normal;font-family:Menlo,'DejaVu Sans Mono',consolas,'Courier New',monospace\">GGAGTCAAGCCGGTTCCCGGCCCAGTCCCGTCCTGCAGCAGTCTGCCCACCAACATGACAGATGCCGCTGTGTCCTTCGCCAAGGACTACGAGCAGGTGGAGTGGCCGCAGCCAT\n",
       "CTCCAAGACGGCGGTAGCGCCCAACCGAGCAGGTCAGGTAGCTGCTGCAGGTGCAGCATCTGGCCAGCAAGCAGATCACTGCAGATAAGCAATACAAAGGCATTATGGACTGCGT\n",
       "GGTCCGTATTCCCAAGGAGCAGGAGTTTGTCCTTCTGGCGCGGTAACCTGGCCAATGTCATCAGATACTTCCCCACCCAGGCTCTTAACTTCGCCTTCAAAGATAAATACAAGCA\n",
       "GATTTCCTGGGTGGTGTGGACAAGAGAACCCAGTTTTGGCTCTACTCTGCAAGAAATCTGGCATCAGGTAGTGCCGCAGGGGCCACATCCCTGTGTTTTGTGTACCCCTTTTGAT\n",
       "TTTGCCCGTACCCGTCTAGCAGCTGATGTGGGTAAAGCTGGAGCTGAAAAGGGAATTCCGAGGCCTCGGTGACTGCCTGGTTAAGATTCTACAATTTGATGGGATTAAGGGCCTG\n",
       "TACCAAGGCTTTAACGTGTCTGTGCAGGGTATTATCATACCGGCCGCCTACTTCGGTATCTATGACACTGCAAAGGGAATGTTTCCGGATCCCAAGAACACTTCGTCATCAGCTA\n",
       "TGGATGATCGCACAGACTGTCACTGCTGTTGCCGGGTTGACTTCCGTTCCATATTGACACTGTTCGCCGCCAATGATGATGCAGTCAGGGCGCAAAGGAACTGACATCATGTCTA\n",
       "CAGGCACGCTTGACTGCTGGCGGAAGATTGCTCTGATGAAGGAGGCAAAAAAGCTTTTTTGAGTGCGTGGTCCAATCTCAGAGGCATGGGTGGTGCTTTTGTAACAATCTGTCTT\n",
       "GTATGATGAAATCAAGAAGTACACATAAGTTATTCCTAGGATTTTTCCCCCTGTGAACAGGGCATGTTGTATTATATAACATATCTTGAGCATTTCTTGACAGACTCCTGGCTGT\n",
       "CAGTTTCAGTGGCAACTATTTACTGGTTGAAAATGGGAAGCAGTTATAATATTCATTTGACCAGTTTTCTTTTAAAGCCATTTCCATGATGATGATGATGGGACTCAATTGTATT\n",
       "TTTTATTTTCAGTCACTCCTGATAATAACAAATTTGGAGAAATAAAAATATCTAAAAAAAAAAA<span style=\"color: #800080; text-decoration-color: #800080; font-weight: bold\">TCCCTCTCCCATCCATCCCCTCAACTTATTCCAACATCCTTTGCCAACCCC</span>\n",
       "<span style=\"color: #800080; text-decoration-color: #800080; font-weight: bold\">TCCCCATCTATCCTCAAACCTCCCA</span>\n",
       "</pre>\n"
      ],
      "text/plain": [
       "GGAGTCAAGCCGGTTCCCGGCCCAGTCCCGTCCTGCAGCAGTCTGCCCACCAACATGACAGATGCCGCTGTGTCCTTCGCCAAGGACTACGAGCAGGTGGAGTGGCCGCAGCCAT\n",
       "CTCCAAGACGGCGGTAGCGCCCAACCGAGCAGGTCAGGTAGCTGCTGCAGGTGCAGCATCTGGCCAGCAAGCAGATCACTGCAGATAAGCAATACAAAGGCATTATGGACTGCGT\n",
       "GGTCCGTATTCCCAAGGAGCAGGAGTTTGTCCTTCTGGCGCGGTAACCTGGCCAATGTCATCAGATACTTCCCCACCCAGGCTCTTAACTTCGCCTTCAAAGATAAATACAAGCA\n",
       "GATTTCCTGGGTGGTGTGGACAAGAGAACCCAGTTTTGGCTCTACTCTGCAAGAAATCTGGCATCAGGTAGTGCCGCAGGGGCCACATCCCTGTGTTTTGTGTACCCCTTTTGAT\n",
       "TTTGCCCGTACCCGTCTAGCAGCTGATGTGGGTAAAGCTGGAGCTGAAAAGGGAATTCCGAGGCCTCGGTGACTGCCTGGTTAAGATTCTACAATTTGATGGGATTAAGGGCCTG\n",
       "TACCAAGGCTTTAACGTGTCTGTGCAGGGTATTATCATACCGGCCGCCTACTTCGGTATCTATGACACTGCAAAGGGAATGTTTCCGGATCCCAAGAACACTTCGTCATCAGCTA\n",
       "TGGATGATCGCACAGACTGTCACTGCTGTTGCCGGGTTGACTTCCGTTCCATATTGACACTGTTCGCCGCCAATGATGATGCAGTCAGGGCGCAAAGGAACTGACATCATGTCTA\n",
       "CAGGCACGCTTGACTGCTGGCGGAAGATTGCTCTGATGAAGGAGGCAAAAAAGCTTTTTTGAGTGCGTGGTCCAATCTCAGAGGCATGGGTGGTGCTTTTGTAACAATCTGTCTT\n",
       "GTATGATGAAATCAAGAAGTACACATAAGTTATTCCTAGGATTTTTCCCCCTGTGAACAGGGCATGTTGTATTATATAACATATCTTGAGCATTTCTTGACAGACTCCTGGCTGT\n",
       "CAGTTTCAGTGGCAACTATTTACTGGTTGAAAATGGGAAGCAGTTATAATATTCATTTGACCAGTTTTCTTTTAAAGCCATTTCCATGATGATGATGATGGGACTCAATTGTATT\n",
       "TTTTATTTTCAGTCACTCCTGATAATAACAAATTTGGAGAAATAAAAATATCTAAAAAAAAAAA\u001b[1;35mTCCCTCTCCCATCCATCCCCTCAACTTATTCCAACATCCTTTGCCAACCCC\u001b[0m\n",
       "\u001b[1;35mTCCCCATCTATCCTCAAACCTCCCA\u001b[0m\n"
      ]
     },
     "metadata": {},
     "output_type": "display_data"
    },
    {
     "name": "stdout",
     "output_type": "stream",
     "text": [
      "id      : 039f550a-1e06-468c-a0e0-ce2a90801bfb\n",
      "original: []\n",
      "smooth  : []\n"
     ]
    },
    {
     "data": {
      "text/html": [
       "<pre style=\"white-space:pre;overflow-x:auto;line-height:normal;font-family:Menlo,'DejaVu Sans Mono',consolas,'Courier New',monospace\">TTTGCTCGGTGAGTGCCCTCTGTGCTTTTTGTGGCCAAACCCAGCCACGCAGTTCCCCTTCCTGCGGCGTCCTCCACACCCGGGGTCTAATGGTCTCCGCGGATGTCACAGGCTC\n",
       "GGCAACCGCCCTCCTGTCGGCGGGGAGTCCCGCGACGCCCCGGAAATGCTCCGAAGCCTGTCGCCCAGCTGCCAGATCTGCGTCTGTGTCCGGTTCCGTCACTGAGGTCGCCCCT\n",
       "GTCCGGCCCTCCACCCTGTCTCTTCACCGTCCGCCCATCCTATCGCGCGGCCTCAGGTCCCGATTCGGCATGTGGCTTGTCTCCTCCTCTGTCCCCACCCTCGCCCCTCTGGCCC\n",
       "CTCAGGGCAGCCCTGGGACTCAGCAGACGCCAGTCCTCCCCTGAGATGCCACCCATCCTCCCCTCCGCCAGGCCCCTACGTCTCCGCAAACCCCCACGCTTCGGGGGTGGCCGCC\n",
       "TTCAGACAGGCACCCTGAGTCCCGAGCTGGGGTAGGGGACCTGCCCGATCCTGTAACATTACCTCGTGCTTGCACAATCGCCTCCCACTAGCGGTGACTGTTTGGGTGTTTACCT\n",
       "TCCACCCCGCATGATGGTCCCACTGAGAAGCGGACTCTTCCTTGGCAGGGGCTTCTCACTTTTGCCTCGCTGTAGATGTCAGA\n",
       "</pre>\n"
      ],
      "text/plain": [
       "TTTGCTCGGTGAGTGCCCTCTGTGCTTTTTGTGGCCAAACCCAGCCACGCAGTTCCCCTTCCTGCGGCGTCCTCCACACCCGGGGTCTAATGGTCTCCGCGGATGTCACAGGCTC\n",
       "GGCAACCGCCCTCCTGTCGGCGGGGAGTCCCGCGACGCCCCGGAAATGCTCCGAAGCCTGTCGCCCAGCTGCCAGATCTGCGTCTGTGTCCGGTTCCGTCACTGAGGTCGCCCCT\n",
       "GTCCGGCCCTCCACCCTGTCTCTTCACCGTCCGCCCATCCTATCGCGCGGCCTCAGGTCCCGATTCGGCATGTGGCTTGTCTCCTCCTCTGTCCCCACCCTCGCCCCTCTGGCCC\n",
       "CTCAGGGCAGCCCTGGGACTCAGCAGACGCCAGTCCTCCCCTGAGATGCCACCCATCCTCCCCTCCGCCAGGCCCCTACGTCTCCGCAAACCCCCACGCTTCGGGGGTGGCCGCC\n",
       "TTCAGACAGGCACCCTGAGTCCCGAGCTGGGGTAGGGGACCTGCCCGATCCTGTAACATTACCTCGTGCTTGCACAATCGCCTCCCACTAGCGGTGACTGTTTGGGTGTTTACCT\n",
       "TCCACCCCGCATGATGGTCCCACTGAGAAGCGGACTCTTCCTTGGCAGGGGCTTCTCACTTTTGCCTCGCTGTAGATGTCAGA\n"
      ]
     },
     "metadata": {},
     "output_type": "display_data"
    },
    {
     "data": {
      "text/html": [
       "<pre style=\"white-space:pre;overflow-x:auto;line-height:normal;font-family:Menlo,'DejaVu Sans Mono',consolas,'Courier New',monospace\">TTTGCTCGGTGAGTGCCCTCTGTGCTTTTTGTGGCCAAACCCAGCCACGCAGTTCCCCTTCCTGCGGCGTCCTCCACACCCGGGGTCTAATGGTCTCCGCGGATGTCACAGGCTC\n",
       "GGCAACCGCCCTCCTGTCGGCGGGGAGTCCCGCGACGCCCCGGAAATGCTCCGAAGCCTGTCGCCCAGCTGCCAGATCTGCGTCTGTGTCCGGTTCCGTCACTGAGGTCGCCCCT\n",
       "GTCCGGCCCTCCACCCTGTCTCTTCACCGTCCGCCCATCCTATCGCGCGGCCTCAGGTCCCGATTCGGCATGTGGCTTGTCTCCTCCTCTGTCCCCACCCTCGCCCCTCTGGCCC\n",
       "CTCAGGGCAGCCCTGGGACTCAGCAGACGCCAGTCCTCCCCTGAGATGCCACCCATCCTCCCCTCCGCCAGGCCCCTACGTCTCCGCAAACCCCCACGCTTCGGGGGTGGCCGCC\n",
       "TTCAGACAGGCACCCTGAGTCCCGAGCTGGGGTAGGGGACCTGCCCGATCCTGTAACATTACCTCGTGCTTGCACAATCGCCTCCCACTAGCGGTGACTGTTTGGGTGTTTACCT\n",
       "TCCACCCCGCATGATGGTCCCACTGAGAAGCGGACTCTTCCTTGGCAGGGGCTTCTCACTTTTGCCTCGCTGTAGATGTCAGA\n",
       "</pre>\n"
      ],
      "text/plain": [
       "TTTGCTCGGTGAGTGCCCTCTGTGCTTTTTGTGGCCAAACCCAGCCACGCAGTTCCCCTTCCTGCGGCGTCCTCCACACCCGGGGTCTAATGGTCTCCGCGGATGTCACAGGCTC\n",
       "GGCAACCGCCCTCCTGTCGGCGGGGAGTCCCGCGACGCCCCGGAAATGCTCCGAAGCCTGTCGCCCAGCTGCCAGATCTGCGTCTGTGTCCGGTTCCGTCACTGAGGTCGCCCCT\n",
       "GTCCGGCCCTCCACCCTGTCTCTTCACCGTCCGCCCATCCTATCGCGCGGCCTCAGGTCCCGATTCGGCATGTGGCTTGTCTCCTCCTCTGTCCCCACCCTCGCCCCTCTGGCCC\n",
       "CTCAGGGCAGCCCTGGGACTCAGCAGACGCCAGTCCTCCCCTGAGATGCCACCCATCCTCCCCTCCGCCAGGCCCCTACGTCTCCGCAAACCCCCACGCTTCGGGGGTGGCCGCC\n",
       "TTCAGACAGGCACCCTGAGTCCCGAGCTGGGGTAGGGGACCTGCCCGATCCTGTAACATTACCTCGTGCTTGCACAATCGCCTCCCACTAGCGGTGACTGTTTGGGTGTTTACCT\n",
       "TCCACCCCGCATGATGGTCCCACTGAGAAGCGGACTCTTCCTTGGCAGGGGCTTCTCACTTTTGCCTCGCTGTAGATGTCAGA\n"
      ]
     },
     "metadata": {},
     "output_type": "display_data"
    },
    {
     "name": "stdout",
     "output_type": "stream",
     "text": [
      "id      : 0969fbb6-ade1-45df-a1b1-601815b24afd\n",
      "original: [(847, 920)]\n",
      "smooth  : [(847, 920)]\n"
     ]
    },
    {
     "data": {
      "text/html": [
       "<pre style=\"white-space:pre;overflow-x:auto;line-height:normal;font-family:Menlo,'DejaVu Sans Mono',consolas,'Courier New',monospace\">AAGGCAGGGGAAGACACAGGCCGGGCGGAATGAAGATGATGGTGGTCTGCTCATGCTGTCCACCGCTTCAGCCTGACCTGGGCCTCATGAGGCCATCATCACCAGGCAATACCTG\n",
       "GACTCTGTGCCCTTGCCACCCTGCCAGGAGCAACAGCCAAAGGCTAGTGCCGATAGCTAGACCACAAGGCCTGCTACCTGTGCCACAGCTTGCGGTATGCTGGCCGGGGTGGTTG\n",
       "TTAGCTGCCAGGACATCAACACCAGACCAGTGGGCGAGCTTGCAGCTGCTGTGCATGCAGTTGGACCGCCATCAGCACGCAGATCCGGGAGAGCCCCAGGCCATGCACCGCACCA\n",
       "TGCTCAAGGACCTGAAAACCCAGACCTACCGTTGGCAGGAGCTGCTGACCCACTGCCAGCCCCAGGCCCCAGTATTTCAGCCCCTAGAAAGACATCAAAGGGACAGGGTCAGGGC\n",
       "AGCCCCAGGGCTCCTGGCTCTCAGCAGGAAGTGAACAGGCTCAGGGAACTGGAGGAAGCGAAGCATCAAGGCCAGAGGAGGCCACATGCTGACCACAGCCTGATGAGGCAAGAGC\n",
       "CTGCCCCTGCCACCGCCCCGACCCCTCTCTCTGCAAGAGCCTGCCTCTGCCACCGCCCCGACCCCCCCACCTTACCAGCTGGGATGGGCCTCTCTGCCTCGCCCACCCCTCAGCC\n",
       "CTCCTCCCAGCCATCTCCTCTTCCCTAAGGCCTCTGTCTCCATAGCTTGGTTTCCCTGGGCCTCAGTCCTCCCCACCCTTCCACCTCTGTCCTTTTCCCTGTCACTAATGTGAGG\n",
       "TTTCTTTGTGCACACTTAGTTTTCTTCAGCATCAAAAAAAAA<span style=\"color: #800080; text-decoration-color: #800080; font-weight: bold\">CCCTCCCATCCCCCTCTTATTTCATCATCCATATCACAACCTATCCCACCATACACTTGTCTTCCTAATTCCC</span>\n",
       "</pre>\n"
      ],
      "text/plain": [
       "AAGGCAGGGGAAGACACAGGCCGGGCGGAATGAAGATGATGGTGGTCTGCTCATGCTGTCCACCGCTTCAGCCTGACCTGGGCCTCATGAGGCCATCATCACCAGGCAATACCTG\n",
       "GACTCTGTGCCCTTGCCACCCTGCCAGGAGCAACAGCCAAAGGCTAGTGCCGATAGCTAGACCACAAGGCCTGCTACCTGTGCCACAGCTTGCGGTATGCTGGCCGGGGTGGTTG\n",
       "TTAGCTGCCAGGACATCAACACCAGACCAGTGGGCGAGCTTGCAGCTGCTGTGCATGCAGTTGGACCGCCATCAGCACGCAGATCCGGGAGAGCCCCAGGCCATGCACCGCACCA\n",
       "TGCTCAAGGACCTGAAAACCCAGACCTACCGTTGGCAGGAGCTGCTGACCCACTGCCAGCCCCAGGCCCCAGTATTTCAGCCCCTAGAAAGACATCAAAGGGACAGGGTCAGGGC\n",
       "AGCCCCAGGGCTCCTGGCTCTCAGCAGGAAGTGAACAGGCTCAGGGAACTGGAGGAAGCGAAGCATCAAGGCCAGAGGAGGCCACATGCTGACCACAGCCTGATGAGGCAAGAGC\n",
       "CTGCCCCTGCCACCGCCCCGACCCCTCTCTCTGCAAGAGCCTGCCTCTGCCACCGCCCCGACCCCCCCACCTTACCAGCTGGGATGGGCCTCTCTGCCTCGCCCACCCCTCAGCC\n",
       "CTCCTCCCAGCCATCTCCTCTTCCCTAAGGCCTCTGTCTCCATAGCTTGGTTTCCCTGGGCCTCAGTCCTCCCCACCCTTCCACCTCTGTCCTTTTCCCTGTCACTAATGTGAGG\n",
       "TTTCTTTGTGCACACTTAGTTTTCTTCAGCATCAAAAAAAAA\u001b[1;35mCCCTCCCATCCCCCTCTTATTTCATCATCCATATCACAACCTATCCCACCATACACTTGTCTTCCTAATTCCC\u001b[0m\n"
      ]
     },
     "metadata": {},
     "output_type": "display_data"
    },
    {
     "data": {
      "text/html": [
       "<pre style=\"white-space:pre;overflow-x:auto;line-height:normal;font-family:Menlo,'DejaVu Sans Mono',consolas,'Courier New',monospace\">AAGGCAGGGGAAGACACAGGCCGGGCGGAATGAAGATGATGGTGGTCTGCTCATGCTGTCCACCGCTTCAGCCTGACCTGGGCCTCATGAGGCCATCATCACCAGGCAATACCTG\n",
       "GACTCTGTGCCCTTGCCACCCTGCCAGGAGCAACAGCCAAAGGCTAGTGCCGATAGCTAGACCACAAGGCCTGCTACCTGTGCCACAGCTTGCGGTATGCTGGCCGGGGTGGTTG\n",
       "TTAGCTGCCAGGACATCAACACCAGACCAGTGGGCGAGCTTGCAGCTGCTGTGCATGCAGTTGGACCGCCATCAGCACGCAGATCCGGGAGAGCCCCAGGCCATGCACCGCACCA\n",
       "TGCTCAAGGACCTGAAAACCCAGACCTACCGTTGGCAGGAGCTGCTGACCCACTGCCAGCCCCAGGCCCCAGTATTTCAGCCCCTAGAAAGACATCAAAGGGACAGGGTCAGGGC\n",
       "AGCCCCAGGGCTCCTGGCTCTCAGCAGGAAGTGAACAGGCTCAGGGAACTGGAGGAAGCGAAGCATCAAGGCCAGAGGAGGCCACATGCTGACCACAGCCTGATGAGGCAAGAGC\n",
       "CTGCCCCTGCCACCGCCCCGACCCCTCTCTCTGCAAGAGCCTGCCTCTGCCACCGCCCCGACCCCCCCACCTTACCAGCTGGGATGGGCCTCTCTGCCTCGCCCACCCCTCAGCC\n",
       "CTCCTCCCAGCCATCTCCTCTTCCCTAAGGCCTCTGTCTCCATAGCTTGGTTTCCCTGGGCCTCAGTCCTCCCCACCCTTCCACCTCTGTCCTTTTCCCTGTCACTAATGTGAGG\n",
       "TTTCTTTGTGCACACTTAGTTTTCTTCAGCATCAAAAAAAAA<span style=\"color: #800080; text-decoration-color: #800080; font-weight: bold\">CCCTCCCATCCCCCTCTTATTTCATCATCCATATCACAACCTATCCCACCATACACTTGTCTTCCTAATTCCC</span>\n",
       "</pre>\n"
      ],
      "text/plain": [
       "AAGGCAGGGGAAGACACAGGCCGGGCGGAATGAAGATGATGGTGGTCTGCTCATGCTGTCCACCGCTTCAGCCTGACCTGGGCCTCATGAGGCCATCATCACCAGGCAATACCTG\n",
       "GACTCTGTGCCCTTGCCACCCTGCCAGGAGCAACAGCCAAAGGCTAGTGCCGATAGCTAGACCACAAGGCCTGCTACCTGTGCCACAGCTTGCGGTATGCTGGCCGGGGTGGTTG\n",
       "TTAGCTGCCAGGACATCAACACCAGACCAGTGGGCGAGCTTGCAGCTGCTGTGCATGCAGTTGGACCGCCATCAGCACGCAGATCCGGGAGAGCCCCAGGCCATGCACCGCACCA\n",
       "TGCTCAAGGACCTGAAAACCCAGACCTACCGTTGGCAGGAGCTGCTGACCCACTGCCAGCCCCAGGCCCCAGTATTTCAGCCCCTAGAAAGACATCAAAGGGACAGGGTCAGGGC\n",
       "AGCCCCAGGGCTCCTGGCTCTCAGCAGGAAGTGAACAGGCTCAGGGAACTGGAGGAAGCGAAGCATCAAGGCCAGAGGAGGCCACATGCTGACCACAGCCTGATGAGGCAAGAGC\n",
       "CTGCCCCTGCCACCGCCCCGACCCCTCTCTCTGCAAGAGCCTGCCTCTGCCACCGCCCCGACCCCCCCACCTTACCAGCTGGGATGGGCCTCTCTGCCTCGCCCACCCCTCAGCC\n",
       "CTCCTCCCAGCCATCTCCTCTTCCCTAAGGCCTCTGTCTCCATAGCTTGGTTTCCCTGGGCCTCAGTCCTCCCCACCCTTCCACCTCTGTCCTTTTCCCTGTCACTAATGTGAGG\n",
       "TTTCTTTGTGCACACTTAGTTTTCTTCAGCATCAAAAAAAAA\u001b[1;35mCCCTCCCATCCCCCTCTTATTTCATCATCCATATCACAACCTATCCCACCATACACTTGTCTTCCTAATTCCC\u001b[0m\n"
      ]
     },
     "metadata": {},
     "output_type": "display_data"
    },
    {
     "name": "stdout",
     "output_type": "stream",
     "text": [
      "id      : d5cbcdc5-787f-419f-a86a-b0ee8d829c46\n",
      "original: [(784, 855)]\n",
      "smooth  : [(784, 855)]\n"
     ]
    },
    {
     "data": {
      "text/html": [
       "<pre style=\"white-space:pre;overflow-x:auto;line-height:normal;font-family:Menlo,'DejaVu Sans Mono',consolas,'Courier New',monospace\">AGCCGCGGTCCGGACGGCAGCGCGTGCCCCGAGCTCTCCGCCCTCCCCCGCCCGCCAGCCGAGGCAGCTCGAGCCCAGTCCGCAGCCCCAGCAGCAGCGCCGAGAGCAGCCCCAG\n",
       "TAGCAGCGCCATGGCCGGGTGGAACGCCTACATCGACAACCTCATGGCGGACGGGACCTGTCAGGACGCGGCCATCGTGGGCTACAAGGACTTTGCCCTCCGTCTGGGCCGCCGT\n",
       "CCCCGGGAAACCGTCAACATCACGCCAGCTGAGGTGGGTGTCCTGGTTGGCAAAGACCGGTCAAGTTTTTACGTGAATGGGCTGACACTTGGGGGCCAGAAATGTTCGGTGATCC\n",
       "AGGACATTGTTGCAGGATGGGGAATTTAGCATATGGATCTTCGTCTGAGAGCACCGGTGGGGCCCCCACCTCTTTCCACAATGTCACTGTCTTAGACTGACAAGACGCTAGTCCT\n",
       "GCTGATGGGCAAAGAAGGTGTCCACGGTGGTTTGATCAACAAGAAATGTTATGAAATGGCCTCCCACCTTCGGCGTTCCCAGTCTACTGACCTCGTCTGTCCCTTCCCCTTTCAC\n",
       "CGCTCTCCCACAGCTTTGCCTCTCCTCCCCATCTCCACACAAACCATTTATCACTGGCCATTCCCCATACCCCTTATTAATTGCCATCACATGGGCTGGGGGCCAGGGCTGGATG\n",
       "GACAGACACCTCCCCTACCCCATATCCCCCGTGTGTGGTTGGAAAACTTTGTTTTTTGGGGTTTTTTTTCTGAATAAAAAAGATTCTACTAAAA<span style=\"color: #800080; text-decoration-color: #800080; font-weight: bold\">TTCCATCCATAGCCCACCTCT</span>\n",
       "<span style=\"color: #800080; text-decoration-color: #800080; font-weight: bold\">ATTATATTATCTACCATCCCCACCAACCCACCATCCATCCTCAAACTCCC</span>\n",
       "</pre>\n"
      ],
      "text/plain": [
       "AGCCGCGGTCCGGACGGCAGCGCGTGCCCCGAGCTCTCCGCCCTCCCCCGCCCGCCAGCCGAGGCAGCTCGAGCCCAGTCCGCAGCCCCAGCAGCAGCGCCGAGAGCAGCCCCAG\n",
       "TAGCAGCGCCATGGCCGGGTGGAACGCCTACATCGACAACCTCATGGCGGACGGGACCTGTCAGGACGCGGCCATCGTGGGCTACAAGGACTTTGCCCTCCGTCTGGGCCGCCGT\n",
       "CCCCGGGAAACCGTCAACATCACGCCAGCTGAGGTGGGTGTCCTGGTTGGCAAAGACCGGTCAAGTTTTTACGTGAATGGGCTGACACTTGGGGGCCAGAAATGTTCGGTGATCC\n",
       "AGGACATTGTTGCAGGATGGGGAATTTAGCATATGGATCTTCGTCTGAGAGCACCGGTGGGGCCCCCACCTCTTTCCACAATGTCACTGTCTTAGACTGACAAGACGCTAGTCCT\n",
       "GCTGATGGGCAAAGAAGGTGTCCACGGTGGTTTGATCAACAAGAAATGTTATGAAATGGCCTCCCACCTTCGGCGTTCCCAGTCTACTGACCTCGTCTGTCCCTTCCCCTTTCAC\n",
       "CGCTCTCCCACAGCTTTGCCTCTCCTCCCCATCTCCACACAAACCATTTATCACTGGCCATTCCCCATACCCCTTATTAATTGCCATCACATGGGCTGGGGGCCAGGGCTGGATG\n",
       "GACAGACACCTCCCCTACCCCATATCCCCCGTGTGTGGTTGGAAAACTTTGTTTTTTGGGGTTTTTTTTCTGAATAAAAAAGATTCTACTAAAA\u001b[1;35mTTCCATCCATAGCCCACCTCT\u001b[0m\n",
       "\u001b[1;35mATTATATTATCTACCATCCCCACCAACCCACCATCCATCCTCAAACTCCC\u001b[0m\n"
      ]
     },
     "metadata": {},
     "output_type": "display_data"
    },
    {
     "data": {
      "text/html": [
       "<pre style=\"white-space:pre;overflow-x:auto;line-height:normal;font-family:Menlo,'DejaVu Sans Mono',consolas,'Courier New',monospace\">AGCCGCGGTCCGGACGGCAGCGCGTGCCCCGAGCTCTCCGCCCTCCCCCGCCCGCCAGCCGAGGCAGCTCGAGCCCAGTCCGCAGCCCCAGCAGCAGCGCCGAGAGCAGCCCCAG\n",
       "TAGCAGCGCCATGGCCGGGTGGAACGCCTACATCGACAACCTCATGGCGGACGGGACCTGTCAGGACGCGGCCATCGTGGGCTACAAGGACTTTGCCCTCCGTCTGGGCCGCCGT\n",
       "CCCCGGGAAACCGTCAACATCACGCCAGCTGAGGTGGGTGTCCTGGTTGGCAAAGACCGGTCAAGTTTTTACGTGAATGGGCTGACACTTGGGGGCCAGAAATGTTCGGTGATCC\n",
       "AGGACATTGTTGCAGGATGGGGAATTTAGCATATGGATCTTCGTCTGAGAGCACCGGTGGGGCCCCCACCTCTTTCCACAATGTCACTGTCTTAGACTGACAAGACGCTAGTCCT\n",
       "GCTGATGGGCAAAGAAGGTGTCCACGGTGGTTTGATCAACAAGAAATGTTATGAAATGGCCTCCCACCTTCGGCGTTCCCAGTCTACTGACCTCGTCTGTCCCTTCCCCTTTCAC\n",
       "CGCTCTCCCACAGCTTTGCCTCTCCTCCCCATCTCCACACAAACCATTTATCACTGGCCATTCCCCATACCCCTTATTAATTGCCATCACATGGGCTGGGGGCCAGGGCTGGATG\n",
       "GACAGACACCTCCCCTACCCCATATCCCCCGTGTGTGGTTGGAAAACTTTGTTTTTTGGGGTTTTTTTTCTGAATAAAAAAGATTCTACTAAAA<span style=\"color: #800080; text-decoration-color: #800080; font-weight: bold\">TTCCATCCATAGCCCACCTCT</span>\n",
       "<span style=\"color: #800080; text-decoration-color: #800080; font-weight: bold\">ATTATATTATCTACCATCCCCACCAACCCACCATCCATCCTCAAACTCCC</span>\n",
       "</pre>\n"
      ],
      "text/plain": [
       "AGCCGCGGTCCGGACGGCAGCGCGTGCCCCGAGCTCTCCGCCCTCCCCCGCCCGCCAGCCGAGGCAGCTCGAGCCCAGTCCGCAGCCCCAGCAGCAGCGCCGAGAGCAGCCCCAG\n",
       "TAGCAGCGCCATGGCCGGGTGGAACGCCTACATCGACAACCTCATGGCGGACGGGACCTGTCAGGACGCGGCCATCGTGGGCTACAAGGACTTTGCCCTCCGTCTGGGCCGCCGT\n",
       "CCCCGGGAAACCGTCAACATCACGCCAGCTGAGGTGGGTGTCCTGGTTGGCAAAGACCGGTCAAGTTTTTACGTGAATGGGCTGACACTTGGGGGCCAGAAATGTTCGGTGATCC\n",
       "AGGACATTGTTGCAGGATGGGGAATTTAGCATATGGATCTTCGTCTGAGAGCACCGGTGGGGCCCCCACCTCTTTCCACAATGTCACTGTCTTAGACTGACAAGACGCTAGTCCT\n",
       "GCTGATGGGCAAAGAAGGTGTCCACGGTGGTTTGATCAACAAGAAATGTTATGAAATGGCCTCCCACCTTCGGCGTTCCCAGTCTACTGACCTCGTCTGTCCCTTCCCCTTTCAC\n",
       "CGCTCTCCCACAGCTTTGCCTCTCCTCCCCATCTCCACACAAACCATTTATCACTGGCCATTCCCCATACCCCTTATTAATTGCCATCACATGGGCTGGGGGCCAGGGCTGGATG\n",
       "GACAGACACCTCCCCTACCCCATATCCCCCGTGTGTGGTTGGAAAACTTTGTTTTTTGGGGTTTTTTTTCTGAATAAAAAAGATTCTACTAAAA\u001b[1;35mTTCCATCCATAGCCCACCTCT\u001b[0m\n",
       "\u001b[1;35mATTATATTATCTACCATCCCCACCAACCCACCATCCATCCTCAAACTCCC\u001b[0m\n"
      ]
     },
     "metadata": {},
     "output_type": "display_data"
    },
    {
     "name": "stdout",
     "output_type": "stream",
     "text": [
      "id      : d6007987-549c-4941-ad5e-bd9496442be0\n",
      "original: [(845, 847), (848, 849), (854, 888)]\n",
      "smooth  : [(851, 888)]\n"
     ]
    },
    {
     "data": {
      "text/html": [
       "<pre style=\"white-space:pre;overflow-x:auto;line-height:normal;font-family:Menlo,'DejaVu Sans Mono',consolas,'Courier New',monospace\">GGCGTTTGTTTGGTGGGGTTACAGGTCATCGCGTAAGTGATATCTTCTGTCTAGGCCCATCCTGGACACGGCATGATGTTCGTCCGCAACGTTGCAAGGTGTTCAGATTTTGCAA\n",
       "ATCTAAATGTCAAAAACTTTAAAAAGAAGCGCAATCATAAAGTTAGGGGTGGACCAAAGCATTCCGGAAAGCAGCTGGTAAAGAGCTTTACAGTGGATAATTCATACTGAATTTG\n",
       "AAAACGTAGAAATGATCTAACCAAATACCAGCAAGAGCTATGGAATAAAAACTATTGAGCGGTCAGGATTGAAGAAATCAAACAGAAGCGCCAAGCTAAATTTTATAATGAACAG\n",
       "ATTGAAGAAAAATAAAGAGCTCAGAAAGTTCAGGATATCTTTCAAAGAAGTCAAGCAAAACATCCATCTTATCCGAGCCCCTTTGCAAGGCAAAGGAAACAGTTAGAAGAATAGT\n",
       "TCTGTTCAGAGGATGTGGACTTAGAAGATGCCTCCTTAAAAATACCGATATTCCATTCACATGTTTGAAAATGCCCTCTGACTCTGGAACTGCTAAATTAACTTATTTTTACATA\n",
       "AGGTCTACGAATGAAAAGCGATTAAAAGACCACCTGCATTGCCATCACCATGATCAGATTCACGGATGTCAGATTGCACTCCAGTGCTAAAATCCTACTGATAGATGTCTCAGTA\n",
       "AATCCATGAAAATTCAGCAACTATAGAAGTGAATTTGAAGACGCAAAATGGTTGTGCTATTTGGATCTGTGGCCCTAGGCCGGCTAAGGCAACAGTAACTATGGCAAAATACATG\n",
       "GCTAGTGATGTAAATAATATCTCTGCAGTAAAAATTCCAT<span style=\"color: #800080; text-decoration-color: #800080; font-weight: bold\">CT</span>T<span style=\"color: #800080; text-decoration-color: #800080; font-weight: bold\">C</span>TTAAC<span style=\"color: #800080; text-decoration-color: #800080; font-weight: bold\">ATATTTTAACTATTAACCAACTCCTTTTATTCTT</span>\n",
       "</pre>\n"
      ],
      "text/plain": [
       "GGCGTTTGTTTGGTGGGGTTACAGGTCATCGCGTAAGTGATATCTTCTGTCTAGGCCCATCCTGGACACGGCATGATGTTCGTCCGCAACGTTGCAAGGTGTTCAGATTTTGCAA\n",
       "ATCTAAATGTCAAAAACTTTAAAAAGAAGCGCAATCATAAAGTTAGGGGTGGACCAAAGCATTCCGGAAAGCAGCTGGTAAAGAGCTTTACAGTGGATAATTCATACTGAATTTG\n",
       "AAAACGTAGAAATGATCTAACCAAATACCAGCAAGAGCTATGGAATAAAAACTATTGAGCGGTCAGGATTGAAGAAATCAAACAGAAGCGCCAAGCTAAATTTTATAATGAACAG\n",
       "ATTGAAGAAAAATAAAGAGCTCAGAAAGTTCAGGATATCTTTCAAAGAAGTCAAGCAAAACATCCATCTTATCCGAGCCCCTTTGCAAGGCAAAGGAAACAGTTAGAAGAATAGT\n",
       "TCTGTTCAGAGGATGTGGACTTAGAAGATGCCTCCTTAAAAATACCGATATTCCATTCACATGTTTGAAAATGCCCTCTGACTCTGGAACTGCTAAATTAACTTATTTTTACATA\n",
       "AGGTCTACGAATGAAAAGCGATTAAAAGACCACCTGCATTGCCATCACCATGATCAGATTCACGGATGTCAGATTGCACTCCAGTGCTAAAATCCTACTGATAGATGTCTCAGTA\n",
       "AATCCATGAAAATTCAGCAACTATAGAAGTGAATTTGAAGACGCAAAATGGTTGTGCTATTTGGATCTGTGGCCCTAGGCCGGCTAAGGCAACAGTAACTATGGCAAAATACATG\n",
       "GCTAGTGATGTAAATAATATCTCTGCAGTAAAAATTCCAT\u001b[1;35mCT\u001b[0mT\u001b[1;35mC\u001b[0mTTAAC\u001b[1;35mATATTTTAACTATTAACCAACTCCTTTTATTCTT\u001b[0m\n"
      ]
     },
     "metadata": {},
     "output_type": "display_data"
    },
    {
     "data": {
      "text/html": [
       "<pre style=\"white-space:pre;overflow-x:auto;line-height:normal;font-family:Menlo,'DejaVu Sans Mono',consolas,'Courier New',monospace\">GGCGTTTGTTTGGTGGGGTTACAGGTCATCGCGTAAGTGATATCTTCTGTCTAGGCCCATCCTGGACACGGCATGATGTTCGTCCGCAACGTTGCAAGGTGTTCAGATTTTGCAA\n",
       "ATCTAAATGTCAAAAACTTTAAAAAGAAGCGCAATCATAAAGTTAGGGGTGGACCAAAGCATTCCGGAAAGCAGCTGGTAAAGAGCTTTACAGTGGATAATTCATACTGAATTTG\n",
       "AAAACGTAGAAATGATCTAACCAAATACCAGCAAGAGCTATGGAATAAAAACTATTGAGCGGTCAGGATTGAAGAAATCAAACAGAAGCGCCAAGCTAAATTTTATAATGAACAG\n",
       "ATTGAAGAAAAATAAAGAGCTCAGAAAGTTCAGGATATCTTTCAAAGAAGTCAAGCAAAACATCCATCTTATCCGAGCCCCTTTGCAAGGCAAAGGAAACAGTTAGAAGAATAGT\n",
       "TCTGTTCAGAGGATGTGGACTTAGAAGATGCCTCCTTAAAAATACCGATATTCCATTCACATGTTTGAAAATGCCCTCTGACTCTGGAACTGCTAAATTAACTTATTTTTACATA\n",
       "AGGTCTACGAATGAAAAGCGATTAAAAGACCACCTGCATTGCCATCACCATGATCAGATTCACGGATGTCAGATTGCACTCCAGTGCTAAAATCCTACTGATAGATGTCTCAGTA\n",
       "AATCCATGAAAATTCAGCAACTATAGAAGTGAATTTGAAGACGCAAAATGGTTGTGCTATTTGGATCTGTGGCCCTAGGCCGGCTAAGGCAACAGTAACTATGGCAAAATACATG\n",
       "GCTAGTGATGTAAATAATATCTCTGCAGTAAAAATTCCATCTTCTT<span style=\"color: #800080; text-decoration-color: #800080; font-weight: bold\">AACATATTTTAACTATTAACCAACTCCTTTTATTCTT</span>\n",
       "</pre>\n"
      ],
      "text/plain": [
       "GGCGTTTGTTTGGTGGGGTTACAGGTCATCGCGTAAGTGATATCTTCTGTCTAGGCCCATCCTGGACACGGCATGATGTTCGTCCGCAACGTTGCAAGGTGTTCAGATTTTGCAA\n",
       "ATCTAAATGTCAAAAACTTTAAAAAGAAGCGCAATCATAAAGTTAGGGGTGGACCAAAGCATTCCGGAAAGCAGCTGGTAAAGAGCTTTACAGTGGATAATTCATACTGAATTTG\n",
       "AAAACGTAGAAATGATCTAACCAAATACCAGCAAGAGCTATGGAATAAAAACTATTGAGCGGTCAGGATTGAAGAAATCAAACAGAAGCGCCAAGCTAAATTTTATAATGAACAG\n",
       "ATTGAAGAAAAATAAAGAGCTCAGAAAGTTCAGGATATCTTTCAAAGAAGTCAAGCAAAACATCCATCTTATCCGAGCCCCTTTGCAAGGCAAAGGAAACAGTTAGAAGAATAGT\n",
       "TCTGTTCAGAGGATGTGGACTTAGAAGATGCCTCCTTAAAAATACCGATATTCCATTCACATGTTTGAAAATGCCCTCTGACTCTGGAACTGCTAAATTAACTTATTTTTACATA\n",
       "AGGTCTACGAATGAAAAGCGATTAAAAGACCACCTGCATTGCCATCACCATGATCAGATTCACGGATGTCAGATTGCACTCCAGTGCTAAAATCCTACTGATAGATGTCTCAGTA\n",
       "AATCCATGAAAATTCAGCAACTATAGAAGTGAATTTGAAGACGCAAAATGGTTGTGCTATTTGGATCTGTGGCCCTAGGCCGGCTAAGGCAACAGTAACTATGGCAAAATACATG\n",
       "GCTAGTGATGTAAATAATATCTCTGCAGTAAAAATTCCATCTTCTT\u001b[1;35mAACATATTTTAACTATTAACCAACTCCTTTTATTCTT\u001b[0m\n"
      ]
     },
     "metadata": {},
     "output_type": "display_data"
    },
    {
     "name": "stdout",
     "output_type": "stream",
     "text": [
      "id      : 3b938543-54ad-4b76-84ac-a70fc1e8e456\n",
      "original: []\n",
      "smooth  : []\n"
     ]
    },
    {
     "data": {
      "text/html": [
       "<pre style=\"white-space:pre;overflow-x:auto;line-height:normal;font-family:Menlo,'DejaVu Sans Mono',consolas,'Courier New',monospace\">TCCCAGCCCCGCCGCGATGAGCCTCGGCCGCCTTGCCGCCTACTGAAGCCAGCGCTGCTGTGGGGCTCTGGCCGCGCCTGGCCTGGCCGGGACCATGTGTGCGTCCCGGGATGAC\n",
       "TGGCGCTGTGCGCGCTCCATGCACGAGTTTTCCGCCAAAGGACATCGACGGGCACATGGTTAACCTGGACAAGTACCGGGGCTTCGTGTGCATCGTCACCAACGTGGCCTCCCAG\n",
       "TGAGGCAAGACCGAAGTAAACTACACTCAGCTCGTCGACCTGCACGCCCGAT\n",
       "</pre>\n"
      ],
      "text/plain": [
       "TCCCAGCCCCGCCGCGATGAGCCTCGGCCGCCTTGCCGCCTACTGAAGCCAGCGCTGCTGTGGGGCTCTGGCCGCGCCTGGCCTGGCCGGGACCATGTGTGCGTCCCGGGATGAC\n",
       "TGGCGCTGTGCGCGCTCCATGCACGAGTTTTCCGCCAAAGGACATCGACGGGCACATGGTTAACCTGGACAAGTACCGGGGCTTCGTGTGCATCGTCACCAACGTGGCCTCCCAG\n",
       "TGAGGCAAGACCGAAGTAAACTACACTCAGCTCGTCGACCTGCACGCCCGAT\n"
      ]
     },
     "metadata": {},
     "output_type": "display_data"
    },
    {
     "data": {
      "text/html": [
       "<pre style=\"white-space:pre;overflow-x:auto;line-height:normal;font-family:Menlo,'DejaVu Sans Mono',consolas,'Courier New',monospace\">TCCCAGCCCCGCCGCGATGAGCCTCGGCCGCCTTGCCGCCTACTGAAGCCAGCGCTGCTGTGGGGCTCTGGCCGCGCCTGGCCTGGCCGGGACCATGTGTGCGTCCCGGGATGAC\n",
       "TGGCGCTGTGCGCGCTCCATGCACGAGTTTTCCGCCAAAGGACATCGACGGGCACATGGTTAACCTGGACAAGTACCGGGGCTTCGTGTGCATCGTCACCAACGTGGCCTCCCAG\n",
       "TGAGGCAAGACCGAAGTAAACTACACTCAGCTCGTCGACCTGCACGCCCGAT\n",
       "</pre>\n"
      ],
      "text/plain": [
       "TCCCAGCCCCGCCGCGATGAGCCTCGGCCGCCTTGCCGCCTACTGAAGCCAGCGCTGCTGTGGGGCTCTGGCCGCGCCTGGCCTGGCCGGGACCATGTGTGCGTCCCGGGATGAC\n",
       "TGGCGCTGTGCGCGCTCCATGCACGAGTTTTCCGCCAAAGGACATCGACGGGCACATGGTTAACCTGGACAAGTACCGGGGCTTCGTGTGCATCGTCACCAACGTGGCCTCCCAG\n",
       "TGAGGCAAGACCGAAGTAAACTACACTCAGCTCGTCGACCTGCACGCCCGAT\n"
      ]
     },
     "metadata": {},
     "output_type": "display_data"
    },
    {
     "name": "stdout",
     "output_type": "stream",
     "text": [
      "id      : 3af31cd3-98fc-41d1-9c2f-cd40b44f4a6d\n",
      "original: [(519, 597), (604, 605)]\n",
      "smooth  : [(519, 599)]\n"
     ]
    },
    {
     "data": {
      "text/html": [
       "<pre style=\"white-space:pre;overflow-x:auto;line-height:normal;font-family:Menlo,'DejaVu Sans Mono',consolas,'Courier New',monospace\">CGGATCCTGGCCTTCCCGTGTAACCAGTTCGGGAAGCAGGAGCCAGGGAGTAAACGAAGAGATCATTAAAGAGTCGCCGCGGGCTACAACGTCAAATTCGATATGTTCAGCAAGA\n",
       "TCTGCGTGAACGGGGACGACGCCCACCGTGTGGAAGTGGATGAAGATCCAACCAAGGGCAAGGGCATCCTGGGAATGCCATTCAGTGGAACTTCACCAAGTTCCTCATCGACAAC\n",
       "CAGAACGGCTGCGTGGTGAAGCGCTTACGGACCCATGGAGGAGCCCCTGGTGATAGAGAAGGACCTGCCCCCACTATTTAGCTCCAAGTGTGTGGCCCCGCCCGAGCCCCTGCCC\n",
       "ACGCCCCTCGGAGCCTTCCGGCACTCATGACGGCCTGCCTGCAAACCTGCTGGTGGGGGCAGACCCGAATCCAGCGTGCACCCCCGCCGGAGGAAGGTCCGGCCTGCTGGGCTTG\n",
       "GCTCGGCGCCCCCACCCCTGGCTACCTTGTGGGAATAAACAGACAAATTAGAAAAAAAA<span style=\"color: #800080; text-decoration-color: #800080; font-weight: bold\">TCCCCCACACCCCCACACCTCTCTGCCCTCCATCCTCATAACCTTCCTCCAACCAC</span>\n",
       "<span style=\"color: #800080; text-decoration-color: #800080; font-weight: bold\">ATGCCCTCCATCCCTTTCCCAC</span>CACCCCC<span style=\"color: #800080; text-decoration-color: #800080; font-weight: bold\">A</span>\n",
       "</pre>\n"
      ],
      "text/plain": [
       "CGGATCCTGGCCTTCCCGTGTAACCAGTTCGGGAAGCAGGAGCCAGGGAGTAAACGAAGAGATCATTAAAGAGTCGCCGCGGGCTACAACGTCAAATTCGATATGTTCAGCAAGA\n",
       "TCTGCGTGAACGGGGACGACGCCCACCGTGTGGAAGTGGATGAAGATCCAACCAAGGGCAAGGGCATCCTGGGAATGCCATTCAGTGGAACTTCACCAAGTTCCTCATCGACAAC\n",
       "CAGAACGGCTGCGTGGTGAAGCGCTTACGGACCCATGGAGGAGCCCCTGGTGATAGAGAAGGACCTGCCCCCACTATTTAGCTCCAAGTGTGTGGCCCCGCCCGAGCCCCTGCCC\n",
       "ACGCCCCTCGGAGCCTTCCGGCACTCATGACGGCCTGCCTGCAAACCTGCTGGTGGGGGCAGACCCGAATCCAGCGTGCACCCCCGCCGGAGGAAGGTCCGGCCTGCTGGGCTTG\n",
       "GCTCGGCGCCCCCACCCCTGGCTACCTTGTGGGAATAAACAGACAAATTAGAAAAAAAA\u001b[1;35mTCCCCCACACCCCCACACCTCTCTGCCCTCCATCCTCATAACCTTCCTCCAACCAC\u001b[0m\n",
       "\u001b[1;35mATGCCCTCCATCCCTTTCCCAC\u001b[0mCACCCCC\u001b[1;35mA\u001b[0m\n"
      ]
     },
     "metadata": {},
     "output_type": "display_data"
    },
    {
     "data": {
      "text/html": [
       "<pre style=\"white-space:pre;overflow-x:auto;line-height:normal;font-family:Menlo,'DejaVu Sans Mono',consolas,'Courier New',monospace\">CGGATCCTGGCCTTCCCGTGTAACCAGTTCGGGAAGCAGGAGCCAGGGAGTAAACGAAGAGATCATTAAAGAGTCGCCGCGGGCTACAACGTCAAATTCGATATGTTCAGCAAGA\n",
       "TCTGCGTGAACGGGGACGACGCCCACCGTGTGGAAGTGGATGAAGATCCAACCAAGGGCAAGGGCATCCTGGGAATGCCATTCAGTGGAACTTCACCAAGTTCCTCATCGACAAC\n",
       "CAGAACGGCTGCGTGGTGAAGCGCTTACGGACCCATGGAGGAGCCCCTGGTGATAGAGAAGGACCTGCCCCCACTATTTAGCTCCAAGTGTGTGGCCCCGCCCGAGCCCCTGCCC\n",
       "ACGCCCCTCGGAGCCTTCCGGCACTCATGACGGCCTGCCTGCAAACCTGCTGGTGGGGGCAGACCCGAATCCAGCGTGCACCCCCGCCGGAGGAAGGTCCGGCCTGCTGGGCTTG\n",
       "GCTCGGCGCCCCCACCCCTGGCTACCTTGTGGGAATAAACAGACAAATTAGAAAAAAAA<span style=\"color: #800080; text-decoration-color: #800080; font-weight: bold\">TCCCCCACACCCCCACACCTCTCTGCCCTCCATCCTCATAACCTTCCTCCAACCAC</span>\n",
       "<span style=\"color: #800080; text-decoration-color: #800080; font-weight: bold\">ATGCCCTCCATCCCTTTCCCACCA</span>CCCCCA\n",
       "</pre>\n"
      ],
      "text/plain": [
       "CGGATCCTGGCCTTCCCGTGTAACCAGTTCGGGAAGCAGGAGCCAGGGAGTAAACGAAGAGATCATTAAAGAGTCGCCGCGGGCTACAACGTCAAATTCGATATGTTCAGCAAGA\n",
       "TCTGCGTGAACGGGGACGACGCCCACCGTGTGGAAGTGGATGAAGATCCAACCAAGGGCAAGGGCATCCTGGGAATGCCATTCAGTGGAACTTCACCAAGTTCCTCATCGACAAC\n",
       "CAGAACGGCTGCGTGGTGAAGCGCTTACGGACCCATGGAGGAGCCCCTGGTGATAGAGAAGGACCTGCCCCCACTATTTAGCTCCAAGTGTGTGGCCCCGCCCGAGCCCCTGCCC\n",
       "ACGCCCCTCGGAGCCTTCCGGCACTCATGACGGCCTGCCTGCAAACCTGCTGGTGGGGGCAGACCCGAATCCAGCGTGCACCCCCGCCGGAGGAAGGTCCGGCCTGCTGGGCTTG\n",
       "GCTCGGCGCCCCCACCCCTGGCTACCTTGTGGGAATAAACAGACAAATTAGAAAAAAAA\u001b[1;35mTCCCCCACACCCCCACACCTCTCTGCCCTCCATCCTCATAACCTTCCTCCAACCAC\u001b[0m\n",
       "\u001b[1;35mATGCCCTCCATCCCTTTCCCACCA\u001b[0mCCCCCA\n"
      ]
     },
     "metadata": {},
     "output_type": "display_data"
    }
   ],
   "source": [
    "ss = next(aa)\n",
    "ss.compare_smooth()"
   ]
  },
  {
   "cell_type": "code",
   "execution_count": 51,
   "id": "79be1a1e-97ae-4e95-bacb-9d80d27d56f8",
   "metadata": {},
   "outputs": [],
   "source": [
    "# heyna_prediction = BatchPredict(heyna_data_folder)\n",
    "cnn_prediction = BatchPredict(cnn_data_folder)"
   ]
  },
  {
   "cell_type": "code",
   "execution_count": 222,
   "id": "1cb7eccb-2bce-4e6f-b79c-6e33bac74f2c",
   "metadata": {},
   "outputs": [
    {
     "data": {
      "text/plain": [
       "BatchPredict(batch_size=6)"
      ]
     },
     "execution_count": 222,
     "metadata": {},
     "output_type": "execute_result"
    }
   ],
   "source": [
    "cnn_prediction"
   ]
  },
  {
   "cell_type": "code",
   "execution_count": 149,
   "id": "bebecc9e-d723-44e7-a3d0-6e3c9be8347d",
   "metadata": {},
   "outputs": [],
   "source": [
    "# cnn_prediction.compare_smooth()"
   ]
  },
  {
   "cell_type": "code",
   "execution_count": 150,
   "id": "3db40c91-fffe-432d-8c9d-f74181d2df4e",
   "metadata": {},
   "outputs": [],
   "source": [
    "# cnn_prediction.print_all_seq(smooth=False)"
   ]
  },
  {
   "cell_type": "code",
   "execution_count": 27,
   "id": "9a0e6ed7-23a5-4a5b-9914-b29eaeda14c2",
   "metadata": {
    "scrolled": true
   },
   "outputs": [
    {
     "data": {
      "text/html": [
       "<pre style=\"white-space:pre;overflow-x:auto;line-height:normal;font-family:Menlo,'DejaVu Sans Mono',consolas,'Courier New',monospace\">P:0000000000000000000000000000000000000000000000000000000000000000000000\n",
       "L:0000000000000000000000000000000000000000000000000000000000000000000000\n",
       "</pre>\n"
      ],
      "text/plain": [
       "P:0000000000000000000000000000000000000000000000000000000000000000000000\n",
       "L:0000000000000000000000000000000000000000000000000000000000000000000000\n"
      ]
     },
     "metadata": {},
     "output_type": "display_data"
    },
    {
     "data": {
      "text/html": [
       "<pre style=\"white-space:pre;overflow-x:auto;line-height:normal;font-family:Menlo,'DejaVu Sans Mono',consolas,'Courier New',monospace\">P:0000000000000000000000000000000000000000000000000000000000000000000000\n",
       "L:0000000000000000000000000000000000000000000000000000000000000000000000\n",
       "</pre>\n"
      ],
      "text/plain": [
       "P:0000000000000000000000000000000000000000000000000000000000000000000000\n",
       "L:0000000000000000000000000000000000000000000000000000000000000000000000\n"
      ]
     },
     "metadata": {},
     "output_type": "display_data"
    },
    {
     "data": {
      "text/html": [
       "<pre style=\"white-space:pre;overflow-x:auto;line-height:normal;font-family:Menlo,'DejaVu Sans Mono',consolas,'Courier New',monospace\">P:0000000000000000000000000000000000000000000000000000000000000000000000\n",
       "L:0000000000000000000000000000000000000000000000000000000000000000000000\n",
       "</pre>\n"
      ],
      "text/plain": [
       "P:0000000000000000000000000000000000000000000000000000000000000000000000\n",
       "L:0000000000000000000000000000000000000000000000000000000000000000000000\n"
      ]
     },
     "metadata": {},
     "output_type": "display_data"
    },
    {
     "data": {
      "text/html": [
       "<pre style=\"white-space:pre;overflow-x:auto;line-height:normal;font-family:Menlo,'DejaVu Sans Mono',consolas,'Courier New',monospace\">P:0000000000000000000000000000000000000000000000000000000000000000000000\n",
       "L:0000000000000000000000000000000000000000000000000000000000000000000000\n",
       "</pre>\n"
      ],
      "text/plain": [
       "P:0000000000000000000000000000000000000000000000000000000000000000000000\n",
       "L:0000000000000000000000000000000000000000000000000000000000000000000000\n"
      ]
     },
     "metadata": {},
     "output_type": "display_data"
    },
    {
     "data": {
      "text/html": [
       "<pre style=\"white-space:pre;overflow-x:auto;line-height:normal;font-family:Menlo,'DejaVu Sans Mono',consolas,'Courier New',monospace\">P:0000000000000000000000000000000000000000000000000000000000000000000000\n",
       "L:0000000000000000000000000000000000000000000000000000000000000000000000\n",
       "</pre>\n"
      ],
      "text/plain": [
       "P:0000000000000000000000000000000000000000000000000000000000000000000000\n",
       "L:0000000000000000000000000000000000000000000000000000000000000000000000\n"
      ]
     },
     "metadata": {},
     "output_type": "display_data"
    },
    {
     "data": {
      "text/html": [
       "<pre style=\"white-space:pre;overflow-x:auto;line-height:normal;font-family:Menlo,'DejaVu Sans Mono',consolas,'Courier New',monospace\">P:0000000000000000000000000000000000000000000000000000000000000000000000\n",
       "L:0000000000000000000000000000000000000000000000000000000000000000000000\n",
       "</pre>\n"
      ],
      "text/plain": [
       "P:0000000000000000000000000000000000000000000000000000000000000000000000\n",
       "L:0000000000000000000000000000000000000000000000000000000000000000000000\n"
      ]
     },
     "metadata": {},
     "output_type": "display_data"
    },
    {
     "data": {
      "text/html": [
       "<pre style=\"white-space:pre;overflow-x:auto;line-height:normal;font-family:Menlo,'DejaVu Sans Mono',consolas,'Courier New',monospace\">P:0000000000000000000000000000000000000000000000000000000000000000000000\n",
       "L:0000000000000000000000000000000000000000000000000000000000000000000000\n",
       "</pre>\n"
      ],
      "text/plain": [
       "P:0000000000000000000000000000000000000000000000000000000000000000000000\n",
       "L:0000000000000000000000000000000000000000000000000000000000000000000000\n"
      ]
     },
     "metadata": {},
     "output_type": "display_data"
    },
    {
     "data": {
      "text/html": [
       "<pre style=\"white-space:pre;overflow-x:auto;line-height:normal;font-family:Menlo,'DejaVu Sans Mono',consolas,'Courier New',monospace\">P:0000000000000000000000000000000000000000000000000000000000000000000000\n",
       "L:0000000000000000000000000000000000000000000000000000000000000000000000\n",
       "</pre>\n"
      ],
      "text/plain": [
       "P:0000000000000000000000000000000000000000000000000000000000000000000000\n",
       "L:0000000000000000000000000000000000000000000000000000000000000000000000\n"
      ]
     },
     "metadata": {},
     "output_type": "display_data"
    },
    {
     "data": {
      "text/html": [
       "<pre style=\"white-space:pre;overflow-x:auto;line-height:normal;font-family:Menlo,'DejaVu Sans Mono',consolas,'Courier New',monospace\">P:0000000000000000000000000000000000000000000000000000000000000000000000\n",
       "L:0000000000000000000000000000000000000000000000000000000000000000000000\n",
       "</pre>\n"
      ],
      "text/plain": [
       "P:0000000000000000000000000000000000000000000000000000000000000000000000\n",
       "L:0000000000000000000000000000000000000000000000000000000000000000000000\n"
      ]
     },
     "metadata": {},
     "output_type": "display_data"
    },
    {
     "data": {
      "text/html": [
       "<pre style=\"white-space:pre;overflow-x:auto;line-height:normal;font-family:Menlo,'DejaVu Sans Mono',consolas,'Courier New',monospace\">P:0000000000000000000000000000000000000000000000000000000000000000000000\n",
       "L:0000000000000000000000000000000000000000000000000000000000000000000000\n",
       "</pre>\n"
      ],
      "text/plain": [
       "P:0000000000000000000000000000000000000000000000000000000000000000000000\n",
       "L:0000000000000000000000000000000000000000000000000000000000000000000000\n"
      ]
     },
     "metadata": {},
     "output_type": "display_data"
    },
    {
     "data": {
      "text/html": [
       "<pre style=\"white-space:pre;overflow-x:auto;line-height:normal;font-family:Menlo,'DejaVu Sans Mono',consolas,'Courier New',monospace\">P:0000000000000000000000000000000000000000000000000000000000000000000000\n",
       "L:0000000000000000000000000000000000000000000000000000000000000000000000\n",
       "</pre>\n"
      ],
      "text/plain": [
       "P:0000000000000000000000000000000000000000000000000000000000000000000000\n",
       "L:0000000000000000000000000000000000000000000000000000000000000000000000\n"
      ]
     },
     "metadata": {},
     "output_type": "display_data"
    },
    {
     "data": {
      "text/html": [
       "<pre style=\"white-space:pre;overflow-x:auto;line-height:normal;font-family:Menlo,'DejaVu Sans Mono',consolas,'Courier New',monospace\">P:0000000000000000000000000000000000000000000000000000000000000000000000\n",
       "L:0000000000000000000000000000000000000000000000000000000000000000000000\n",
       "</pre>\n"
      ],
      "text/plain": [
       "P:0000000000000000000000000000000000000000000000000000000000000000000000\n",
       "L:0000000000000000000000000000000000000000000000000000000000000000000000\n"
      ]
     },
     "metadata": {},
     "output_type": "display_data"
    },
    {
     "data": {
      "text/html": [
       "<pre style=\"white-space:pre;overflow-x:auto;line-height:normal;font-family:Menlo,'DejaVu Sans Mono',consolas,'Courier New',monospace\">P:0000000000000000000000000000000000000000000000000000000000000000000000\n",
       "L:0000000000000000000000000000000000000000000000000000000000000000000000\n",
       "</pre>\n"
      ],
      "text/plain": [
       "P:0000000000000000000000000000000000000000000000000000000000000000000000\n",
       "L:0000000000000000000000000000000000000000000000000000000000000000000000\n"
      ]
     },
     "metadata": {},
     "output_type": "display_data"
    },
    {
     "data": {
      "text/html": [
       "<pre style=\"white-space:pre;overflow-x:auto;line-height:normal;font-family:Menlo,'DejaVu Sans Mono',consolas,'Courier New',monospace\">P:0000000000000000000000000000000000000000000000000000000000000000000000\n",
       "L:0000000000000000000000000000000000000000000000000000000000000000000000\n",
       "</pre>\n"
      ],
      "text/plain": [
       "P:0000000000000000000000000000000000000000000000000000000000000000000000\n",
       "L:0000000000000000000000000000000000000000000000000000000000000000000000\n"
      ]
     },
     "metadata": {},
     "output_type": "display_data"
    },
    {
     "data": {
      "text/html": [
       "<pre style=\"white-space:pre;overflow-x:auto;line-height:normal;font-family:Menlo,'DejaVu Sans Mono',consolas,'Courier New',monospace\">P:0000000000000000000000000000000000000000000000000000000000000000000000\n",
       "L:0000000000000000000000000000000000000000000000000000000000000000000000\n",
       "</pre>\n"
      ],
      "text/plain": [
       "P:0000000000000000000000000000000000000000000000000000000000000000000000\n",
       "L:0000000000000000000000000000000000000000000000000000000000000000000000\n"
      ]
     },
     "metadata": {},
     "output_type": "display_data"
    },
    {
     "data": {
      "text/html": [
       "<pre style=\"white-space:pre;overflow-x:auto;line-height:normal;font-family:Menlo,'DejaVu Sans Mono',consolas,'Courier New',monospace\">P:0000000000000000000000000000000000000000000000000000000000000000000000\n",
       "L:0000000000000000000000000000000000000000000000000000000000000000000000\n",
       "</pre>\n"
      ],
      "text/plain": [
       "P:0000000000000000000000000000000000000000000000000000000000000000000000\n",
       "L:0000000000000000000000000000000000000000000000000000000000000000000000\n"
      ]
     },
     "metadata": {},
     "output_type": "display_data"
    },
    {
     "data": {
      "text/html": [
       "<pre style=\"white-space:pre;overflow-x:auto;line-height:normal;font-family:Menlo,'DejaVu Sans Mono',consolas,'Courier New',monospace\">P:0000000000000000000000000000000000000000000000000000000000000000000000\n",
       "L:0000000000000000000000000000000000000000000000000000000000000000000000\n",
       "</pre>\n"
      ],
      "text/plain": [
       "P:0000000000000000000000000000000000000000000000000000000000000000000000\n",
       "L:0000000000000000000000000000000000000000000000000000000000000000000000\n"
      ]
     },
     "metadata": {},
     "output_type": "display_data"
    },
    {
     "data": {
      "text/html": [
       "<pre style=\"white-space:pre;overflow-x:auto;line-height:normal;font-family:Menlo,'DejaVu Sans Mono',consolas,'Courier New',monospace\">P:0000000000000000000000000000000000000000000000000000000000000000000000\n",
       "L:0000000000000000000000000000000000000000000000000000000000000000000000\n",
       "</pre>\n"
      ],
      "text/plain": [
       "P:0000000000000000000000000000000000000000000000000000000000000000000000\n",
       "L:0000000000000000000000000000000000000000000000000000000000000000000000\n"
      ]
     },
     "metadata": {},
     "output_type": "display_data"
    },
    {
     "data": {
      "text/html": [
       "<pre style=\"white-space:pre;overflow-x:auto;line-height:normal;font-family:Menlo,'DejaVu Sans Mono',consolas,'Courier New',monospace\">P:0000000000000000000000000000000000000000000000000000000000000000000000\n",
       "L:0000000000000000000000000000000000000000000000000000000000000000000000\n",
       "</pre>\n"
      ],
      "text/plain": [
       "P:0000000000000000000000000000000000000000000000000000000000000000000000\n",
       "L:0000000000000000000000000000000000000000000000000000000000000000000000\n"
      ]
     },
     "metadata": {},
     "output_type": "display_data"
    },
    {
     "data": {
      "text/html": [
       "<pre style=\"white-space:pre;overflow-x:auto;line-height:normal;font-family:Menlo,'DejaVu Sans Mono',consolas,'Courier New',monospace\">P:0000000000000000000000000000000000000000000000000000000000000000000000\n",
       "L:0000000000000000000000000000000000000000000000000000000000000000000000\n",
       "</pre>\n"
      ],
      "text/plain": [
       "P:0000000000000000000000000000000000000000000000000000000000000000000000\n",
       "L:0000000000000000000000000000000000000000000000000000000000000000000000\n"
      ]
     },
     "metadata": {},
     "output_type": "display_data"
    },
    {
     "data": {
      "text/html": [
       "<pre style=\"white-space:pre;overflow-x:auto;line-height:normal;font-family:Menlo,'DejaVu Sans Mono',consolas,'Courier New',monospace\">P:0000000000000000000000000000000000000000000000000000000000000000000000\n",
       "L:0000000000000000000000000000000000000000000000000000000000000000000000\n",
       "</pre>\n"
      ],
      "text/plain": [
       "P:0000000000000000000000000000000000000000000000000000000000000000000000\n",
       "L:0000000000000000000000000000000000000000000000000000000000000000000000\n"
      ]
     },
     "metadata": {},
     "output_type": "display_data"
    },
    {
     "data": {
      "text/html": [
       "<pre style=\"white-space:pre;overflow-x:auto;line-height:normal;font-family:Menlo,'DejaVu Sans Mono',consolas,'Courier New',monospace\">P:0000000000000000000000000000000000000000000000000000000000000000000000\n",
       "L:0000000000000000000000000000000000000000000000000000000000000000000000\n",
       "</pre>\n"
      ],
      "text/plain": [
       "P:0000000000000000000000000000000000000000000000000000000000000000000000\n",
       "L:0000000000000000000000000000000000000000000000000000000000000000000000\n"
      ]
     },
     "metadata": {},
     "output_type": "display_data"
    },
    {
     "data": {
      "text/html": [
       "<pre style=\"white-space:pre;overflow-x:auto;line-height:normal;font-family:Menlo,'DejaVu Sans Mono',consolas,'Courier New',monospace\">P:0000000000000000000000000000000000000000000000000000000000000000000000\n",
       "L:0000000000000000000000000000000000000000000000000000000000000000000000\n",
       "</pre>\n"
      ],
      "text/plain": [
       "P:0000000000000000000000000000000000000000000000000000000000000000000000\n",
       "L:0000000000000000000000000000000000000000000000000000000000000000000000\n"
      ]
     },
     "metadata": {},
     "output_type": "display_data"
    },
    {
     "data": {
      "text/html": [
       "<pre style=\"white-space:pre;overflow-x:auto;line-height:normal;font-family:Menlo,'DejaVu Sans Mono',consolas,'Courier New',monospace\">P:0000000000000000000000000000000000000000000000000000000000000000000000\n",
       "L:0000000000000000000000000000000000000000000000000000000000000000000000\n",
       "</pre>\n"
      ],
      "text/plain": [
       "P:0000000000000000000000000000000000000000000000000000000000000000000000\n",
       "L:0000000000000000000000000000000000000000000000000000000000000000000000\n"
      ]
     },
     "metadata": {},
     "output_type": "display_data"
    },
    {
     "data": {
      "text/html": [
       "<pre style=\"white-space:pre;overflow-x:auto;line-height:normal;font-family:Menlo,'DejaVu Sans Mono',consolas,'Courier New',monospace\">P:0000000000000000000000000000000000000000000000000000000000000000000000\n",
       "L:0000000000000000000000000000000000000000000000000000000000000000000000\n",
       "</pre>\n"
      ],
      "text/plain": [
       "P:0000000000000000000000000000000000000000000000000000000000000000000000\n",
       "L:0000000000000000000000000000000000000000000000000000000000000000000000\n"
      ]
     },
     "metadata": {},
     "output_type": "display_data"
    },
    {
     "data": {
      "text/html": [
       "<pre style=\"white-space:pre;overflow-x:auto;line-height:normal;font-family:Menlo,'DejaVu Sans Mono',consolas,'Courier New',monospace\">P:0000000000000000000000000000000000000000000000000000000000000000000000\n",
       "L:0000000000000000000000000000000000000000000000000000000000000000000000\n",
       "</pre>\n"
      ],
      "text/plain": [
       "P:0000000000000000000000000000000000000000000000000000000000000000000000\n",
       "L:0000000000000000000000000000000000000000000000000000000000000000000000\n"
      ]
     },
     "metadata": {},
     "output_type": "display_data"
    },
    {
     "data": {
      "text/html": [
       "<pre style=\"white-space:pre;overflow-x:auto;line-height:normal;font-family:Menlo,'DejaVu Sans Mono',consolas,'Courier New',monospace\">P:0000000000000000000000000000000000000000000000000000000000000000000000\n",
       "L:0000000000000000000000000000000000000000000000000000000000000000000000\n",
       "</pre>\n"
      ],
      "text/plain": [
       "P:0000000000000000000000000000000000000000000000000000000000000000000000\n",
       "L:0000000000000000000000000000000000000000000000000000000000000000000000\n"
      ]
     },
     "metadata": {},
     "output_type": "display_data"
    },
    {
     "data": {
      "text/html": [
       "<pre style=\"white-space:pre;overflow-x:auto;line-height:normal;font-family:Menlo,'DejaVu Sans Mono',consolas,'Courier New',monospace\">P:0000000000000000000000000000000000000000000000000000000000000000000000\n",
       "L:0000000000000000000000000000000000000000000000000000000000000000000000\n",
       "</pre>\n"
      ],
      "text/plain": [
       "P:0000000000000000000000000000000000000000000000000000000000000000000000\n",
       "L:0000000000000000000000000000000000000000000000000000000000000000000000\n"
      ]
     },
     "metadata": {},
     "output_type": "display_data"
    },
    {
     "data": {
      "text/html": [
       "<pre style=\"white-space:pre;overflow-x:auto;line-height:normal;font-family:Menlo,'DejaVu Sans Mono',consolas,'Courier New',monospace\">P:0000000000000000000000000000000000000000000000000000000000000000000000\n",
       "L:0000000000000000000000000000000000000000000000000000000000000000000000\n",
       "</pre>\n"
      ],
      "text/plain": [
       "P:0000000000000000000000000000000000000000000000000000000000000000000000\n",
       "L:0000000000000000000000000000000000000000000000000000000000000000000000\n"
      ]
     },
     "metadata": {},
     "output_type": "display_data"
    },
    {
     "data": {
      "text/html": [
       "<pre style=\"white-space:pre;overflow-x:auto;line-height:normal;font-family:Menlo,'DejaVu Sans Mono',consolas,'Courier New',monospace\">P:0000000000000000000000000000000000000000000000000000000000000000000000\n",
       "L:0000000000000000000000000000000000000000000000000000000000000000000000\n",
       "</pre>\n"
      ],
      "text/plain": [
       "P:0000000000000000000000000000000000000000000000000000000000000000000000\n",
       "L:0000000000000000000000000000000000000000000000000000000000000000000000\n"
      ]
     },
     "metadata": {},
     "output_type": "display_data"
    },
    {
     "data": {
      "text/html": [
       "<pre style=\"white-space:pre;overflow-x:auto;line-height:normal;font-family:Menlo,'DejaVu Sans Mono',consolas,'Courier New',monospace\">P:000000000000000000000000000000<span style=\"color: #800080; text-decoration-color: #800080; font-weight: bold\">1111111111111111111111111111111111111111</span>\n",
       "L:000000000000000000000000000000<span style=\"color: #800080; text-decoration-color: #800080; font-weight: bold\">1111111111111111111111111111111111111111</span>\n",
       "</pre>\n"
      ],
      "text/plain": [
       "P:000000000000000000000000000000\u001b[1;35m1111111111111111111111111111111111111111\u001b[0m\n",
       "L:000000000000000000000000000000\u001b[1;35m1111111111111111111111111111111111111111\u001b[0m\n"
      ]
     },
     "metadata": {},
     "output_type": "display_data"
    },
    {
     "data": {
      "text/html": [
       "<pre style=\"white-space:pre;overflow-x:auto;line-height:normal;font-family:Menlo,'DejaVu Sans Mono',consolas,'Courier New',monospace\">P:<span style=\"color: #800080; text-decoration-color: #800080; font-weight: bold\">11111111111111111111111111111111111111111</span>00000000000000000000000000000\n",
       "L:<span style=\"color: #800080; text-decoration-color: #800080; font-weight: bold\">11111111111111111111111111111111111111111</span>00000000000000000000000000000\n",
       "</pre>\n"
      ],
      "text/plain": [
       "P:\u001b[1;35m11111111111111111111111111111111111111111\u001b[0m00000000000000000000000000000\n",
       "L:\u001b[1;35m11111111111111111111111111111111111111111\u001b[0m00000000000000000000000000000\n"
      ]
     },
     "metadata": {},
     "output_type": "display_data"
    },
    {
     "data": {
      "text/html": [
       "<pre style=\"white-space:pre;overflow-x:auto;line-height:normal;font-family:Menlo,'DejaVu Sans Mono',consolas,'Courier New',monospace\">P:0000000000000000000000000000000000000000000000000000000000000000000000\n",
       "L:0000000000000000000000000000000000000000000000000000000000000000000000\n",
       "</pre>\n"
      ],
      "text/plain": [
       "P:0000000000000000000000000000000000000000000000000000000000000000000000\n",
       "L:0000000000000000000000000000000000000000000000000000000000000000000000\n"
      ]
     },
     "metadata": {},
     "output_type": "display_data"
    },
    {
     "data": {
      "text/html": [
       "<pre style=\"white-space:pre;overflow-x:auto;line-height:normal;font-family:Menlo,'DejaVu Sans Mono',consolas,'Courier New',monospace\">P:0000000000000000000000000000000000000000000000000000000000000000000000\n",
       "L:0000000000000000000000000000000000000000000000000000000000000000000000\n",
       "</pre>\n"
      ],
      "text/plain": [
       "P:0000000000000000000000000000000000000000000000000000000000000000000000\n",
       "L:0000000000000000000000000000000000000000000000000000000000000000000000\n"
      ]
     },
     "metadata": {},
     "output_type": "display_data"
    },
    {
     "data": {
      "text/html": [
       "<pre style=\"white-space:pre;overflow-x:auto;line-height:normal;font-family:Menlo,'DejaVu Sans Mono',consolas,'Courier New',monospace\">P:0000000000000000000000000000000000000000000000000000000000000000000000\n",
       "L:0000000000000000000000000000000000000000000000000000000000000000000000\n",
       "</pre>\n"
      ],
      "text/plain": [
       "P:0000000000000000000000000000000000000000000000000000000000000000000000\n",
       "L:0000000000000000000000000000000000000000000000000000000000000000000000\n"
      ]
     },
     "metadata": {},
     "output_type": "display_data"
    },
    {
     "data": {
      "text/html": [
       "<pre style=\"white-space:pre;overflow-x:auto;line-height:normal;font-family:Menlo,'DejaVu Sans Mono',consolas,'Courier New',monospace\">P:0000000000000000000000000000000000000000000000000000000000000000000000\n",
       "L:0000000000000000000000000000000000000000000000000000000000000000000000\n",
       "</pre>\n"
      ],
      "text/plain": [
       "P:0000000000000000000000000000000000000000000000000000000000000000000000\n",
       "L:0000000000000000000000000000000000000000000000000000000000000000000000\n"
      ]
     },
     "metadata": {},
     "output_type": "display_data"
    },
    {
     "data": {
      "text/html": [
       "<pre style=\"white-space:pre;overflow-x:auto;line-height:normal;font-family:Menlo,'DejaVu Sans Mono',consolas,'Courier New',monospace\">P:0000000000000000000000000000000000000000000000000000000000000000000000\n",
       "L:0000000000000000000000000000000000000000000000000000000000000000000000\n",
       "</pre>\n"
      ],
      "text/plain": [
       "P:0000000000000000000000000000000000000000000000000000000000000000000000\n",
       "L:0000000000000000000000000000000000000000000000000000000000000000000000\n"
      ]
     },
     "metadata": {},
     "output_type": "display_data"
    },
    {
     "data": {
      "text/html": [
       "<pre style=\"white-space:pre;overflow-x:auto;line-height:normal;font-family:Menlo,'DejaVu Sans Mono',consolas,'Courier New',monospace\">P:0000000000000000000000000000000000000000000000000000000000000000000000\n",
       "L:0000000000000000000000000000000000000000000000000000000000000000000000\n",
       "</pre>\n"
      ],
      "text/plain": [
       "P:0000000000000000000000000000000000000000000000000000000000000000000000\n",
       "L:0000000000000000000000000000000000000000000000000000000000000000000000\n"
      ]
     },
     "metadata": {},
     "output_type": "display_data"
    },
    {
     "data": {
      "text/html": [
       "<pre style=\"white-space:pre;overflow-x:auto;line-height:normal;font-family:Menlo,'DejaVu Sans Mono',consolas,'Courier New',monospace\">P:0000000000000000000000000000000000000000000000000000000000000000000000\n",
       "L:0000000000000000000000000000000000000000000000000000000000000000000000\n",
       "</pre>\n"
      ],
      "text/plain": [
       "P:0000000000000000000000000000000000000000000000000000000000000000000000\n",
       "L:0000000000000000000000000000000000000000000000000000000000000000000000\n"
      ]
     },
     "metadata": {},
     "output_type": "display_data"
    },
    {
     "data": {
      "text/html": [
       "<pre style=\"white-space:pre;overflow-x:auto;line-height:normal;font-family:Menlo,'DejaVu Sans Mono',consolas,'Courier New',monospace\">P:0000000000000000000000000000000000000000000000000000000000000000000000\n",
       "L:0000000000000000000000000000000000000000000000000000000000000000000000\n",
       "</pre>\n"
      ],
      "text/plain": [
       "P:0000000000000000000000000000000000000000000000000000000000000000000000\n",
       "L:0000000000000000000000000000000000000000000000000000000000000000000000\n"
      ]
     },
     "metadata": {},
     "output_type": "display_data"
    },
    {
     "data": {
      "text/html": [
       "<pre style=\"white-space:pre;overflow-x:auto;line-height:normal;font-family:Menlo,'DejaVu Sans Mono',consolas,'Courier New',monospace\">P:0000000000000000000000000000000000000000000000000000000000000000000000\n",
       "L:0000000000000000000000000000000000000000000000000000000000000000000000\n",
       "</pre>\n"
      ],
      "text/plain": [
       "P:0000000000000000000000000000000000000000000000000000000000000000000000\n",
       "L:0000000000000000000000000000000000000000000000000000000000000000000000\n"
      ]
     },
     "metadata": {},
     "output_type": "display_data"
    },
    {
     "data": {
      "text/html": [
       "<pre style=\"white-space:pre;overflow-x:auto;line-height:normal;font-family:Menlo,'DejaVu Sans Mono',consolas,'Courier New',monospace\">P:0000000000000000000000000000000000000000000000000000000000000000000000\n",
       "L:0000000000000000000000000000000000000000000000000000000000000000000000\n",
       "</pre>\n"
      ],
      "text/plain": [
       "P:0000000000000000000000000000000000000000000000000000000000000000000000\n",
       "L:0000000000000000000000000000000000000000000000000000000000000000000000\n"
      ]
     },
     "metadata": {},
     "output_type": "display_data"
    },
    {
     "data": {
      "text/html": [
       "<pre style=\"white-space:pre;overflow-x:auto;line-height:normal;font-family:Menlo,'DejaVu Sans Mono',consolas,'Courier New',monospace\">P:0000000000000000000000000000000000000000000000000000000000000000000000\n",
       "L:0000000000000000000000000000000000000000000000000000000000000000000000\n",
       "</pre>\n"
      ],
      "text/plain": [
       "P:0000000000000000000000000000000000000000000000000000000000000000000000\n",
       "L:0000000000000000000000000000000000000000000000000000000000000000000000\n"
      ]
     },
     "metadata": {},
     "output_type": "display_data"
    },
    {
     "data": {
      "text/html": [
       "<pre style=\"white-space:pre;overflow-x:auto;line-height:normal;font-family:Menlo,'DejaVu Sans Mono',consolas,'Courier New',monospace\">P:0000000000000000000000000000000000000000000000000000000000000000000000\n",
       "L:0000000000000000000000000000000000000000000000000000000000000000000000\n",
       "</pre>\n"
      ],
      "text/plain": [
       "P:0000000000000000000000000000000000000000000000000000000000000000000000\n",
       "L:0000000000000000000000000000000000000000000000000000000000000000000000\n"
      ]
     },
     "metadata": {},
     "output_type": "display_data"
    },
    {
     "data": {
      "text/html": [
       "<pre style=\"white-space:pre;overflow-x:auto;line-height:normal;font-family:Menlo,'DejaVu Sans Mono',consolas,'Courier New',monospace\">P:0000000000000000000000000000000000000000000000000000000000000000000000\n",
       "L:0000000000000000000000000000000000000000000000000000000000000000000000\n",
       "</pre>\n"
      ],
      "text/plain": [
       "P:0000000000000000000000000000000000000000000000000000000000000000000000\n",
       "L:0000000000000000000000000000000000000000000000000000000000000000000000\n"
      ]
     },
     "metadata": {},
     "output_type": "display_data"
    },
    {
     "data": {
      "text/html": [
       "<pre style=\"white-space:pre;overflow-x:auto;line-height:normal;font-family:Menlo,'DejaVu Sans Mono',consolas,'Courier New',monospace\">P:0000000000000000000000000000000000000000000000000000000000000000000000\n",
       "L:0000000000000000000000000000000000000000000000000000000000000000000000\n",
       "</pre>\n"
      ],
      "text/plain": [
       "P:0000000000000000000000000000000000000000000000000000000000000000000000\n",
       "L:0000000000000000000000000000000000000000000000000000000000000000000000\n"
      ]
     },
     "metadata": {},
     "output_type": "display_data"
    },
    {
     "data": {
      "text/html": [
       "<pre style=\"white-space:pre;overflow-x:auto;line-height:normal;font-family:Menlo,'DejaVu Sans Mono',consolas,'Courier New',monospace\">P:0000000000000000000000000000000000000000000000000000000000000000000000\n",
       "L:0000000000000000000000000000000000000000000000000000000000000000000000\n",
       "</pre>\n"
      ],
      "text/plain": [
       "P:0000000000000000000000000000000000000000000000000000000000000000000000\n",
       "L:0000000000000000000000000000000000000000000000000000000000000000000000\n"
      ]
     },
     "metadata": {},
     "output_type": "display_data"
    },
    {
     "data": {
      "text/html": [
       "<pre style=\"white-space:pre;overflow-x:auto;line-height:normal;font-family:Menlo,'DejaVu Sans Mono',consolas,'Courier New',monospace\">P:0000000000000000000000000000000000000000000000000000000000000000000000\n",
       "L:0000000000000000000000000000000000000000000000000000000000000000000000\n",
       "</pre>\n"
      ],
      "text/plain": [
       "P:0000000000000000000000000000000000000000000000000000000000000000000000\n",
       "L:0000000000000000000000000000000000000000000000000000000000000000000000\n"
      ]
     },
     "metadata": {},
     "output_type": "display_data"
    },
    {
     "data": {
      "text/html": [
       "<pre style=\"white-space:pre;overflow-x:auto;line-height:normal;font-family:Menlo,'DejaVu Sans Mono',consolas,'Courier New',monospace\">P:0000000000000000000000000000000000000000000000000000000000000000000000\n",
       "L:0000000000000000000000000000000000000000000000000000000000000000000000\n",
       "</pre>\n"
      ],
      "text/plain": [
       "P:0000000000000000000000000000000000000000000000000000000000000000000000\n",
       "L:0000000000000000000000000000000000000000000000000000000000000000000000\n"
      ]
     },
     "metadata": {},
     "output_type": "display_data"
    },
    {
     "data": {
      "text/html": [
       "<pre style=\"white-space:pre;overflow-x:auto;line-height:normal;font-family:Menlo,'DejaVu Sans Mono',consolas,'Courier New',monospace\">P:0000000000000000000000000000000000000000000000000000000000000000000000\n",
       "L:0000000000000000000000000000000000000000000000000000000000000000000000\n",
       "</pre>\n"
      ],
      "text/plain": [
       "P:0000000000000000000000000000000000000000000000000000000000000000000000\n",
       "L:0000000000000000000000000000000000000000000000000000000000000000000000\n"
      ]
     },
     "metadata": {},
     "output_type": "display_data"
    },
    {
     "data": {
      "text/html": [
       "<pre style=\"white-space:pre;overflow-x:auto;line-height:normal;font-family:Menlo,'DejaVu Sans Mono',consolas,'Courier New',monospace\">P:0000000000000000000000000000000000000000000000000000000000000000000000\n",
       "L:0000000000000000000000000000000000000000000000000000000000000000000000\n",
       "</pre>\n"
      ],
      "text/plain": [
       "P:0000000000000000000000000000000000000000000000000000000000000000000000\n",
       "L:0000000000000000000000000000000000000000000000000000000000000000000000\n"
      ]
     },
     "metadata": {},
     "output_type": "display_data"
    },
    {
     "data": {
      "text/html": [
       "<pre style=\"white-space:pre;overflow-x:auto;line-height:normal;font-family:Menlo,'DejaVu Sans Mono',consolas,'Courier New',monospace\">P:0000000000000000000000000000000000000000000000000000000000000000000000\n",
       "L:0000000000000000000000000000000000000000000000000000000000000000000000\n",
       "</pre>\n"
      ],
      "text/plain": [
       "P:0000000000000000000000000000000000000000000000000000000000000000000000\n",
       "L:0000000000000000000000000000000000000000000000000000000000000000000000\n"
      ]
     },
     "metadata": {},
     "output_type": "display_data"
    },
    {
     "data": {
      "text/html": [
       "<pre style=\"white-space:pre;overflow-x:auto;line-height:normal;font-family:Menlo,'DejaVu Sans Mono',consolas,'Courier New',monospace\">P:0000000000000000000000000000000000000000000000000000000000000000000000\n",
       "L:0000000000000000000000000000000000000000000000000000000000000000000000\n",
       "</pre>\n"
      ],
      "text/plain": [
       "P:0000000000000000000000000000000000000000000000000000000000000000000000\n",
       "L:0000000000000000000000000000000000000000000000000000000000000000000000\n"
      ]
     },
     "metadata": {},
     "output_type": "display_data"
    },
    {
     "data": {
      "text/html": [
       "<pre style=\"white-space:pre;overflow-x:auto;line-height:normal;font-family:Menlo,'DejaVu Sans Mono',consolas,'Courier New',monospace\">P:0000000000000000000000000000000000000000000000000000000000000000000000\n",
       "L:0000000000000000000000000000000000000000000000000000000000000000000000\n",
       "</pre>\n"
      ],
      "text/plain": [
       "P:0000000000000000000000000000000000000000000000000000000000000000000000\n",
       "L:0000000000000000000000000000000000000000000000000000000000000000000000\n"
      ]
     },
     "metadata": {},
     "output_type": "display_data"
    },
    {
     "data": {
      "text/html": [
       "<pre style=\"white-space:pre;overflow-x:auto;line-height:normal;font-family:Menlo,'DejaVu Sans Mono',consolas,'Courier New',monospace\">P:0000000000000000000000000000000000000000000000000000000000000000000000\n",
       "L:0000000000000000000000000000000000000000000000000000000000000000000000\n",
       "</pre>\n"
      ],
      "text/plain": [
       "P:0000000000000000000000000000000000000000000000000000000000000000000000\n",
       "L:0000000000000000000000000000000000000000000000000000000000000000000000\n"
      ]
     },
     "metadata": {},
     "output_type": "display_data"
    },
    {
     "data": {
      "text/html": [
       "<pre style=\"white-space:pre;overflow-x:auto;line-height:normal;font-family:Menlo,'DejaVu Sans Mono',consolas,'Courier New',monospace\">P:0000000000000000000000000000000000000000000000000000000000000000000000\n",
       "L:0000000000000000000000000000000000000000000000000000000000000000000000\n",
       "</pre>\n"
      ],
      "text/plain": [
       "P:0000000000000000000000000000000000000000000000000000000000000000000000\n",
       "L:0000000000000000000000000000000000000000000000000000000000000000000000\n"
      ]
     },
     "metadata": {},
     "output_type": "display_data"
    },
    {
     "data": {
      "text/html": [
       "<pre style=\"white-space:pre;overflow-x:auto;line-height:normal;font-family:Menlo,'DejaVu Sans Mono',consolas,'Courier New',monospace\">P:0000000000000000000000000000000000000000000000000000000000000000000000\n",
       "L:0000000000000000000000000000000000000000000000000000000000000000000000\n",
       "</pre>\n"
      ],
      "text/plain": [
       "P:0000000000000000000000000000000000000000000000000000000000000000000000\n",
       "L:0000000000000000000000000000000000000000000000000000000000000000000000\n"
      ]
     },
     "metadata": {},
     "output_type": "display_data"
    },
    {
     "data": {
      "text/html": [
       "<pre style=\"white-space:pre;overflow-x:auto;line-height:normal;font-family:Menlo,'DejaVu Sans Mono',consolas,'Courier New',monospace\">P:0000000000000000000000000000000000000000000000000000000000000000000000\n",
       "L:0000000000000000000000000000000000000000000000000000000000000000000000\n",
       "</pre>\n"
      ],
      "text/plain": [
       "P:0000000000000000000000000000000000000000000000000000000000000000000000\n",
       "L:0000000000000000000000000000000000000000000000000000000000000000000000\n"
      ]
     },
     "metadata": {},
     "output_type": "display_data"
    },
    {
     "data": {
      "text/html": [
       "<pre style=\"white-space:pre;overflow-x:auto;line-height:normal;font-family:Menlo,'DejaVu Sans Mono',consolas,'Courier New',monospace\">P:0000000000000000000000000000000000000000000000000000000000000000000000\n",
       "L:0000000000000000000000000000000000000000000000000000000000000000000000\n",
       "</pre>\n"
      ],
      "text/plain": [
       "P:0000000000000000000000000000000000000000000000000000000000000000000000\n",
       "L:0000000000000000000000000000000000000000000000000000000000000000000000\n"
      ]
     },
     "metadata": {},
     "output_type": "display_data"
    },
    {
     "data": {
      "text/html": [
       "<pre style=\"white-space:pre;overflow-x:auto;line-height:normal;font-family:Menlo,'DejaVu Sans Mono',consolas,'Courier New',monospace\">P:0000000000000000000000000000000000000000000000000000000000000000000000\n",
       "L:0000000000000000000000000000000000000000000000000000000000000000000000\n",
       "</pre>\n"
      ],
      "text/plain": [
       "P:0000000000000000000000000000000000000000000000000000000000000000000000\n",
       "L:0000000000000000000000000000000000000000000000000000000000000000000000\n"
      ]
     },
     "metadata": {},
     "output_type": "display_data"
    },
    {
     "data": {
      "text/html": [
       "<pre style=\"white-space:pre;overflow-x:auto;line-height:normal;font-family:Menlo,'DejaVu Sans Mono',consolas,'Courier New',monospace\">P:0000000000000000000000000000000000000000000000000000000000000000000000\n",
       "L:0000000000000000000000000000000000000000000000000000000000000000000000\n",
       "</pre>\n"
      ],
      "text/plain": [
       "P:0000000000000000000000000000000000000000000000000000000000000000000000\n",
       "L:0000000000000000000000000000000000000000000000000000000000000000000000\n"
      ]
     },
     "metadata": {},
     "output_type": "display_data"
    },
    {
     "data": {
      "text/html": [
       "<pre style=\"white-space:pre;overflow-x:auto;line-height:normal;font-family:Menlo,'DejaVu Sans Mono',consolas,'Courier New',monospace\">P:0000000000000000000000000000000000000000000000000000000000000000000000\n",
       "L:0000000000000000000000000000000000000000000000000000000000000000000000\n",
       "</pre>\n"
      ],
      "text/plain": [
       "P:0000000000000000000000000000000000000000000000000000000000000000000000\n",
       "L:0000000000000000000000000000000000000000000000000000000000000000000000\n"
      ]
     },
     "metadata": {},
     "output_type": "display_data"
    },
    {
     "data": {
      "text/html": [
       "<pre style=\"white-space:pre;overflow-x:auto;line-height:normal;font-family:Menlo,'DejaVu Sans Mono',consolas,'Courier New',monospace\">P:0000000000000000000000000000000000000000000000000000000000000000000000\n",
       "L:0000000000000000000000000000000000000000000000000000000000000000000000\n",
       "</pre>\n"
      ],
      "text/plain": [
       "P:0000000000000000000000000000000000000000000000000000000000000000000000\n",
       "L:0000000000000000000000000000000000000000000000000000000000000000000000\n"
      ]
     },
     "metadata": {},
     "output_type": "display_data"
    },
    {
     "data": {
      "text/html": [
       "<pre style=\"white-space:pre;overflow-x:auto;line-height:normal;font-family:Menlo,'DejaVu Sans Mono',consolas,'Courier New',monospace\">P:0000000000000000000000000000000000000000000000000000000000000000000000\n",
       "L:0000000000000000000000000000000000000000000000000000000000000000000000\n",
       "</pre>\n"
      ],
      "text/plain": [
       "P:0000000000000000000000000000000000000000000000000000000000000000000000\n",
       "L:0000000000000000000000000000000000000000000000000000000000000000000000\n"
      ]
     },
     "metadata": {},
     "output_type": "display_data"
    },
    {
     "data": {
      "text/html": [
       "<pre style=\"white-space:pre;overflow-x:auto;line-height:normal;font-family:Menlo,'DejaVu Sans Mono',consolas,'Courier New',monospace\">P:0000000000000000000000000000000000000000000000000000000000000000000000\n",
       "L:0000000000000000000000000000000000000000000000000000000000000000000000\n",
       "</pre>\n"
      ],
      "text/plain": [
       "P:0000000000000000000000000000000000000000000000000000000000000000000000\n",
       "L:0000000000000000000000000000000000000000000000000000000000000000000000\n"
      ]
     },
     "metadata": {},
     "output_type": "display_data"
    },
    {
     "data": {
      "text/html": [
       "<pre style=\"white-space:pre;overflow-x:auto;line-height:normal;font-family:Menlo,'DejaVu Sans Mono',consolas,'Courier New',monospace\">P:0000000000000000000000000000000000000000000000000000000000000000000000\n",
       "L:0000000000000000000000000000000000000000000000000000000000000000000000\n",
       "</pre>\n"
      ],
      "text/plain": [
       "P:0000000000000000000000000000000000000000000000000000000000000000000000\n",
       "L:0000000000000000000000000000000000000000000000000000000000000000000000\n"
      ]
     },
     "metadata": {},
     "output_type": "display_data"
    },
    {
     "data": {
      "text/html": [
       "<pre style=\"white-space:pre;overflow-x:auto;line-height:normal;font-family:Menlo,'DejaVu Sans Mono',consolas,'Courier New',monospace\">P:0000000000000000000000000000000000000000000000000000000000000000000000\n",
       "L:0000000000000000000000000000000000000000000000000000000000000000000000\n",
       "</pre>\n"
      ],
      "text/plain": [
       "P:0000000000000000000000000000000000000000000000000000000000000000000000\n",
       "L:0000000000000000000000000000000000000000000000000000000000000000000000\n"
      ]
     },
     "metadata": {},
     "output_type": "display_data"
    },
    {
     "data": {
      "text/html": [
       "<pre style=\"white-space:pre;overflow-x:auto;line-height:normal;font-family:Menlo,'DejaVu Sans Mono',consolas,'Courier New',monospace\">P:0000000000000000000000000000000000000000000000000000000000000000000000\n",
       "L:0000000000000000000000000000000000000000000000000000000000000000000000\n",
       "</pre>\n"
      ],
      "text/plain": [
       "P:0000000000000000000000000000000000000000000000000000000000000000000000\n",
       "L:0000000000000000000000000000000000000000000000000000000000000000000000\n"
      ]
     },
     "metadata": {},
     "output_type": "display_data"
    },
    {
     "data": {
      "text/html": [
       "<pre style=\"white-space:pre;overflow-x:auto;line-height:normal;font-family:Menlo,'DejaVu Sans Mono',consolas,'Courier New',monospace\">P:0000000000000000000000000000000000000000000000000000000000000000000000\n",
       "L:0000000000000000000000000000000000000000000000000000000000000000000000\n",
       "</pre>\n"
      ],
      "text/plain": [
       "P:0000000000000000000000000000000000000000000000000000000000000000000000\n",
       "L:0000000000000000000000000000000000000000000000000000000000000000000000\n"
      ]
     },
     "metadata": {},
     "output_type": "display_data"
    },
    {
     "data": {
      "text/html": [
       "<pre style=\"white-space:pre;overflow-x:auto;line-height:normal;font-family:Menlo,'DejaVu Sans Mono',consolas,'Courier New',monospace\">P:0000000000000000000000000000000000000000000000000000000000000000000000\n",
       "L:0000000000000000000000000000000000000000000000000000000000000000000000\n",
       "</pre>\n"
      ],
      "text/plain": [
       "P:0000000000000000000000000000000000000000000000000000000000000000000000\n",
       "L:0000000000000000000000000000000000000000000000000000000000000000000000\n"
      ]
     },
     "metadata": {},
     "output_type": "display_data"
    },
    {
     "data": {
      "text/html": [
       "<pre style=\"white-space:pre;overflow-x:auto;line-height:normal;font-family:Menlo,'DejaVu Sans Mono',consolas,'Courier New',monospace\">P:0000000000000000000000000000000000000000000000000000000000000000000000\n",
       "L:0000000000000000000000000000000000000000000000000000000000000000000000\n",
       "</pre>\n"
      ],
      "text/plain": [
       "P:0000000000000000000000000000000000000000000000000000000000000000000000\n",
       "L:0000000000000000000000000000000000000000000000000000000000000000000000\n"
      ]
     },
     "metadata": {},
     "output_type": "display_data"
    },
    {
     "data": {
      "text/html": [
       "<pre style=\"white-space:pre;overflow-x:auto;line-height:normal;font-family:Menlo,'DejaVu Sans Mono',consolas,'Courier New',monospace\">P:0000000000000000000000000000000000000000000000000000000000000000000000\n",
       "L:0000000000000000000000000000000000000000000000000000000000000000000000\n",
       "</pre>\n"
      ],
      "text/plain": [
       "P:0000000000000000000000000000000000000000000000000000000000000000000000\n",
       "L:0000000000000000000000000000000000000000000000000000000000000000000000\n"
      ]
     },
     "metadata": {},
     "output_type": "display_data"
    },
    {
     "data": {
      "text/html": [
       "<pre style=\"white-space:pre;overflow-x:auto;line-height:normal;font-family:Menlo,'DejaVu Sans Mono',consolas,'Courier New',monospace\">P:0000000000000000000000000000000000000000000000000000000000000000000000\n",
       "L:0000000000000000000000000000000000000000000000000000000000000000000000\n",
       "</pre>\n"
      ],
      "text/plain": [
       "P:0000000000000000000000000000000000000000000000000000000000000000000000\n",
       "L:0000000000000000000000000000000000000000000000000000000000000000000000\n"
      ]
     },
     "metadata": {},
     "output_type": "display_data"
    },
    {
     "data": {
      "text/html": [
       "<pre style=\"white-space:pre;overflow-x:auto;line-height:normal;font-family:Menlo,'DejaVu Sans Mono',consolas,'Courier New',monospace\">P:0000000000000000000000000000000000000000000000000000000000000000000000\n",
       "L:0000000000000000000000000000000000000000000000000000000000000000000000\n",
       "</pre>\n"
      ],
      "text/plain": [
       "P:0000000000000000000000000000000000000000000000000000000000000000000000\n",
       "L:0000000000000000000000000000000000000000000000000000000000000000000000\n"
      ]
     },
     "metadata": {},
     "output_type": "display_data"
    },
    {
     "data": {
      "text/html": [
       "<pre style=\"white-space:pre;overflow-x:auto;line-height:normal;font-family:Menlo,'DejaVu Sans Mono',consolas,'Courier New',monospace\">P:0000000000000000000000000000000000000000000000000000000000000000000000\n",
       "L:0000000000000000000000000000000000000000000000000000000000000000000000\n",
       "</pre>\n"
      ],
      "text/plain": [
       "P:0000000000000000000000000000000000000000000000000000000000000000000000\n",
       "L:0000000000000000000000000000000000000000000000000000000000000000000000\n"
      ]
     },
     "metadata": {},
     "output_type": "display_data"
    },
    {
     "data": {
      "text/html": [
       "<pre style=\"white-space:pre;overflow-x:auto;line-height:normal;font-family:Menlo,'DejaVu Sans Mono',consolas,'Courier New',monospace\">P:0000000000000000000000000000000000000000000000000000\n",
       "L:0000000000000000000000000000000000000000000000000000\n",
       "</pre>\n"
      ],
      "text/plain": [
       "P:0000000000000000000000000000000000000000000000000000\n",
       "L:0000000000000000000000000000000000000000000000000000\n"
      ]
     },
     "metadata": {},
     "output_type": "display_data"
    }
   ],
   "source": [
    "alignment_predict(majority_voting(cp[0]), cl[0])"
   ]
  },
  {
   "cell_type": "code",
   "execution_count": null,
   "id": "fbfd3278-c98c-4cba-a9f9-d2e659d0e9dd",
   "metadata": {},
   "outputs": [],
   "source": []
  },
  {
   "cell_type": "code",
   "execution_count": 12,
   "id": "cc2eb1e0-649b-436f-aa77-44fe0e39b0e9",
   "metadata": {},
   "outputs": [],
   "source": [
    "hp, hs, hl = test_smooth(heyna_data_foler)"
   ]
  },
  {
   "cell_type": "code",
   "execution_count": 44,
   "id": "6c15b209-b433-4325-adb6-df7cb8bd0ad3",
   "metadata": {
    "scrolled": true
   },
   "outputs": [
    {
     "data": {
      "text/html": [
       "<pre style=\"white-space:pre;overflow-x:auto;line-height:normal;font-family:Menlo,'DejaVu Sans Mono',consolas,'Courier New',monospace\">P:0000000000000000000000000000000000000000000000000000000000000000000000\n",
       "L:0000000000000000000000000000000000000000000000000000000000000000000000\n",
       "</pre>\n"
      ],
      "text/plain": [
       "P:0000000000000000000000000000000000000000000000000000000000000000000000\n",
       "L:0000000000000000000000000000000000000000000000000000000000000000000000\n"
      ]
     },
     "metadata": {},
     "output_type": "display_data"
    },
    {
     "data": {
      "text/html": [
       "<pre style=\"white-space:pre;overflow-x:auto;line-height:normal;font-family:Menlo,'DejaVu Sans Mono',consolas,'Courier New',monospace\">P:0000000000000000000000000000000000000000000000000000000000000000000000\n",
       "L:0000000000000000000000000000000000000000000000000000000000000000000000\n",
       "</pre>\n"
      ],
      "text/plain": [
       "P:0000000000000000000000000000000000000000000000000000000000000000000000\n",
       "L:0000000000000000000000000000000000000000000000000000000000000000000000\n"
      ]
     },
     "metadata": {},
     "output_type": "display_data"
    },
    {
     "data": {
      "text/html": [
       "<pre style=\"white-space:pre;overflow-x:auto;line-height:normal;font-family:Menlo,'DejaVu Sans Mono',consolas,'Courier New',monospace\">P:0000000000000000000000000000000000000000000000000000000000000000000000\n",
       "L:0000000000000000000000000000000000000000000000000000000000000000000000\n",
       "</pre>\n"
      ],
      "text/plain": [
       "P:0000000000000000000000000000000000000000000000000000000000000000000000\n",
       "L:0000000000000000000000000000000000000000000000000000000000000000000000\n"
      ]
     },
     "metadata": {},
     "output_type": "display_data"
    },
    {
     "data": {
      "text/html": [
       "<pre style=\"white-space:pre;overflow-x:auto;line-height:normal;font-family:Menlo,'DejaVu Sans Mono',consolas,'Courier New',monospace\">P:0000000000000000000000000000000000000000000000000000000000000000000000\n",
       "L:0000000000000000000000000000000000000000000000000000000000000000000000\n",
       "</pre>\n"
      ],
      "text/plain": [
       "P:0000000000000000000000000000000000000000000000000000000000000000000000\n",
       "L:0000000000000000000000000000000000000000000000000000000000000000000000\n"
      ]
     },
     "metadata": {},
     "output_type": "display_data"
    },
    {
     "data": {
      "text/html": [
       "<pre style=\"white-space:pre;overflow-x:auto;line-height:normal;font-family:Menlo,'DejaVu Sans Mono',consolas,'Courier New',monospace\">P:0000000000000000000000000000000000000000000000000000000000000000000000\n",
       "L:0000000000000000000000000000000000000000000000000000000000000000000000\n",
       "</pre>\n"
      ],
      "text/plain": [
       "P:0000000000000000000000000000000000000000000000000000000000000000000000\n",
       "L:0000000000000000000000000000000000000000000000000000000000000000000000\n"
      ]
     },
     "metadata": {},
     "output_type": "display_data"
    },
    {
     "data": {
      "text/html": [
       "<pre style=\"white-space:pre;overflow-x:auto;line-height:normal;font-family:Menlo,'DejaVu Sans Mono',consolas,'Courier New',monospace\">P:00000000000000000000000000000000000000000000000000000<span style=\"color: #800080; text-decoration-color: #800080; font-weight: bold\">1</span>000<span style=\"color: #800080; text-decoration-color: #800080; font-weight: bold\">1</span>00<span style=\"color: #800080; text-decoration-color: #800080; font-weight: bold\">1</span>00<span style=\"color: #800080; text-decoration-color: #800080; font-weight: bold\">1</span>000000\n",
       "L:0000000000000000000000000000000000000000000000000000000000000000000000\n",
       "</pre>\n"
      ],
      "text/plain": [
       "P:00000000000000000000000000000000000000000000000000000\u001b[1;35m1\u001b[0m000\u001b[1;35m1\u001b[0m00\u001b[1;35m1\u001b[0m00\u001b[1;35m1\u001b[0m000000\n",
       "L:0000000000000000000000000000000000000000000000000000000000000000000000\n"
      ]
     },
     "metadata": {},
     "output_type": "display_data"
    },
    {
     "data": {
      "text/html": [
       "<pre style=\"white-space:pre;overflow-x:auto;line-height:normal;font-family:Menlo,'DejaVu Sans Mono',consolas,'Courier New',monospace\">P:0000000000000000000000000000000000000000000000000000000000000000000000\n",
       "L:0000000000000000000000000000000000000000000000000000000000000000000000\n",
       "</pre>\n"
      ],
      "text/plain": [
       "P:0000000000000000000000000000000000000000000000000000000000000000000000\n",
       "L:0000000000000000000000000000000000000000000000000000000000000000000000\n"
      ]
     },
     "metadata": {},
     "output_type": "display_data"
    },
    {
     "data": {
      "text/html": [
       "<pre style=\"white-space:pre;overflow-x:auto;line-height:normal;font-family:Menlo,'DejaVu Sans Mono',consolas,'Courier New',monospace\">P:0000000000000000000000000000000000000000000000000000000000000000000000\n",
       "L:0000000000000000000000000000000000000000000000000000000000000000000000\n",
       "</pre>\n"
      ],
      "text/plain": [
       "P:0000000000000000000000000000000000000000000000000000000000000000000000\n",
       "L:0000000000000000000000000000000000000000000000000000000000000000000000\n"
      ]
     },
     "metadata": {},
     "output_type": "display_data"
    },
    {
     "data": {
      "text/html": [
       "<pre style=\"white-space:pre;overflow-x:auto;line-height:normal;font-family:Menlo,'DejaVu Sans Mono',consolas,'Courier New',monospace\">P:0000000000000000000000000000000000000000000000000000000000000000000000\n",
       "L:0000000000000000000000000000000000000000000000000000000000000000000000\n",
       "</pre>\n"
      ],
      "text/plain": [
       "P:0000000000000000000000000000000000000000000000000000000000000000000000\n",
       "L:0000000000000000000000000000000000000000000000000000000000000000000000\n"
      ]
     },
     "metadata": {},
     "output_type": "display_data"
    },
    {
     "data": {
      "text/html": [
       "<pre style=\"white-space:pre;overflow-x:auto;line-height:normal;font-family:Menlo,'DejaVu Sans Mono',consolas,'Courier New',monospace\">P:0000000000000000000000000000000000000000000000000000000000000000000000\n",
       "L:0000000000000000000000000000000000000000000000000000000000000000000000\n",
       "</pre>\n"
      ],
      "text/plain": [
       "P:0000000000000000000000000000000000000000000000000000000000000000000000\n",
       "L:0000000000000000000000000000000000000000000000000000000000000000000000\n"
      ]
     },
     "metadata": {},
     "output_type": "display_data"
    },
    {
     "data": {
      "text/html": [
       "<pre style=\"white-space:pre;overflow-x:auto;line-height:normal;font-family:Menlo,'DejaVu Sans Mono',consolas,'Courier New',monospace\">P:0000000000000000000000000000000000000000000000000000000000000000000000\n",
       "L:0000000000000000000000000000000000000000000000000000000000000000000000\n",
       "</pre>\n"
      ],
      "text/plain": [
       "P:0000000000000000000000000000000000000000000000000000000000000000000000\n",
       "L:0000000000000000000000000000000000000000000000000000000000000000000000\n"
      ]
     },
     "metadata": {},
     "output_type": "display_data"
    },
    {
     "data": {
      "text/html": [
       "<pre style=\"white-space:pre;overflow-x:auto;line-height:normal;font-family:Menlo,'DejaVu Sans Mono',consolas,'Courier New',monospace\">P:0000000000000000000000000000000000000000000000000000000000000000000000\n",
       "L:0000000000000000000000000000000000000000000000000000000000000000000000\n",
       "</pre>\n"
      ],
      "text/plain": [
       "P:0000000000000000000000000000000000000000000000000000000000000000000000\n",
       "L:0000000000000000000000000000000000000000000000000000000000000000000000\n"
      ]
     },
     "metadata": {},
     "output_type": "display_data"
    },
    {
     "data": {
      "text/html": [
       "<pre style=\"white-space:pre;overflow-x:auto;line-height:normal;font-family:Menlo,'DejaVu Sans Mono',consolas,'Courier New',monospace\">P:0000000000000000000000000000000000000000000000000000000000000000000000\n",
       "L:0000000000000000000000000000000000000000000000000000000000000000000000\n",
       "</pre>\n"
      ],
      "text/plain": [
       "P:0000000000000000000000000000000000000000000000000000000000000000000000\n",
       "L:0000000000000000000000000000000000000000000000000000000000000000000000\n"
      ]
     },
     "metadata": {},
     "output_type": "display_data"
    },
    {
     "data": {
      "text/html": [
       "<pre style=\"white-space:pre;overflow-x:auto;line-height:normal;font-family:Menlo,'DejaVu Sans Mono',consolas,'Courier New',monospace\">P:0000000000000000000000000000000000000000000000000000000000000000000000\n",
       "L:0000000000000000000000000000000000000000000000000000000000000000000000\n",
       "</pre>\n"
      ],
      "text/plain": [
       "P:0000000000000000000000000000000000000000000000000000000000000000000000\n",
       "L:0000000000000000000000000000000000000000000000000000000000000000000000\n"
      ]
     },
     "metadata": {},
     "output_type": "display_data"
    },
    {
     "data": {
      "text/html": [
       "<pre style=\"white-space:pre;overflow-x:auto;line-height:normal;font-family:Menlo,'DejaVu Sans Mono',consolas,'Courier New',monospace\">P:0000000000000000000000000000000000000000000000000000000000000000000000\n",
       "L:0000000000000000000000000000000000000000000000000000000000000000000000\n",
       "</pre>\n"
      ],
      "text/plain": [
       "P:0000000000000000000000000000000000000000000000000000000000000000000000\n",
       "L:0000000000000000000000000000000000000000000000000000000000000000000000\n"
      ]
     },
     "metadata": {},
     "output_type": "display_data"
    },
    {
     "data": {
      "text/html": [
       "<pre style=\"white-space:pre;overflow-x:auto;line-height:normal;font-family:Menlo,'DejaVu Sans Mono',consolas,'Courier New',monospace\">P:0000000000000000000000000000000000000000000000000000000000000000000000\n",
       "L:0000000000000000000000000000000000000000000000000000000000000000000000\n",
       "</pre>\n"
      ],
      "text/plain": [
       "P:0000000000000000000000000000000000000000000000000000000000000000000000\n",
       "L:0000000000000000000000000000000000000000000000000000000000000000000000\n"
      ]
     },
     "metadata": {},
     "output_type": "display_data"
    },
    {
     "data": {
      "text/html": [
       "<pre style=\"white-space:pre;overflow-x:auto;line-height:normal;font-family:Menlo,'DejaVu Sans Mono',consolas,'Courier New',monospace\">P:0000000000000000000000000000000000000000000000000000000000000000000000\n",
       "L:0000000000000000000000000000000000000000000000000000000000000000000000\n",
       "</pre>\n"
      ],
      "text/plain": [
       "P:0000000000000000000000000000000000000000000000000000000000000000000000\n",
       "L:0000000000000000000000000000000000000000000000000000000000000000000000\n"
      ]
     },
     "metadata": {},
     "output_type": "display_data"
    },
    {
     "data": {
      "text/html": [
       "<pre style=\"white-space:pre;overflow-x:auto;line-height:normal;font-family:Menlo,'DejaVu Sans Mono',consolas,'Courier New',monospace\">P:0000000000000000000000000000000000000000000000000000000000000000000000\n",
       "L:0000000000000000000000000000000000000000000000000000000000000000000000\n",
       "</pre>\n"
      ],
      "text/plain": [
       "P:0000000000000000000000000000000000000000000000000000000000000000000000\n",
       "L:0000000000000000000000000000000000000000000000000000000000000000000000\n"
      ]
     },
     "metadata": {},
     "output_type": "display_data"
    },
    {
     "data": {
      "text/html": [
       "<pre style=\"white-space:pre;overflow-x:auto;line-height:normal;font-family:Menlo,'DejaVu Sans Mono',consolas,'Courier New',monospace\">P:0000000000000000000000000000000000000000000000000000000000000000000000\n",
       "L:0000000000000000000000000000000000000000000000000000000000000000000000\n",
       "</pre>\n"
      ],
      "text/plain": [
       "P:0000000000000000000000000000000000000000000000000000000000000000000000\n",
       "L:0000000000000000000000000000000000000000000000000000000000000000000000\n"
      ]
     },
     "metadata": {},
     "output_type": "display_data"
    },
    {
     "data": {
      "text/html": [
       "<pre style=\"white-space:pre;overflow-x:auto;line-height:normal;font-family:Menlo,'DejaVu Sans Mono',consolas,'Courier New',monospace\">P:0000000000000000000000000000000000000000000000000000000000000000000000\n",
       "L:0000000000000000000000000000000000000000000000000000000000000000000000\n",
       "</pre>\n"
      ],
      "text/plain": [
       "P:0000000000000000000000000000000000000000000000000000000000000000000000\n",
       "L:0000000000000000000000000000000000000000000000000000000000000000000000\n"
      ]
     },
     "metadata": {},
     "output_type": "display_data"
    },
    {
     "data": {
      "text/html": [
       "<pre style=\"white-space:pre;overflow-x:auto;line-height:normal;font-family:Menlo,'DejaVu Sans Mono',consolas,'Courier New',monospace\">P:0000000000000000000000000000000000000000000000000000000000000000000000\n",
       "L:0000000000000000000000000000000000000000000000000000000000000000000000\n",
       "</pre>\n"
      ],
      "text/plain": [
       "P:0000000000000000000000000000000000000000000000000000000000000000000000\n",
       "L:0000000000000000000000000000000000000000000000000000000000000000000000\n"
      ]
     },
     "metadata": {},
     "output_type": "display_data"
    },
    {
     "data": {
      "text/html": [
       "<pre style=\"white-space:pre;overflow-x:auto;line-height:normal;font-family:Menlo,'DejaVu Sans Mono',consolas,'Courier New',monospace\">P:0000000000000000000000000000000000000000000000000000000000000000000000\n",
       "L:000000000000000000000000000000000<span style=\"color: #800080; text-decoration-color: #800080; font-weight: bold\">1111111111111111111111111111111111111</span>\n",
       "</pre>\n"
      ],
      "text/plain": [
       "P:0000000000000000000000000000000000000000000000000000000000000000000000\n",
       "L:000000000000000000000000000000000\u001b[1;35m1111111111111111111111111111111111111\u001b[0m\n"
      ]
     },
     "metadata": {},
     "output_type": "display_data"
    },
    {
     "data": {
      "text/html": [
       "<pre style=\"white-space:pre;overflow-x:auto;line-height:normal;font-family:Menlo,'DejaVu Sans Mono',consolas,'Courier New',monospace\">P:0000000000000000000000000000000000000000000000000000000000000000000000\n",
       "L:<span style=\"color: #800080; text-decoration-color: #800080; font-weight: bold\">11111111111111111111111111111111111111111111</span>00000000000000000000000000\n",
       "</pre>\n"
      ],
      "text/plain": [
       "P:0000000000000000000000000000000000000000000000000000000000000000000000\n",
       "L:\u001b[1;35m11111111111111111111111111111111111111111111\u001b[0m00000000000000000000000000\n"
      ]
     },
     "metadata": {},
     "output_type": "display_data"
    },
    {
     "data": {
      "text/html": [
       "<pre style=\"white-space:pre;overflow-x:auto;line-height:normal;font-family:Menlo,'DejaVu Sans Mono',consolas,'Courier New',monospace\">P:0000000000000000000000000000000000000000000000000000000000000000000000\n",
       "L:0000000000000000000000000000000000000000000000000000000000000000000000\n",
       "</pre>\n"
      ],
      "text/plain": [
       "P:0000000000000000000000000000000000000000000000000000000000000000000000\n",
       "L:0000000000000000000000000000000000000000000000000000000000000000000000\n"
      ]
     },
     "metadata": {},
     "output_type": "display_data"
    },
    {
     "data": {
      "text/html": [
       "<pre style=\"white-space:pre;overflow-x:auto;line-height:normal;font-family:Menlo,'DejaVu Sans Mono',consolas,'Courier New',monospace\">P:000000000000000000000000000000000000000000000000000000000000000000000<span style=\"color: #800080; text-decoration-color: #800080; font-weight: bold\">1</span>\n",
       "L:0000000000000000000000000000000000000000000000000000000000000000000000\n",
       "</pre>\n"
      ],
      "text/plain": [
       "P:000000000000000000000000000000000000000000000000000000000000000000000\u001b[1;35m1\u001b[0m\n",
       "L:0000000000000000000000000000000000000000000000000000000000000000000000\n"
      ]
     },
     "metadata": {},
     "output_type": "display_data"
    },
    {
     "data": {
      "text/html": [
       "<pre style=\"white-space:pre;overflow-x:auto;line-height:normal;font-family:Menlo,'DejaVu Sans Mono',consolas,'Courier New',monospace\">P:0000000000000000000000000000000000000000000000000000000000000000000000\n",
       "L:0000000000000000000000000000000000000000000000000000000000000000000000\n",
       "</pre>\n"
      ],
      "text/plain": [
       "P:0000000000000000000000000000000000000000000000000000000000000000000000\n",
       "L:0000000000000000000000000000000000000000000000000000000000000000000000\n"
      ]
     },
     "metadata": {},
     "output_type": "display_data"
    },
    {
     "data": {
      "text/html": [
       "<pre style=\"white-space:pre;overflow-x:auto;line-height:normal;font-family:Menlo,'DejaVu Sans Mono',consolas,'Courier New',monospace\">P:0000000000000000000000000000000000000000000000000000000000000000000000\n",
       "L:0000000000000000000000000000000000000000000000000000000000000000000000\n",
       "</pre>\n"
      ],
      "text/plain": [
       "P:0000000000000000000000000000000000000000000000000000000000000000000000\n",
       "L:0000000000000000000000000000000000000000000000000000000000000000000000\n"
      ]
     },
     "metadata": {},
     "output_type": "display_data"
    },
    {
     "data": {
      "text/html": [
       "<pre style=\"white-space:pre;overflow-x:auto;line-height:normal;font-family:Menlo,'DejaVu Sans Mono',consolas,'Courier New',monospace\">P:0000000000000000000000000000000000000000000000000000000000000000000000\n",
       "L:0000000000000000000000000000000000000000000000000000000000000000000000\n",
       "</pre>\n"
      ],
      "text/plain": [
       "P:0000000000000000000000000000000000000000000000000000000000000000000000\n",
       "L:0000000000000000000000000000000000000000000000000000000000000000000000\n"
      ]
     },
     "metadata": {},
     "output_type": "display_data"
    },
    {
     "data": {
      "text/html": [
       "<pre style=\"white-space:pre;overflow-x:auto;line-height:normal;font-family:Menlo,'DejaVu Sans Mono',consolas,'Courier New',monospace\">P:0000000000000000000000000000000000000000000000000000000000000000000000\n",
       "L:0000000000000000000000000000000000000000000000000000000000000000000000\n",
       "</pre>\n"
      ],
      "text/plain": [
       "P:0000000000000000000000000000000000000000000000000000000000000000000000\n",
       "L:0000000000000000000000000000000000000000000000000000000000000000000000\n"
      ]
     },
     "metadata": {},
     "output_type": "display_data"
    },
    {
     "data": {
      "text/html": [
       "<pre style=\"white-space:pre;overflow-x:auto;line-height:normal;font-family:Menlo,'DejaVu Sans Mono',consolas,'Courier New',monospace\">P:0000000000000000000000000000000000000000000000000000000000000000000000\n",
       "L:0000000000000000000000000000000000000000000000000000000000000000000000\n",
       "</pre>\n"
      ],
      "text/plain": [
       "P:0000000000000000000000000000000000000000000000000000000000000000000000\n",
       "L:0000000000000000000000000000000000000000000000000000000000000000000000\n"
      ]
     },
     "metadata": {},
     "output_type": "display_data"
    },
    {
     "data": {
      "text/html": [
       "<pre style=\"white-space:pre;overflow-x:auto;line-height:normal;font-family:Menlo,'DejaVu Sans Mono',consolas,'Courier New',monospace\">P:000000000000000000000000000000<span style=\"color: #800080; text-decoration-color: #800080; font-weight: bold\">111111111111</span>0<span style=\"color: #800080; text-decoration-color: #800080; font-weight: bold\">111</span>00<span style=\"color: #800080; text-decoration-color: #800080; font-weight: bold\">1111111111111111111111</span>\n",
       "L:0000000000000000000000000000000000000000000000000000000000000000000000\n",
       "</pre>\n"
      ],
      "text/plain": [
       "P:000000000000000000000000000000\u001b[1;35m111111111111\u001b[0m0\u001b[1;35m111\u001b[0m00\u001b[1;35m1111111111111111111111\u001b[0m\n",
       "L:0000000000000000000000000000000000000000000000000000000000000000000000\n"
      ]
     },
     "metadata": {},
     "output_type": "display_data"
    },
    {
     "data": {
      "text/html": [
       "<pre style=\"white-space:pre;overflow-x:auto;line-height:normal;font-family:Menlo,'DejaVu Sans Mono',consolas,'Courier New',monospace\">P:<span style=\"color: #800080; text-decoration-color: #800080; font-weight: bold\">11111111111111111111111111111111111111111</span>00000000000000000000000000000\n",
       "L:00000000000000000000000000000000000000000000000000000000000\n",
       "</pre>\n"
      ],
      "text/plain": [
       "P:\u001b[1;35m11111111111111111111111111111111111111111\u001b[0m00000000000000000000000000000\n",
       "L:00000000000000000000000000000000000000000000000000000000000\n"
      ]
     },
     "metadata": {},
     "output_type": "display_data"
    },
    {
     "ename": "ValueError",
     "evalue": "zip() argument 2 is shorter than argument 1",
     "output_type": "error",
     "traceback": [
      "\u001b[0;31m---------------------------------------------------------------------------\u001b[0m",
      "\u001b[0;31mValueError\u001b[0m                                Traceback (most recent call last)",
      "Cell \u001b[0;32mIn[44], line 1\u001b[0m\n\u001b[0;32m----> 1\u001b[0m \u001b[43malignment_predict\u001b[49m\u001b[43m(\u001b[49m\u001b[43mcp\u001b[49m\u001b[43m[\u001b[49m\u001b[38;5;241;43m0\u001b[39;49m\u001b[43m]\u001b[49m\u001b[43m,\u001b[49m\u001b[43m \u001b[49m\u001b[43mhp\u001b[49m\u001b[43m[\u001b[49m\u001b[38;5;241;43m0\u001b[39;49m\u001b[43m]\u001b[49m\u001b[43m)\u001b[49m\n",
      "File \u001b[0;32m/projects/b1171/ylk4626/project/DeepChopper/deepchopper/utils/print.py:96\u001b[0m, in \u001b[0;36malignment_predict\u001b[0;34m(prediction, label)\u001b[0m\n\u001b[1;32m     94\u001b[0m theme \u001b[38;5;241m=\u001b[39m Theme({\u001b[38;5;124m\"\u001b[39m\u001b[38;5;124mlabel.label\u001b[39m\u001b[38;5;124m\"\u001b[39m: \u001b[38;5;124m\"\u001b[39m\u001b[38;5;124mbold magenta\u001b[39m\u001b[38;5;124m\"\u001b[39m})\n\u001b[1;32m     95\u001b[0m console \u001b[38;5;241m=\u001b[39m Console(highlighter\u001b[38;5;241m=\u001b[39mLabelHighlighter(), theme\u001b[38;5;241m=\u001b[39mtheme)\n\u001b[0;32m---> 96\u001b[0m \u001b[38;5;28;01mfor\u001b[39;00m l1, l2 \u001b[38;5;129;01min\u001b[39;00m \u001b[38;5;28mzip\u001b[39m(textwrap\u001b[38;5;241m.\u001b[39mwrap(prediction_str), textwrap\u001b[38;5;241m.\u001b[39mwrap(label_str), strict\u001b[38;5;241m=\u001b[39m\u001b[38;5;28;01mTrue\u001b[39;00m):\n\u001b[1;32m     97\u001b[0m     ss \u001b[38;5;241m=\u001b[39m \u001b[38;5;124mf\u001b[39m\u001b[38;5;124m\"\u001b[39m\u001b[38;5;132;01m{\u001b[39;00mfront1\u001b[38;5;132;01m}\u001b[39;00m\u001b[38;5;132;01m{\u001b[39;00ml1\u001b[38;5;132;01m}\u001b[39;00m\u001b[38;5;130;01m\\n\u001b[39;00m\u001b[38;5;132;01m{\u001b[39;00mfront2\u001b[38;5;132;01m}\u001b[39;00m\u001b[38;5;132;01m{\u001b[39;00ml2\u001b[38;5;132;01m}\u001b[39;00m\u001b[38;5;124m\"\u001b[39m\n\u001b[1;32m     98\u001b[0m     console\u001b[38;5;241m.\u001b[39mprint(ss)\n",
      "\u001b[0;31mValueError\u001b[0m: zip() argument 2 is shorter than argument 1"
     ]
    }
   ],
   "source": [
    "alignment_predict(cp[0], hp[0])"
   ]
  },
  {
   "cell_type": "code",
   "execution_count": null,
   "id": "ad2ba74c-97cd-46eb-9fac-686ec52330d3",
   "metadata": {},
   "outputs": [],
   "source": []
  },
  {
   "cell_type": "code",
   "execution_count": 26,
   "id": "99262960-b5a6-4153-98c9-2b757e0ee47e",
   "metadata": {},
   "outputs": [
    {
     "data": {
      "text/plain": [
       "[(403, 404),\n",
       " (407, 408),\n",
       " (410, 411),\n",
       " (413, 414),\n",
       " (1749, 1750),\n",
       " (2130, 2146),\n",
       " (2148, 2211)]"
      ]
     },
     "execution_count": 26,
     "metadata": {},
     "output_type": "execute_result"
    }
   ],
   "source": [
    "smooth_label_region(true_predcition[0], 1, 1, 1)"
   ]
  },
  {
   "cell_type": "code",
   "execution_count": 28,
   "id": "c2f7f948-0a01-485d-9540-7311a032e815",
   "metadata": {},
   "outputs": [
    {
     "data": {
      "text/plain": [
       "[(2130, 2146), (2148, 2211)]"
      ]
     },
     "execution_count": 28,
     "metadata": {},
     "output_type": "execute_result"
    }
   ],
   "source": [
    "smooth_label_region(true_predcition[0], 1, 1, 2)"
   ]
  },
  {
   "cell_type": "code",
   "execution_count": null,
   "id": "b8778746-7eba-48b7-b2a8-4b547bc66682",
   "metadata": {},
   "outputs": [],
   "source": []
  }
 ],
 "metadata": {
  "kernelspec": {
   "display_name": "dc",
   "language": "python",
   "name": "dc"
  },
  "language_info": {
   "codemirror_mode": {
    "name": "ipython",
    "version": 3
   },
   "file_extension": ".py",
   "mimetype": "text/x-python",
   "name": "python",
   "nbconvert_exporter": "python",
   "pygments_lexer": "ipython3",
   "version": "3.10.13"
  }
 },
 "nbformat": 4,
 "nbformat_minor": 5
}
